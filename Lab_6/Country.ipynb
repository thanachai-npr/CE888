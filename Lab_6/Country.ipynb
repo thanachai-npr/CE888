{
  "nbformat": 4,
  "nbformat_minor": 0,
  "metadata": {
    "colab": {
      "name": "Country.ipynb",
      "provenance": [],
      "authorship_tag": "ABX9TyN49iGcgGJ5zhPOwUbfDwBw",
      "include_colab_link": true
    },
    "kernelspec": {
      "name": "python3",
      "display_name": "Python 3"
    },
    "accelerator": "GPU"
  },
  "cells": [
    {
      "cell_type": "markdown",
      "metadata": {
        "id": "view-in-github",
        "colab_type": "text"
      },
      "source": [
        "<a href=\"https://colab.research.google.com/github/thanachai-npr/CE888/blob/main/Lab_6/Country.ipynb\" target=\"_parent\"><img src=\"https://colab.research.google.com/assets/colab-badge.svg\" alt=\"Open In Colab\"/></a>"
      ]
    },
    {
      "cell_type": "code",
      "metadata": {
        "id": "6hiM1dc3Bo2w"
      },
      "source": [
        "import numpy as np\r\n",
        "import pandas as pd\r\n",
        "import matplotlib.pyplot as plt \r\n",
        "from sklearn import cluster, datasets, metrics\r\n",
        "import seaborn as sns\r\n",
        "from sklearn.preprocessing import StandardScaler\r\n",
        "from sklearn.decomposition import PCA\r\n"
      ],
      "execution_count": 7,
      "outputs": []
    },
    {
      "cell_type": "code",
      "metadata": {
        "id": "R_qqZguhB5e8"
      },
      "source": [
        "df_country = pd.read_csv(\"https://raw.githubusercontent.com/sagihaider/CE888_2021/main/Lab_6/Data/Country-data.csv\")"
      ],
      "execution_count": 8,
      "outputs": []
    },
    {
      "cell_type": "code",
      "metadata": {
        "colab": {
          "base_uri": "https://localhost:8080/"
        },
        "id": "yUU3PgviCXfA",
        "outputId": "90269a42-1ac4-4f69-ec37-cb4f6315efc6"
      },
      "source": [
        "x = df_country.iloc[:,1:].values\r\n",
        "print(x)"
      ],
      "execution_count": 9,
      "outputs": [
        {
          "output_type": "stream",
          "text": [
            "[[9.02e+01 1.00e+01 7.58e+00 ... 5.62e+01 5.82e+00 5.53e+02]\n",
            " [1.66e+01 2.80e+01 6.55e+00 ... 7.63e+01 1.65e+00 4.09e+03]\n",
            " [2.73e+01 3.84e+01 4.17e+00 ... 7.65e+01 2.89e+00 4.46e+03]\n",
            " ...\n",
            " [2.33e+01 7.20e+01 6.84e+00 ... 7.31e+01 1.95e+00 1.31e+03]\n",
            " [5.63e+01 3.00e+01 5.18e+00 ... 6.75e+01 4.67e+00 1.31e+03]\n",
            " [8.31e+01 3.70e+01 5.89e+00 ... 5.20e+01 5.40e+00 1.46e+03]]\n"
          ],
          "name": "stdout"
        }
      ]
    },
    {
      "cell_type": "code",
      "metadata": {
        "id": "Sh6LR2SMIVuG"
      },
      "source": [
        "sc = StandardScaler()\r\n",
        "X = sc.fit_transform(x)\r\n"
      ],
      "execution_count": 10,
      "outputs": []
    },
    {
      "cell_type": "code",
      "metadata": {
        "colab": {
          "base_uri": "https://localhost:8080/"
        },
        "id": "1s6rriUUJnf7",
        "outputId": "de36fb8c-c063-436b-a56d-7a64b64350b5"
      },
      "source": [
        "pca = PCA()\r\n",
        "X_pca = pca.fit_transform(X)\r\n",
        "pca.explained_variance_ratio_"
      ],
      "execution_count": 11,
      "outputs": [
        {
          "output_type": "execute_result",
          "data": {
            "text/plain": [
              "array([0.4595174 , 0.17181626, 0.13004259, 0.11053162, 0.07340211,\n",
              "       0.02484235, 0.0126043 , 0.00981282, 0.00743056])"
            ]
          },
          "metadata": {
            "tags": []
          },
          "execution_count": 11
        }
      ]
    },
    {
      "cell_type": "code",
      "metadata": {
        "colab": {
          "base_uri": "https://localhost:8080/",
          "height": 279
        },
        "id": "PZmQcG9bJv47",
        "outputId": "6975fdf7-0288-4bb4-8f16-bf0280a50b08"
      },
      "source": [
        "plt.bar(range(1, 10), pca.explained_variance_ratio_, alpha=0.5, align='center')\r\n",
        "plt.step(range(1, 10), np.cumsum(pca.explained_variance_ratio_), where='mid')\r\n",
        "plt.ylabel('Explained variance ratio')\r\n",
        "plt.xlabel('Principal components')\r\n",
        "plt.show()"
      ],
      "execution_count": 12,
      "outputs": [
        {
          "output_type": "display_data",
          "data": {
            "image/png": "[encoded data removed]",
            "text/plain": [
              "<Figure size 432x288 with 1 Axes>"
            ]
          },
          "metadata": {
            "tags": [],
            "needs_background": "light"
          }
        }
      ]
    },
    {
      "cell_type": "code",
      "metadata": {
        "id": "D8PvIGpRKHYT"
      },
      "source": [
        "pca = PCA(n_components=5)\r\n",
        "X_PCA = pca.fit_transform(X_pca)\r\n"
      ],
      "execution_count": 31,
      "outputs": []
    },
    {
      "cell_type": "code",
      "metadata": {
        "id": "5cjODmknKTSM"
      },
      "source": [
        "km =cluster.KMeans(n_clusters=3)\r\n",
        "km.fit(X_PCA)\r\n",
        "Result = km.labels_"
      ],
      "execution_count": 41,
      "outputs": []
    },
    {
      "cell_type": "code",
      "metadata": {
        "colab": {
          "base_uri": "https://localhost:8080/",
          "height": 279
        },
        "id": "dudabDvDM0Xl",
        "outputId": "720c9276-2aac-4994-f616-b510c8336c65"
      },
      "source": [
        "colors = ['r', 'b', 'g']\r\n",
        "markers = ['s', 'x', 'o']\r\n",
        "\r\n",
        "for l, c, m in zip(np.unique(km.labels_), colors, markers):\r\n",
        "    plt.scatter(X_PCA[km.labels_ == l, 0], \r\n",
        "                X_PCA[km.labels_ == l, 3], \r\n",
        "                c=c, label=l, marker=m)\r\n",
        "    plt.xlabel('PC 1')\r\n",
        "    plt.ylabel('PC 4')\r\n",
        "    plt.legend()"
      ],
      "execution_count": 42,
      "outputs": [
        {
          "output_type": "display_data",
          "data": {
            "image/png": "[encoded data removed]",
            "text/plain": [
              "<Figure size 432x288 with 1 Axes>"
            ]
          },
          "metadata": {
            "tags": [],
            "needs_background": "light"
          }
        }
      ]
    },
    {
      "cell_type": "code",
      "metadata": {
        "colab": {
          "base_uri": "https://localhost:8080/"
        },
        "id": "RqDUJx6mNzB_",
        "outputId": "e639a99f-acae-4af7-efaa-d72783140547"
      },
      "source": [
        "print(Result)"
      ],
      "execution_count": 43,
      "outputs": [
        {
          "output_type": "stream",
          "text": [
            "[1 2 2 1 2 2 2 0 0 2 2 0 2 2 2 0 2 1 2 2 2 1 2 0 2 1 1 2 1 0 2 1 1 2 2 2 1\n",
            " 1 1 2 1 2 0 0 0 2 2 2 2 1 1 2 2 0 0 1 1 2 0 1 0 2 2 1 1 2 1 2 0 2 2 2 1 0\n",
            " 0 0 2 0 2 2 1 1 0 2 1 2 2 1 1 2 2 0 2 1 1 2 2 1 0 1 2 2 2 2 2 2 1 2 1 2 0\n",
            " 0 1 1 0 2 1 2 2 2 2 2 0 0 2 2 1 2 2 1 2 2 1 0 0 0 2 1 0 0 2 2 1 2 0 0 2 1\n",
            " 2 1 1 2 2 2 2 1 2 0 0 0 2 2 2 2 2 1 1]\n"
          ],
          "name": "stdout"
        }
      ]
    },
    {
      "cell_type": "code",
      "metadata": {
        "id": "Qagfw_5AOU1n"
      },
      "source": [
        "df_country['Class'] = Result"
      ],
      "execution_count": 44,
      "outputs": []
    },
    {
      "cell_type": "code",
      "metadata": {
        "colab": {
          "base_uri": "https://localhost:8080/",
          "height": 194
        },
        "id": "8al1kn1mOhAI",
        "outputId": "799b0cc0-d6eb-403b-aa68-6bb718cc3411"
      },
      "source": [
        "df_country.head()\r\n"
      ],
      "execution_count": 45,
      "outputs": [
        {
          "output_type": "execute_result",
          "data": {
            "text/html": [
              "<div>\n",
              "<style scoped>\n",
              "    .dataframe tbody tr th:only-of-type {\n",
              "        vertical-align: middle;\n",
              "    }\n",
              "\n",
              "    .dataframe tbody tr th {\n",
              "        vertical-align: top;\n",
              "    }\n",
              "\n",
              "    .dataframe thead th {\n",
              "        text-align: right;\n",
              "    }\n",
              "</style>\n",
              "<table border=\"1\" class=\"dataframe\">\n",
              "  <thead>\n",
              "    <tr style=\"text-align: right;\">\n",
              "      <th></th>\n",
              "      <th>country</th>\n",
              "      <th>child_mort</th>\n",
              "      <th>exports</th>\n",
              "      <th>health</th>\n",
              "      <th>imports</th>\n",
              "      <th>income</th>\n",
              "      <th>inflation</th>\n",
              "      <th>life_expec</th>\n",
              "      <th>total_fer</th>\n",
              "      <th>gdpp</th>\n",
              "      <th>Class</th>\n",
              "    </tr>\n",
              "  </thead>\n",
              "  <tbody>\n",
              "    <tr>\n",
              "      <th>0</th>\n",
              "      <td>Afghanistan</td>\n",
              "      <td>90.2</td>\n",
              "      <td>10.0</td>\n",
              "      <td>7.58</td>\n",
              "      <td>44.9</td>\n",
              "      <td>1610</td>\n",
              "      <td>9.44</td>\n",
              "      <td>56.2</td>\n",
              "      <td>5.82</td>\n",
              "      <td>553</td>\n",
              "      <td>1</td>\n",
              "    </tr>\n",
              "    <tr>\n",
              "      <th>1</th>\n",
              "      <td>Albania</td>\n",
              "      <td>16.6</td>\n",
              "      <td>28.0</td>\n",
              "      <td>6.55</td>\n",
              "      <td>48.6</td>\n",
              "      <td>9930</td>\n",
              "      <td>4.49</td>\n",
              "      <td>76.3</td>\n",
              "      <td>1.65</td>\n",
              "      <td>4090</td>\n",
              "      <td>2</td>\n",
              "    </tr>\n",
              "    <tr>\n",
              "      <th>2</th>\n",
              "      <td>Algeria</td>\n",
              "      <td>27.3</td>\n",
              "      <td>38.4</td>\n",
              "      <td>4.17</td>\n",
              "      <td>31.4</td>\n",
              "      <td>12900</td>\n",
              "      <td>16.10</td>\n",
              "      <td>76.5</td>\n",
              "      <td>2.89</td>\n",
              "      <td>4460</td>\n",
              "      <td>2</td>\n",
              "    </tr>\n",
              "    <tr>\n",
              "      <th>3</th>\n",
              "      <td>Angola</td>\n",
              "      <td>119.0</td>\n",
              "      <td>62.3</td>\n",
              "      <td>2.85</td>\n",
              "      <td>42.9</td>\n",
              "      <td>5900</td>\n",
              "      <td>22.40</td>\n",
              "      <td>60.1</td>\n",
              "      <td>6.16</td>\n",
              "      <td>3530</td>\n",
              "      <td>1</td>\n",
              "    </tr>\n",
              "    <tr>\n",
              "      <th>4</th>\n",
              "      <td>Antigua and Barbuda</td>\n",
              "      <td>10.3</td>\n",
              "      <td>45.5</td>\n",
              "      <td>6.03</td>\n",
              "      <td>58.9</td>\n",
              "      <td>19100</td>\n",
              "      <td>1.44</td>\n",
              "      <td>76.8</td>\n",
              "      <td>2.13</td>\n",
              "      <td>12200</td>\n",
              "      <td>2</td>\n",
              "    </tr>\n",
              "  </tbody>\n",
              "</table>\n",
              "</div>"
            ],
            "text/plain": [
              "               country  child_mort  exports  ...  total_fer   gdpp  Class\n",
              "0          Afghanistan        90.2     10.0  ...       5.82    553      1\n",
              "1              Albania        16.6     28.0  ...       1.65   4090      2\n",
              "2              Algeria        27.3     38.4  ...       2.89   4460      2\n",
              "3               Angola       119.0     62.3  ...       6.16   3530      1\n",
              "4  Antigua and Barbuda        10.3     45.5  ...       2.13  12200      2\n",
              "\n",
              "[5 rows x 11 columns]"
            ]
          },
          "metadata": {
            "tags": []
          },
          "execution_count": 45
        }
      ]
    },
    {
      "cell_type": "code",
      "metadata": {
        "colab": {
          "base_uri": "https://localhost:8080/",
          "height": 194
        },
        "id": "6WJ_nx8pOj-n",
        "outputId": "94e27c0c-b7ed-479f-cceb-527aa7b3ba38"
      },
      "source": [
        "df_country[df_country['Class'] == 0].head()\r\n"
      ],
      "execution_count": 46,
      "outputs": [
        {
          "output_type": "execute_result",
          "data": {
            "text/html": [
              "<div>\n",
              "<style scoped>\n",
              "    .dataframe tbody tr th:only-of-type {\n",
              "        vertical-align: middle;\n",
              "    }\n",
              "\n",
              "    .dataframe tbody tr th {\n",
              "        vertical-align: top;\n",
              "    }\n",
              "\n",
              "    .dataframe thead th {\n",
              "        text-align: right;\n",
              "    }\n",
              "</style>\n",
              "<table border=\"1\" class=\"dataframe\">\n",
              "  <thead>\n",
              "    <tr style=\"text-align: right;\">\n",
              "      <th></th>\n",
              "      <th>country</th>\n",
              "      <th>child_mort</th>\n",
              "      <th>exports</th>\n",
              "      <th>health</th>\n",
              "      <th>imports</th>\n",
              "      <th>income</th>\n",
              "      <th>inflation</th>\n",
              "      <th>life_expec</th>\n",
              "      <th>total_fer</th>\n",
              "      <th>gdpp</th>\n",
              "      <th>Class</th>\n",
              "    </tr>\n",
              "  </thead>\n",
              "  <tbody>\n",
              "    <tr>\n",
              "      <th>7</th>\n",
              "      <td>Australia</td>\n",
              "      <td>4.8</td>\n",
              "      <td>19.8</td>\n",
              "      <td>8.73</td>\n",
              "      <td>20.9</td>\n",
              "      <td>41400</td>\n",
              "      <td>1.160</td>\n",
              "      <td>82.0</td>\n",
              "      <td>1.93</td>\n",
              "      <td>51900</td>\n",
              "      <td>0</td>\n",
              "    </tr>\n",
              "    <tr>\n",
              "      <th>8</th>\n",
              "      <td>Austria</td>\n",
              "      <td>4.3</td>\n",
              "      <td>51.3</td>\n",
              "      <td>11.00</td>\n",
              "      <td>47.8</td>\n",
              "      <td>43200</td>\n",
              "      <td>0.873</td>\n",
              "      <td>80.5</td>\n",
              "      <td>1.44</td>\n",
              "      <td>46900</td>\n",
              "      <td>0</td>\n",
              "    </tr>\n",
              "    <tr>\n",
              "      <th>11</th>\n",
              "      <td>Bahrain</td>\n",
              "      <td>8.6</td>\n",
              "      <td>69.5</td>\n",
              "      <td>4.97</td>\n",
              "      <td>50.9</td>\n",
              "      <td>41100</td>\n",
              "      <td>7.440</td>\n",
              "      <td>76.0</td>\n",
              "      <td>2.16</td>\n",
              "      <td>20700</td>\n",
              "      <td>0</td>\n",
              "    </tr>\n",
              "    <tr>\n",
              "      <th>15</th>\n",
              "      <td>Belgium</td>\n",
              "      <td>4.5</td>\n",
              "      <td>76.4</td>\n",
              "      <td>10.70</td>\n",
              "      <td>74.7</td>\n",
              "      <td>41100</td>\n",
              "      <td>1.880</td>\n",
              "      <td>80.0</td>\n",
              "      <td>1.86</td>\n",
              "      <td>44400</td>\n",
              "      <td>0</td>\n",
              "    </tr>\n",
              "    <tr>\n",
              "      <th>23</th>\n",
              "      <td>Brunei</td>\n",
              "      <td>10.5</td>\n",
              "      <td>67.4</td>\n",
              "      <td>2.84</td>\n",
              "      <td>28.0</td>\n",
              "      <td>80600</td>\n",
              "      <td>16.700</td>\n",
              "      <td>77.1</td>\n",
              "      <td>1.84</td>\n",
              "      <td>35300</td>\n",
              "      <td>0</td>\n",
              "    </tr>\n",
              "  </tbody>\n",
              "</table>\n",
              "</div>"
            ],
            "text/plain": [
              "      country  child_mort  exports  health  ...  life_expec  total_fer   gdpp  Class\n",
              "7   Australia         4.8     19.8    8.73  ...        82.0       1.93  51900      0\n",
              "8     Austria         4.3     51.3   11.00  ...        80.5       1.44  46900      0\n",
              "11    Bahrain         8.6     69.5    4.97  ...        76.0       2.16  20700      0\n",
              "15    Belgium         4.5     76.4   10.70  ...        80.0       1.86  44400      0\n",
              "23     Brunei        10.5     67.4    2.84  ...        77.1       1.84  35300      0\n",
              "\n",
              "[5 rows x 11 columns]"
            ]
          },
          "metadata": {
            "tags": []
          },
          "execution_count": 46
        }
      ]
    },
    {
      "cell_type": "markdown",
      "metadata": {
        "id": "A2HPDIlDPNvt"
      },
      "source": [
        ""
      ]
    },
    {
      "cell_type": "code",
      "metadata": {
        "colab": {
          "base_uri": "https://localhost:8080/",
          "height": 194
        },
        "id": "K_CYiKqJPDZh",
        "outputId": "0fa98734-cc68-4919-9843-8e1619bbb497"
      },
      "source": [
        "df_country[df_country['Class'] == 1].head()\r\n"
      ],
      "execution_count": 47,
      "outputs": [
        {
          "output_type": "execute_result",
          "data": {
            "text/html": [
              "<div>\n",
              "<style scoped>\n",
              "    .dataframe tbody tr th:only-of-type {\n",
              "        vertical-align: middle;\n",
              "    }\n",
              "\n",
              "    .dataframe tbody tr th {\n",
              "        vertical-align: top;\n",
              "    }\n",
              "\n",
              "    .dataframe thead th {\n",
              "        text-align: right;\n",
              "    }\n",
              "</style>\n",
              "<table border=\"1\" class=\"dataframe\">\n",
              "  <thead>\n",
              "    <tr style=\"text-align: right;\">\n",
              "      <th></th>\n",
              "      <th>country</th>\n",
              "      <th>child_mort</th>\n",
              "      <th>exports</th>\n",
              "      <th>health</th>\n",
              "      <th>imports</th>\n",
              "      <th>income</th>\n",
              "      <th>inflation</th>\n",
              "      <th>life_expec</th>\n",
              "      <th>total_fer</th>\n",
              "      <th>gdpp</th>\n",
              "      <th>Class</th>\n",
              "    </tr>\n",
              "  </thead>\n",
              "  <tbody>\n",
              "    <tr>\n",
              "      <th>0</th>\n",
              "      <td>Afghanistan</td>\n",
              "      <td>90.2</td>\n",
              "      <td>10.0</td>\n",
              "      <td>7.58</td>\n",
              "      <td>44.9</td>\n",
              "      <td>1610</td>\n",
              "      <td>9.440</td>\n",
              "      <td>56.2</td>\n",
              "      <td>5.82</td>\n",
              "      <td>553</td>\n",
              "      <td>1</td>\n",
              "    </tr>\n",
              "    <tr>\n",
              "      <th>3</th>\n",
              "      <td>Angola</td>\n",
              "      <td>119.0</td>\n",
              "      <td>62.3</td>\n",
              "      <td>2.85</td>\n",
              "      <td>42.9</td>\n",
              "      <td>5900</td>\n",
              "      <td>22.400</td>\n",
              "      <td>60.1</td>\n",
              "      <td>6.16</td>\n",
              "      <td>3530</td>\n",
              "      <td>1</td>\n",
              "    </tr>\n",
              "    <tr>\n",
              "      <th>17</th>\n",
              "      <td>Benin</td>\n",
              "      <td>111.0</td>\n",
              "      <td>23.8</td>\n",
              "      <td>4.10</td>\n",
              "      <td>37.2</td>\n",
              "      <td>1820</td>\n",
              "      <td>0.885</td>\n",
              "      <td>61.8</td>\n",
              "      <td>5.36</td>\n",
              "      <td>758</td>\n",
              "      <td>1</td>\n",
              "    </tr>\n",
              "    <tr>\n",
              "      <th>21</th>\n",
              "      <td>Botswana</td>\n",
              "      <td>52.5</td>\n",
              "      <td>43.6</td>\n",
              "      <td>8.30</td>\n",
              "      <td>51.3</td>\n",
              "      <td>13300</td>\n",
              "      <td>8.920</td>\n",
              "      <td>57.1</td>\n",
              "      <td>2.88</td>\n",
              "      <td>6350</td>\n",
              "      <td>1</td>\n",
              "    </tr>\n",
              "    <tr>\n",
              "      <th>25</th>\n",
              "      <td>Burkina Faso</td>\n",
              "      <td>116.0</td>\n",
              "      <td>19.2</td>\n",
              "      <td>6.74</td>\n",
              "      <td>29.6</td>\n",
              "      <td>1430</td>\n",
              "      <td>6.810</td>\n",
              "      <td>57.9</td>\n",
              "      <td>5.87</td>\n",
              "      <td>575</td>\n",
              "      <td>1</td>\n",
              "    </tr>\n",
              "  </tbody>\n",
              "</table>\n",
              "</div>"
            ],
            "text/plain": [
              "         country  child_mort  exports  ...  total_fer  gdpp  Class\n",
              "0    Afghanistan        90.2     10.0  ...       5.82   553      1\n",
              "3         Angola       119.0     62.3  ...       6.16  3530      1\n",
              "17         Benin       111.0     23.8  ...       5.36   758      1\n",
              "21      Botswana        52.5     43.6  ...       2.88  6350      1\n",
              "25  Burkina Faso       116.0     19.2  ...       5.87   575      1\n",
              "\n",
              "[5 rows x 11 columns]"
            ]
          },
          "metadata": {
            "tags": []
          },
          "execution_count": 47
        }
      ]
    },
    {
      "cell_type": "code",
      "metadata": {
        "colab": {
          "base_uri": "https://localhost:8080/",
          "height": 194
        },
        "id": "ZikwxTA3PFLf",
        "outputId": "7f107310-728b-48d4-dbd5-607962dcd2bb"
      },
      "source": [
        "df_country[df_country['Class'] == 2].head()\r\n"
      ],
      "execution_count": 48,
      "outputs": [
        {
          "output_type": "execute_result",
          "data": {
            "text/html": [
              "<div>\n",
              "<style scoped>\n",
              "    .dataframe tbody tr th:only-of-type {\n",
              "        vertical-align: middle;\n",
              "    }\n",
              "\n",
              "    .dataframe tbody tr th {\n",
              "        vertical-align: top;\n",
              "    }\n",
              "\n",
              "    .dataframe thead th {\n",
              "        text-align: right;\n",
              "    }\n",
              "</style>\n",
              "<table border=\"1\" class=\"dataframe\">\n",
              "  <thead>\n",
              "    <tr style=\"text-align: right;\">\n",
              "      <th></th>\n",
              "      <th>country</th>\n",
              "      <th>child_mort</th>\n",
              "      <th>exports</th>\n",
              "      <th>health</th>\n",
              "      <th>imports</th>\n",
              "      <th>income</th>\n",
              "      <th>inflation</th>\n",
              "      <th>life_expec</th>\n",
              "      <th>total_fer</th>\n",
              "      <th>gdpp</th>\n",
              "      <th>Class</th>\n",
              "    </tr>\n",
              "  </thead>\n",
              "  <tbody>\n",
              "    <tr>\n",
              "      <th>1</th>\n",
              "      <td>Albania</td>\n",
              "      <td>16.6</td>\n",
              "      <td>28.0</td>\n",
              "      <td>6.55</td>\n",
              "      <td>48.6</td>\n",
              "      <td>9930</td>\n",
              "      <td>4.49</td>\n",
              "      <td>76.3</td>\n",
              "      <td>1.65</td>\n",
              "      <td>4090</td>\n",
              "      <td>2</td>\n",
              "    </tr>\n",
              "    <tr>\n",
              "      <th>2</th>\n",
              "      <td>Algeria</td>\n",
              "      <td>27.3</td>\n",
              "      <td>38.4</td>\n",
              "      <td>4.17</td>\n",
              "      <td>31.4</td>\n",
              "      <td>12900</td>\n",
              "      <td>16.10</td>\n",
              "      <td>76.5</td>\n",
              "      <td>2.89</td>\n",
              "      <td>4460</td>\n",
              "      <td>2</td>\n",
              "    </tr>\n",
              "    <tr>\n",
              "      <th>4</th>\n",
              "      <td>Antigua and Barbuda</td>\n",
              "      <td>10.3</td>\n",
              "      <td>45.5</td>\n",
              "      <td>6.03</td>\n",
              "      <td>58.9</td>\n",
              "      <td>19100</td>\n",
              "      <td>1.44</td>\n",
              "      <td>76.8</td>\n",
              "      <td>2.13</td>\n",
              "      <td>12200</td>\n",
              "      <td>2</td>\n",
              "    </tr>\n",
              "    <tr>\n",
              "      <th>5</th>\n",
              "      <td>Argentina</td>\n",
              "      <td>14.5</td>\n",
              "      <td>18.9</td>\n",
              "      <td>8.10</td>\n",
              "      <td>16.0</td>\n",
              "      <td>18700</td>\n",
              "      <td>20.90</td>\n",
              "      <td>75.8</td>\n",
              "      <td>2.37</td>\n",
              "      <td>10300</td>\n",
              "      <td>2</td>\n",
              "    </tr>\n",
              "    <tr>\n",
              "      <th>6</th>\n",
              "      <td>Armenia</td>\n",
              "      <td>18.1</td>\n",
              "      <td>20.8</td>\n",
              "      <td>4.40</td>\n",
              "      <td>45.3</td>\n",
              "      <td>6700</td>\n",
              "      <td>7.77</td>\n",
              "      <td>73.3</td>\n",
              "      <td>1.69</td>\n",
              "      <td>3220</td>\n",
              "      <td>2</td>\n",
              "    </tr>\n",
              "  </tbody>\n",
              "</table>\n",
              "</div>"
            ],
            "text/plain": [
              "               country  child_mort  exports  ...  total_fer   gdpp  Class\n",
              "1              Albania        16.6     28.0  ...       1.65   4090      2\n",
              "2              Algeria        27.3     38.4  ...       2.89   4460      2\n",
              "4  Antigua and Barbuda        10.3     45.5  ...       2.13  12200      2\n",
              "5            Argentina        14.5     18.9  ...       2.37  10300      2\n",
              "6              Armenia        18.1     20.8  ...       1.69   3220      2\n",
              "\n",
              "[5 rows x 11 columns]"
            ]
          },
          "metadata": {
            "tags": []
          },
          "execution_count": 48
        }
      ]
    },
    {
      "cell_type": "markdown",
      "metadata": {
        "id": "3kAFG7ALQ8_b"
      },
      "source": [
        "According to the data, we found that Cluster 0 is developped country, Cluster 1 is under developped country and Cluster 2 is developping country.\r\n"
      ]
    },
    {
      "cell_type": "markdown",
      "metadata": {
        "id": "LHuSE2s0RTCg"
      },
      "source": [
        "The criterion are GDPP, income, life_expec and child_mort\r\n",
        "GDPP, income and life_expec in developed countries are highest followed by developing and under-developed respectively. However, child_mort is in the reversed order, under-developed countries have the highest rate and developed countries have the lowest rate\r\n",
        "\r\n"
      ]
    },
    {
      "cell_type": "markdown",
      "metadata": {
        "id": "TQCkWSdMSI_w"
      },
      "source": [
        "There are 36 countries belong to developped countries\r\n",
        "There are 47 countries belong to under developped countries\r\n",
        "There are 84 countries belong to developping countries"
      ]
    },
    {
      "cell_type": "code",
      "metadata": {
        "colab": {
          "base_uri": "https://localhost:8080/"
        },
        "id": "v5Nq1b79Rtv1",
        "outputId": "ad46f334-c59a-4e0c-a622-683e76762989"
      },
      "source": [
        "print(df_country[df_country['Class'] == 0])"
      ],
      "execution_count": 54,
      "outputs": [
        {
          "output_type": "stream",
          "text": [
            "                  country  child_mort  exports  ...  total_fer    gdpp  Class\n",
            "7               Australia         4.8     19.8  ...       1.93   51900      0\n",
            "8                 Austria         4.3     51.3  ...       1.44   46900      0\n",
            "11                Bahrain         8.6     69.5  ...       2.16   20700      0\n",
            "15                Belgium         4.5     76.4  ...       1.86   44400      0\n",
            "23                 Brunei        10.5     67.4  ...       1.84   35300      0\n",
            "29                 Canada         5.6     29.1  ...       1.63   47400      0\n",
            "42                 Cyprus         3.6     50.2  ...       1.42   30800      0\n",
            "43         Czech Republic         3.4     66.0  ...       1.51   19800      0\n",
            "44                Denmark         4.1     50.5  ...       1.87   58000      0\n",
            "53                Finland         3.0     38.7  ...       1.87   46200      0\n",
            "54                 France         4.2     26.8  ...       2.03   40600      0\n",
            "58                Germany         4.2     42.3  ...       1.39   41800      0\n",
            "60                 Greece         3.9     22.1  ...       1.48   26900      0\n",
            "68                Iceland         2.6     53.4  ...       2.20   41900      0\n",
            "73                Ireland         4.2    103.0  ...       2.05   48700      0\n",
            "74                 Israel         4.6     35.0  ...       3.03   30600      0\n",
            "75                  Italy         4.0     25.2  ...       1.46   35800      0\n",
            "77                  Japan         3.2     15.0  ...       1.39   44500      0\n",
            "82                 Kuwait        10.8     66.7  ...       2.21   38500      0\n",
            "91             Luxembourg         2.8    175.0  ...       1.63  105000      0\n",
            "98                  Malta         6.8    153.0  ...       1.36   21100      0\n",
            "110           Netherlands         4.5     72.0  ...       1.79   50300      0\n",
            "111           New Zealand         6.2     30.3  ...       2.17   33700      0\n",
            "114                Norway         3.2     39.7  ...       1.95   87800      0\n",
            "122              Portugal         3.9     29.9  ...       1.39   22500      0\n",
            "123                 Qatar         9.0     62.3  ...       2.07   70300      0\n",
            "133             Singapore         2.8    200.0  ...       1.15   46600      0\n",
            "134       Slovak Republic         7.0     76.3  ...       1.43   16600      0\n",
            "135              Slovenia         3.2     64.3  ...       1.57   23400      0\n",
            "138           South Korea         4.1     49.4  ...       1.23   22100      0\n",
            "139                 Spain         3.8     25.5  ...       1.37   30700      0\n",
            "144                Sweden         3.0     46.2  ...       1.98   52100      0\n",
            "145           Switzerland         4.5     64.0  ...       1.52   74600      0\n",
            "157  United Arab Emirates         8.6     77.7  ...       1.87   35000      0\n",
            "158        United Kingdom         5.2     28.2  ...       1.92   38900      0\n",
            "159         United States         7.3     12.4  ...       1.93   48400      0\n",
            "\n",
            "[36 rows x 11 columns]\n"
          ],
          "name": "stdout"
        }
      ]
    },
    {
      "cell_type": "code",
      "metadata": {
        "colab": {
          "base_uri": "https://localhost:8080/"
        },
        "id": "AGd6EVumSDeK",
        "outputId": "03cb29dc-3e8d-4686-a4ec-fb8dffae8c9a"
      },
      "source": [
        "print(df_country[df_country['Class'] == 1])"
      ],
      "execution_count": 55,
      "outputs": [
        {
          "output_type": "stream",
          "text": [
            "                      country  child_mort  exports  ...  total_fer   gdpp  Class\n",
            "0                 Afghanistan        90.2    10.00  ...       5.82    553      1\n",
            "3                      Angola       119.0    62.30  ...       6.16   3530      1\n",
            "17                      Benin       111.0    23.80  ...       5.36    758      1\n",
            "21                   Botswana        52.5    43.60  ...       2.88   6350      1\n",
            "25               Burkina Faso       116.0    19.20  ...       5.87    575      1\n",
            "26                    Burundi        93.6     8.92  ...       6.26    231      1\n",
            "28                   Cameroon       108.0    22.20  ...       5.11   1310      1\n",
            "31   Central African Republic       149.0    11.80  ...       5.21    446      1\n",
            "32                       Chad       150.0    36.80  ...       6.59    897      1\n",
            "36                    Comoros        88.2    16.50  ...       4.75    769      1\n",
            "37           Congo, Dem. Rep.       116.0    41.10  ...       6.54    334      1\n",
            "38                Congo, Rep.        63.9    85.10  ...       4.95   2740      1\n",
            "40              Cote d'Ivoire       111.0    50.60  ...       5.27   1220      1\n",
            "49          Equatorial Guinea       111.0    85.80  ...       5.21  17100      1\n",
            "50                    Eritrea        55.2     4.79  ...       4.61    482      1\n",
            "55                      Gabon        63.7    57.70  ...       4.08   8750      1\n",
            "56                     Gambia        80.3    23.80  ...       5.71    562      1\n",
            "59                      Ghana        74.7    29.50  ...       4.27   1310      1\n",
            "63                     Guinea       109.0    30.30  ...       5.34    648      1\n",
            "64              Guinea-Bissau       114.0    14.90  ...       5.05    547      1\n",
            "66                      Haiti       208.0    15.30  ...       3.33    662      1\n",
            "72                       Iraq        36.9    39.40  ...       4.56   4500      1\n",
            "80                      Kenya        62.2    20.70  ...       4.37    967      1\n",
            "81                   Kiribati        62.7    13.30  ...       3.84   1490      1\n",
            "84                        Lao        78.9    35.40  ...       3.15   1140      1\n",
            "87                    Lesotho        99.7    39.40  ...       3.30   1170      1\n",
            "88                    Liberia        89.3    19.10  ...       5.02    327      1\n",
            "93                 Madagascar        62.2    25.00  ...       4.60    413      1\n",
            "94                     Malawi        90.5    22.80  ...       5.31    459      1\n",
            "97                       Mali       137.0    22.80  ...       6.55    708      1\n",
            "99                 Mauritania        97.4    50.70  ...       4.98   1200      1\n",
            "106                Mozambique       101.0    31.50  ...       5.56    419      1\n",
            "108                   Namibia        56.0    47.80  ...       3.60   5190      1\n",
            "112                     Niger       123.0    22.20  ...       7.49    348      1\n",
            "113                   Nigeria       130.0    25.30  ...       5.84   2330      1\n",
            "116                  Pakistan        92.1    13.50  ...       3.85   1040      1\n",
            "126                    Rwanda        63.6    12.00  ...       4.51    563      1\n",
            "129                   Senegal        66.8    24.90  ...       5.06   1000      1\n",
            "132              Sierra Leone       160.0    16.80  ...       5.20    399      1\n",
            "137              South Africa        53.7    28.60  ...       2.59   7280      1\n",
            "142                     Sudan        76.7    19.70  ...       4.88   1480      1\n",
            "147                  Tanzania        71.9    18.70  ...       5.43    702      1\n",
            "149               Timor-Leste        62.6     2.20  ...       6.23   3600      1\n",
            "150                      Togo        90.3    40.20  ...       4.87    488      1\n",
            "155                    Uganda        81.0    17.10  ...       6.15    595      1\n",
            "165                     Yemen        56.3    30.00  ...       4.67   1310      1\n",
            "166                    Zambia        83.1    37.00  ...       5.40   1460      1\n",
            "\n",
            "[47 rows x 11 columns]\n"
          ],
          "name": "stdout"
        }
      ]
    },
    {
      "cell_type": "code",
      "metadata": {
        "colab": {
          "base_uri": "https://localhost:8080/"
        },
        "id": "0XZbuQdnSD4h",
        "outputId": "3dc03f36-048f-4e12-8623-d6a6d0f5b6a8"
      },
      "source": [
        "print(df_country[df_country['Class'] == 2])"
      ],
      "execution_count": 56,
      "outputs": [
        {
          "output_type": "stream",
          "text": [
            "                 country  child_mort  exports  ...  total_fer   gdpp  Class\n",
            "1                Albania        16.6     28.0  ...       1.65   4090      2\n",
            "2                Algeria        27.3     38.4  ...       2.89   4460      2\n",
            "4    Antigua and Barbuda        10.3     45.5  ...       2.13  12200      2\n",
            "5              Argentina        14.5     18.9  ...       2.37  10300      2\n",
            "6                Armenia        18.1     20.8  ...       1.69   3220      2\n",
            "..                   ...         ...      ...  ...        ...    ...    ...\n",
            "160              Uruguay        10.6     26.3  ...       2.08  11900      2\n",
            "161           Uzbekistan        36.3     31.7  ...       2.34   1380      2\n",
            "162              Vanuatu        29.2     46.6  ...       3.50   2970      2\n",
            "163            Venezuela        17.1     28.5  ...       2.47  13500      2\n",
            "164              Vietnam        23.3     72.0  ...       1.95   1310      2\n",
            "\n",
            "[84 rows x 11 columns]\n"
          ],
          "name": "stdout"
        }
      ]
    }
  ]
}