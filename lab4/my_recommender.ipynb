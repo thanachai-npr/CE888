{
  "nbformat": 4,
  "nbformat_minor": 0,
  "metadata": {
    "colab": {
      "name": "my_recommender.ipynb",
      "provenance": [],
      "authorship_tag": "ABX9TyMWjEn89a/qWANxe9jFXOya",
      "include_colab_link": true
    },
    "kernelspec": {
      "name": "python3",
      "display_name": "Python 3"
    },
    "accelerator": "GPU"
  },
  "cells": [
    {
      "cell_type": "markdown",
      "metadata": {
        "id": "view-in-github",
        "colab_type": "text"
      },
      "source": [
        "<a href=\"https://colab.research.google.com/github/thanachai-npr/CE888/blob/main/lab4/my_recommender.ipynb\" target=\"_parent\"><img src=\"https://colab.research.google.com/assets/colab-badge.svg\" alt=\"Open In Colab\"/></a>"
      ]
    },
    {
      "cell_type": "code",
      "metadata": {
        "id": "f4utVFFrpfcL"
      },
      "source": [
        "import pandas as pd\r\n",
        "import numpy as np\r\n",
        "from sklearn.svm import SVC\r\n",
        "\r\n",
        "np.set_printoptions(precision=3)"
      ],
      "execution_count": 1,
      "outputs": []
    },
    {
      "cell_type": "code",
      "metadata": {
        "colab": {
          "base_uri": "https://localhost:8080/"
        },
        "id": "IwDi3H26pv2Y",
        "outputId": "5db5202f-613c-44fb-a249-a0df4dfff743"
      },
      "source": [
        "jokes_df = pd.read_csv(\"https://raw.githubusercontent.com/albanda/CE888/master/lab4-recommender/jester-data-1.csv\",  header = None)\r\n",
        "df = jokes_df.replace(99, np.NaN)\r\n",
        "df.drop([0], axis=1, inplace = True)\r\n",
        "print(df)\r\n"
      ],
      "execution_count": 2,
      "outputs": [
        {
          "output_type": "stream",
          "text": [
            "        1     2     3     4     5     6    ...   95    96    97    98    99    100\n",
            "0     -7.82  8.79 -9.66 -8.16 -7.52 -8.50  ...   NaN   NaN -5.63   NaN   NaN   NaN\n",
            "1      4.08 -0.29  6.36  4.37 -2.38 -9.66  ... -0.19 -2.14  3.06  0.34 -4.32  1.07\n",
            "2       NaN   NaN   NaN   NaN  9.03  9.27  ...   NaN   NaN   NaN   NaN   NaN   NaN\n",
            "3       NaN  8.35   NaN   NaN  1.80  8.16  ...   NaN   NaN   NaN   NaN   NaN   NaN\n",
            "4      8.50  4.61 -4.17 -5.39  1.36  1.60  ...  5.73  1.55  3.11  6.55  1.80  1.60\n",
            "...     ...   ...   ...   ...   ...   ...  ...   ...   ...   ...   ...   ...   ...\n",
            "24978  0.44  7.43  9.08  2.33  3.20  6.75  ...  8.45  9.03  6.55  8.69  8.79  7.43\n",
            "24979  9.13 -8.16  8.59  9.08  0.87 -8.93  ...  9.22 -8.20 -7.23 -8.59  9.13  8.45\n",
            "24980   NaN   NaN   NaN   NaN -7.77   NaN  ...   NaN   NaN   NaN   NaN   NaN   NaN\n",
            "24981   NaN   NaN   NaN   NaN -9.71   NaN  ...   NaN   NaN   NaN   NaN   NaN   NaN\n",
            "24982  2.43  2.67 -3.98  4.27 -2.28  7.33  ...   NaN   NaN   NaN   NaN   NaN   NaN\n",
            "\n",
            "[24983 rows x 100 columns]\n"
          ],
          "name": "stdout"
        }
      ]
    },
    {
      "cell_type": "code",
      "metadata": {
        "colab": {
          "base_uri": "https://localhost:8080/"
        },
        "id": "fw4AY9oCqFVS",
        "outputId": "e05c7756-2d11-4ddb-c141-864fc532fb7d"
      },
      "source": [
        "arr = df.values\r\n",
        "print(arr)"
      ],
      "execution_count": 3,
      "outputs": [
        {
          "output_type": "stream",
          "text": [
            "[[-7.82  8.79 -9.66 ...   nan   nan   nan]\n",
            " [ 4.08 -0.29  6.36 ...  0.34 -4.32  1.07]\n",
            " [  nan   nan   nan ...   nan   nan   nan]\n",
            " ...\n",
            " [  nan   nan   nan ...   nan   nan   nan]\n",
            " [  nan   nan   nan ...   nan   nan   nan]\n",
            " [ 2.43  2.67 -3.98 ...   nan   nan   nan]]\n"
          ],
          "name": "stdout"
        }
      ]
    },
    {
      "cell_type": "code",
      "metadata": {
        "id": "mSnB0TVJqG42"
      },
      "source": [
        "def replace(orig, percentage=0.1):\r\n",
        "  \"\"\"\r\n",
        "  Replaces 'percentage'% of the original values in 'orig' with 99's\r\n",
        "  :param orig: original data array\r\n",
        "  :param percentage: percentage of values to replace (0<percentage<1)\r\n",
        "  \"\"\"\r\n",
        "  new_data = orig.copy()\r\n",
        "  rated = np.where(~np.isnan(orig))\r\n",
        "  n_rated = len(rated[0])\r\n",
        "  idx = np.random.choice(n_rated, size=int(percentage*n_rated), replace=False)\r\n",
        "  for i in idx:\r\n",
        "    assert new_data[rated[0][i], rated[1][i]] != np.nan\r\n",
        "  new_data[rated[0][idx], rated[1][idx]] = 99\r\n",
        "  return new_data, (rated[0][idx], rated[1][idx])"
      ],
      "execution_count": 4,
      "outputs": []
    },
    {
      "cell_type": "code",
      "metadata": {
        "id": "pINy0gAetupN"
      },
      "source": [
        "new_arr, idx = replace(arr, 0.1)"
      ],
      "execution_count": 5,
      "outputs": []
    },
    {
      "cell_type": "code",
      "metadata": {
        "colab": {
          "base_uri": "https://localhost:8080/"
        },
        "id": "LfqkfZfVuS7Y",
        "outputId": "739a1932-3141-4578-caac-e8ffc8e9a467"
      },
      "source": [
        "print(new_arr)"
      ],
      "execution_count": 6,
      "outputs": [
        {
          "output_type": "stream",
          "text": [
            "[[-7.82  8.79 -9.66 ...   nan   nan   nan]\n",
            " [ 4.08 -0.29  6.36 ...  0.34 -4.32  1.07]\n",
            " [  nan   nan   nan ...   nan   nan   nan]\n",
            " ...\n",
            " [  nan   nan   nan ...   nan   nan   nan]\n",
            " [  nan   nan   nan ...   nan   nan   nan]\n",
            " [ 2.43  2.67 -3.98 ...   nan   nan   nan]]\n"
          ],
          "name": "stdout"
        }
      ]
    },
    {
      "cell_type": "code",
      "metadata": {
        "colab": {
          "base_uri": "https://localhost:8080/"
        },
        "id": "qDsZjy7IuTPK",
        "outputId": "0365819f-c2fe-420a-bb2d-563fe244d4c4"
      },
      "source": [
        "print(arr)"
      ],
      "execution_count": 7,
      "outputs": [
        {
          "output_type": "stream",
          "text": [
            "[[-7.82  8.79 -9.66 ...   nan   nan   nan]\n",
            " [ 4.08 -0.29  6.36 ...  0.34 -4.32  1.07]\n",
            " [  nan   nan   nan ...   nan   nan   nan]\n",
            " ...\n",
            " [  nan   nan   nan ...   nan   nan   nan]\n",
            " [  nan   nan   nan ...   nan   nan   nan]\n",
            " [ 2.43  2.67 -3.98 ...   nan   nan   nan]]\n"
          ],
          "name": "stdout"
        }
      ]
    },
    {
      "cell_type": "code",
      "metadata": {
        "id": "RX6baGbs4cWA"
      },
      "source": [
        ""
      ],
      "execution_count": 7,
      "outputs": []
    },
    {
      "cell_type": "code",
      "metadata": {
        "id": "Tuec1px84dh8"
      },
      "source": [
        "n_latent_factors = 2\r\n",
        "\r\n",
        "user_ratings = new_arr\r\n",
        "# Initialise as random values\r\n",
        "latent_user_preferences = np.random.random((user_ratings.shape[0], n_latent_factors))\r\n",
        "latent_item_features = np.random.random((user_ratings.shape[1], n_latent_factors))"
      ],
      "execution_count": 8,
      "outputs": []
    },
    {
      "cell_type": "code",
      "metadata": {
        "colab": {
          "base_uri": "https://localhost:8080/"
        },
        "id": "s4MPl3Pk4jzy",
        "outputId": "8628b913-c661-4fe3-e2bb-abb0c4646958"
      },
      "source": [
        "latent_item_features"
      ],
      "execution_count": 9,
      "outputs": [
        {
          "output_type": "execute_result",
          "data": {
            "text/plain": [
              "array([[0.792, 0.954],\n",
              "       [0.441, 0.006],\n",
              "       [0.982, 0.607],\n",
              "       [0.226, 0.706],\n",
              "       [0.834, 0.8  ],\n",
              "       [0.738, 0.858],\n",
              "       [0.558, 0.82 ],\n",
              "       [0.609, 0.67 ],\n",
              "       [0.77 , 0.658],\n",
              "       [0.516, 0.842],\n",
              "       [0.869, 0.164],\n",
              "       [0.823, 0.492],\n",
              "       [0.435, 0.97 ],\n",
              "       [0.289, 0.346],\n",
              "       [0.917, 0.776],\n",
              "       [0.96 , 0.551],\n",
              "       [0.263, 0.13 ],\n",
              "       [0.229, 0.818],\n",
              "       [0.248, 0.724],\n",
              "       [0.779, 0.475],\n",
              "       [0.084, 0.256],\n",
              "       [0.89 , 0.432],\n",
              "       [0.211, 0.126],\n",
              "       [0.394, 0.723],\n",
              "       [0.438, 0.697],\n",
              "       [0.167, 0.447],\n",
              "       [0.31 , 0.56 ],\n",
              "       [0.209, 0.358],\n",
              "       [0.655, 0.437],\n",
              "       [0.084, 0.861],\n",
              "       [0.25 , 0.22 ],\n",
              "       [0.423, 0.777],\n",
              "       [0.871, 0.724],\n",
              "       [0.244, 0.721],\n",
              "       [0.636, 0.269],\n",
              "       [0.773, 0.202],\n",
              "       [0.672, 0.405],\n",
              "       [0.546, 0.798],\n",
              "       [0.283, 0.181],\n",
              "       [0.605, 0.936],\n",
              "       [0.784, 0.592],\n",
              "       [0.396, 0.807],\n",
              "       [0.918, 0.077],\n",
              "       [0.261, 0.151],\n",
              "       [0.99 , 0.006],\n",
              "       [0.826, 0.002],\n",
              "       [0.061, 0.756],\n",
              "       [0.387, 0.458],\n",
              "       [0.727, 0.647],\n",
              "       [0.04 , 0.149],\n",
              "       [0.528, 0.631],\n",
              "       [0.818, 0.59 ],\n",
              "       [0.654, 0.93 ],\n",
              "       [0.289, 0.405],\n",
              "       [0.967, 0.511],\n",
              "       [0.377, 0.76 ],\n",
              "       [0.319, 0.483],\n",
              "       [0.593, 0.715],\n",
              "       [0.398, 0.335],\n",
              "       [0.778, 0.852],\n",
              "       [0.159, 0.662],\n",
              "       [0.351, 0.458],\n",
              "       [0.864, 0.396],\n",
              "       [0.38 , 0.662],\n",
              "       [0.684, 0.092],\n",
              "       [0.105, 0.826],\n",
              "       [0.766, 0.311],\n",
              "       [0.373, 0.148],\n",
              "       [0.321, 0.456],\n",
              "       [0.067, 0.71 ],\n",
              "       [0.175, 0.578],\n",
              "       [0.815, 0.535],\n",
              "       [0.066, 0.759],\n",
              "       [0.043, 0.953],\n",
              "       [0.439, 0.05 ],\n",
              "       [0.736, 0.19 ],\n",
              "       [0.335, 0.33 ],\n",
              "       [0.749, 0.496],\n",
              "       [0.761, 0.956],\n",
              "       [0.407, 0.917],\n",
              "       [0.795, 0.917],\n",
              "       [0.413, 0.887],\n",
              "       [0.186, 0.954],\n",
              "       [0.902, 0.644],\n",
              "       [0.146, 0.917],\n",
              "       [0.197, 0.285],\n",
              "       [0.92 , 0.219],\n",
              "       [0.883, 0.126],\n",
              "       [0.648, 0.74 ],\n",
              "       [0.355, 0.037],\n",
              "       [0.041, 0.722],\n",
              "       [0.439, 0.354],\n",
              "       [0.131, 0.583],\n",
              "       [0.617, 0.908],\n",
              "       [0.725, 0.225],\n",
              "       [0.948, 0.81 ],\n",
              "       [0.305, 0.699],\n",
              "       [0.417, 0.525],\n",
              "       [0.42 , 0.094],\n",
              "       [0.513, 0.675]])"
            ]
          },
          "metadata": {
            "tags": []
          },
          "execution_count": 9
        }
      ]
    },
    {
      "cell_type": "code",
      "metadata": {
        "colab": {
          "base_uri": "https://localhost:8080/"
        },
        "id": "I-res9Ic4lXs",
        "outputId": "88653c82-243b-4bb9-9d90-725f6350685d"
      },
      "source": [
        "latent_user_preferences"
      ],
      "execution_count": 10,
      "outputs": [
        {
          "output_type": "execute_result",
          "data": {
            "text/plain": [
              "array([[0.693, 0.604],\n",
              "       [0.536, 0.132],\n",
              "       [0.179, 0.48 ],\n",
              "       ...,\n",
              "       [0.759, 0.96 ],\n",
              "       [0.04 , 0.838],\n",
              "       [0.346, 0.754]])"
            ]
          },
          "metadata": {
            "tags": []
          },
          "execution_count": 10
        }
      ]
    },
    {
      "cell_type": "code",
      "metadata": {
        "id": "CTFH7G5b4m1E"
      },
      "source": [
        "def predict_rating(user_id, item_id):\r\n",
        "    \"\"\" Predict a rating given a user_id and an item_id.\r\n",
        "    \"\"\"\r\n",
        "    user_preference = latent_user_preferences[user_id]\r\n",
        "    item_preference = latent_item_features[item_id]\r\n",
        "    return user_preference.dot(item_preference)\r\n",
        "\r\n",
        "\r\n",
        "def train(user_id, item_id, rating, alpha=0.0001):\r\n",
        "    #print(item_id)\r\n",
        "    predicted_rating = predict_rating(user_id, item_id)\r\n",
        "    err =  predicted_rating - rating\r\n",
        "    #print(err)\r\n",
        "    user_pref_values = latent_user_preferences[user_id]\r\n",
        "    latent_user_preferences[user_id] -= alpha * err * latent_item_features[item_id]\r\n",
        "    latent_item_features[item_id] -= alpha * err * user_pref_values\r\n",
        "    return err\r\n",
        "\r\n",
        "def sgd(iterations):\r\n",
        "    \"\"\" \r\n",
        "    Iterate over all users and all items and train for \r\n",
        "    a certain number of iterations\r\n",
        "    \"\"\"\r\n",
        "    \r\n",
        "    for iteration in range(iterations):\r\n",
        "        error = []\r\n",
        "        for user_id in range(latent_user_preferences.shape[0]):\r\n",
        "            for item_id in range(latent_item_features.shape[0]):\r\n",
        "              rating = user_ratings[user_id, item_id]\r\n",
        "              if not np.isnan(rating) and rating != 99:\r\n",
        "                err = train(user_id, item_id, rating)\r\n",
        "                error.append(err)\r\n",
        "    mse = (np.array(error) ** 2).mean()          \r\n",
        "    print(mse)"
      ],
      "execution_count": 11,
      "outputs": []
    },
    {
      "cell_type": "code",
      "metadata": {
        "colab": {
          "base_uri": "https://localhost:8080/"
        },
        "id": "Q5sqrs4lzKDG",
        "outputId": "77b4c69e-3513-4e50-9048-cfee7dc3b928"
      },
      "source": [
        "sgd(5)"
      ],
      "execution_count": 13,
      "outputs": [
        {
          "output_type": "stream",
          "text": [
            "22.747271764806445\n"
          ],
          "name": "stdout"
        }
      ]
    },
    {
      "cell_type": "code",
      "metadata": {
        "colab": {
          "base_uri": "https://localhost:8080/"
        },
        "id": "qJXf2wSLQCIv",
        "outputId": "ba165702-460e-49de-8342-b425fccc8398"
      },
      "source": [
        "df.iloc[18473, 0]"
      ],
      "execution_count": 72,
      "outputs": [
        {
          "output_type": "execute_result",
          "data": {
            "text/plain": [
              "nan"
            ]
          },
          "metadata": {
            "tags": []
          },
          "execution_count": 72
        }
      ]
    },
    {
      "cell_type": "code",
      "metadata": {
        "id": "OxSnIF5P4b1-"
      },
      "source": [
        "item_features_df = pd.read_excel('movies_latent_factors.xlsx', sheet_name='Items',index_col='Movie ID')\r\n",
        "user_ratings_df = pd.read_excel('movies_latent_factors.xlsx', sheet_name='Users',index_col='User')\r\n",
        "item_features_df = item_features_df.drop('Title', axis=1)"
      ],
      "execution_count": 105,
      "outputs": []
    },
    {
      "cell_type": "code",
      "metadata": {
        "colab": {
          "base_uri": "https://localhost:8080/"
        },
        "id": "ONQiYxvT3-b9",
        "outputId": "a6dda0e9-cb8c-4047-cc84-051c711a9bcd"
      },
      "source": [
        "item_features_df = item_features_df.values\r\n",
        "print(item_features_df)\r\n"
      ],
      "execution_count": 111,
      "outputs": [
        {
          "output_type": "stream",
          "text": [
            "[[-1.522 -1.039  2.027 ...  0.404  1.13  -0.249]\n",
            " [-0.342 -0.297 -0.386 ... -0.564  0.507  1.275]\n",
            " [-2.241 -0.439 -2.275 ... -0.33  -2.209 -0.419]\n",
            " ...\n",
            " [ 0.812 -0.893  0.669 ...  0.642 -1.356  0.068]\n",
            " [ 1.161 -0.716  0.713 ...  0.291 -1.217 -0.288]\n",
            " [ 1.734  0.265 -0.003 ...  0.334 -0.223 -0.023]]\n"
          ],
          "name": "stdout"
        }
      ]
    },
    {
      "cell_type": "code",
      "metadata": {
        "colab": {
          "base_uri": "https://localhost:8080/"
        },
        "id": "w7j3gnXjFYnO",
        "outputId": "efccaab2-c6c5-4131-dedf-c15a822211a2"
      },
      "source": [
        "user_ratings_df = user_ratings_df.values\r\n",
        "print(user_ratings_df)"
      ],
      "execution_count": 112,
      "outputs": [
        {
          "output_type": "stream",
          "text": [
            "[[-2.040e-01  1.611e-01 -9.045e-02  1.385e-01 -1.629e-01  1.639e-01\n",
            "   5.150e-02 -8.858e-02  1.268e-01  6.597e-02  8.501e-02  3.554e-01\n",
            "   7.108e-03 -1.187e-01 -3.913e-02]\n",
            " [-1.897e-01 -1.790e-01 -9.149e-02 -8.228e-04 -3.265e-02  1.772e-01\n",
            "  -9.812e-02 -6.828e-02 -1.157e-02  1.209e-01 -9.931e-03 -4.861e-02\n",
            "   4.592e-02  1.137e-01  1.799e-01]\n",
            " [-1.153e-01 -9.089e-02 -5.313e-02  1.847e-02 -6.808e-02 -4.828e-03\n",
            "   1.130e-01  1.021e-01  3.476e-02  6.926e-04 -7.371e-02 -1.946e-02\n",
            "   1.084e-01  5.447e-02 -1.096e-01]\n",
            " [-2.275e-01 -2.725e-01 -1.723e-02  5.432e-02  2.148e-01 -7.264e-02\n",
            "  -3.312e-02 -8.651e-02 -1.315e-01  1.804e-01  9.589e-02 -8.240e-02\n",
            "   3.677e-02 -1.654e-01  5.069e-02]\n",
            " [-1.462e-02 -1.022e-01 -1.079e-01  1.558e-01 -1.234e-01 -1.182e-01\n",
            "  -1.355e-02 -5.062e-02  5.870e-02 -1.596e-01 -1.424e-01 -1.328e-01\n",
            "  -3.990e-02  1.291e-01  1.027e-01]\n",
            " [-2.030e-02 -3.192e-02 -3.696e-02  3.369e-02  1.745e-04 -3.178e-03\n",
            "   5.447e-02  4.542e-02 -5.331e-02  3.437e-03 -4.175e-02  5.973e-02\n",
            "  -2.165e-02  3.987e-02 -6.186e-02]\n",
            " [-9.146e-02  2.159e-01 -1.805e-01  8.541e-02 -3.211e-01  2.279e-01\n",
            "   5.377e-02  3.802e-02  9.714e-02 -1.399e-01  2.925e-02  2.145e-01\n",
            "   1.893e-01  6.599e-02  1.028e-01]\n",
            " [ 8.191e-04 -9.229e-03 -1.923e-02  2.703e-03  1.287e-02  6.655e-03\n",
            "   7.687e-03  1.875e-02  1.471e-02 -9.256e-03 -1.012e-02 -1.005e-02\n",
            "  -2.108e-03  4.322e-02 -6.670e-03]\n",
            " [-3.053e-02 -1.154e-02 -4.282e-02 -1.438e-02  3.134e-02  1.230e-02\n",
            "  -3.847e-05 -1.026e-02 -6.781e-03 -1.995e-02 -1.444e-02  1.093e-02\n",
            "   2.440e-02  5.318e-03 -7.983e-03]\n",
            " [-8.309e-02 -2.916e-02  1.375e-02  2.272e-02 -6.273e-02 -8.067e-02\n",
            "  -1.972e-02  1.325e-02 -9.130e-02 -9.069e-02  3.064e-02 -1.134e-01\n",
            "  -2.132e-02  1.815e-01  2.236e-02]\n",
            " [-1.854e-01 -2.765e-01 -7.813e-01 -2.405e-01  2.961e-02 -2.718e-01\n",
            "  -5.627e-02 -1.118e-01 -2.909e-01 -2.551e-01 -9.808e-02  1.031e-01\n",
            "  -1.006e-01  1.002e-01  4.320e-02]\n",
            " [-8.324e-02  1.812e-01 -3.443e-01 -1.971e-02 -2.432e-01  3.922e-02\n",
            "  -9.209e-02  1.148e-01 -3.647e-02  4.239e-02 -1.868e-01 -1.270e-01\n",
            "   1.767e-01 -5.581e-02 -4.164e-05]\n",
            " [-4.234e-02 -4.076e-02 -5.572e-02 -7.373e-02  1.820e-02  9.194e-02\n",
            "   1.240e-01 -1.574e-01 -2.039e-02  8.249e-02  2.231e-01 -4.092e-02\n",
            "  -1.303e-01 -2.182e-02  3.455e-02]\n",
            " [-1.133e-01 -9.894e-02 -4.039e-02  4.218e-02 -4.107e-02 -3.957e-02\n",
            "   1.829e-02 -1.913e-01  2.189e-01  1.726e-02 -8.747e-02  3.689e-02\n",
            "   6.710e-02 -1.678e-02 -2.950e-02]\n",
            " [-2.988e-01 -2.902e-01 -1.601e-01  1.563e-01 -5.536e-02 -4.342e-01\n",
            "  -8.926e-02  2.522e-01 -1.074e-01 -8.859e-02  1.212e-01  7.137e-02\n",
            "  -4.156e-01 -2.214e-02 -1.830e-01]\n",
            " [-6.845e-02  2.009e-02  3.934e-02  2.958e-03 -1.814e-02  6.501e-03\n",
            "  -1.085e-01  2.504e-02  5.633e-02 -3.129e-02 -3.553e-02  5.171e-03\n",
            "   5.546e-03  2.078e-02 -2.362e-02]\n",
            " [-6.126e-02  1.466e-02  1.141e-02  1.727e-03  6.500e-02 -7.845e-02\n",
            "   5.951e-02  1.740e-02 -4.023e-02 -7.341e-02 -1.632e-02  3.177e-02\n",
            "  -6.241e-02  1.077e-01  6.508e-02]\n",
            " [-2.234e-02 -1.153e-01 -1.370e-01  3.859e-02 -3.029e-03  7.177e-02\n",
            "  -1.467e-01 -2.857e-01 -4.447e-02 -5.403e-02  6.402e-02 -4.533e-02\n",
            "  -1.119e-01  6.631e-02  2.395e-03]\n",
            " [-1.365e-01 -8.941e-02 -2.354e-01  1.206e-01 -1.682e-01  1.300e-01\n",
            "  -3.508e-02 -3.240e-01  8.753e-02  4.529e-02  2.078e-01 -2.897e-02\n",
            "  -1.752e-01 -5.828e-02  1.478e-01]\n",
            " [-1.218e-01  1.107e-02 -3.712e-02  3.257e-02  1.757e-02  9.580e-02\n",
            "   1.202e-01 -4.841e-02  8.829e-03  1.218e-01  9.378e-02  4.475e-02\n",
            "  -3.087e-03  1.645e-01 -7.523e-02]\n",
            " [-4.029e-02  1.438e-02 -9.897e-02 -1.896e-02  1.239e-02  3.555e-02\n",
            "   9.030e-04  1.284e-02 -2.108e-02  1.874e-02 -5.048e-02 -2.539e-02\n",
            "   3.408e-02  3.833e-02 -1.341e-03]\n",
            " [ 8.227e-03  7.390e-02 -3.240e-01  1.312e-01 -3.209e-01  5.500e-02\n",
            "   6.075e-02  1.623e-01  4.461e-02 -2.322e-01  9.499e-02 -1.066e-01\n",
            "  -5.169e-02 -9.349e-02  2.953e-02]\n",
            " [-3.203e-01  7.829e-02 -8.318e-02 -2.216e-01 -7.818e-02 -1.453e-01\n",
            "  -2.017e-02  1.244e-01 -6.343e-02  4.726e-03  9.683e-03  2.802e-02\n",
            "  -1.810e-02 -1.285e-01  6.997e-02]\n",
            " [-7.617e-02 -6.064e-03 -1.902e-03 -5.364e-02  2.175e-02  4.821e-02\n",
            "  -8.398e-02  1.469e-01 -5.742e-02  6.085e-03  6.324e-02  8.656e-02\n",
            "  -1.323e-01  1.462e-01  2.920e-02]\n",
            " [-1.131e-01  4.764e-02 -5.302e-02  2.483e-02  1.064e-02 -1.205e-02\n",
            "  -4.915e-02  6.252e-03  2.043e-02  4.349e-03  2.837e-02  1.023e-02\n",
            "  -8.233e-03 -2.930e-02  9.051e-02]]\n"
          ],
          "name": "stdout"
        }
      ]
    },
    {
      "cell_type": "code",
      "metadata": {
        "colab": {
          "base_uri": "https://localhost:8080/"
        },
        "id": "tYaJbBBtTb_p",
        "outputId": "08a7dd2b-26a9-456a-b0ff-03e760ae2b21"
      },
      "source": [
        "##Q7\r\n",
        "rating = user_ratings_df[15].dot(item_features_df[46])\r\n",
        "print(rating)"
      ],
      "execution_count": 113,
      "outputs": [
        {
          "output_type": "stream",
          "text": [
            "-0.09541436887627988\n"
          ],
          "name": "stdout"
        }
      ]
    },
    {
      "cell_type": "code",
      "metadata": {
        "colab": {
          "base_uri": "https://localhost:8080/"
        },
        "id": "DioqnqvwogYz",
        "outputId": "c9700e6c-2846-408e-f3da-4247489bc6d0"
      },
      "source": [
        "##Q8\r\n",
        "rating = user_ratings_df[22].dot(item_features_df[54])\r\n",
        "print(rating)"
      ],
      "execution_count": 114,
      "outputs": [
        {
          "output_type": "stream",
          "text": [
            "0.3682088030139018\n"
          ],
          "name": "stdout"
        }
      ]
    },
    {
      "cell_type": "code",
      "metadata": {
        "colab": {
          "base_uri": "https://localhost:8080/",
          "height": 229
        },
        "id": "aFt8AtplYChw",
        "outputId": "79589e3a-095b-480e-cf0b-fadf6e2828cc"
      },
      "source": [
        "##Q9\r\n",
        "rating = []\r\n",
        "for i in range(len(item_features_df)):\r\n",
        "  rating.append(user_ratings_df[14].dot(item_features_df[i]))"
      ],
      "execution_count": 125,
      "outputs": [
        {
          "output_type": "error",
          "ename": "TypeError",
          "evalue": "ignored",
          "traceback": [
            "\u001b[0;31m---------------------------------------------------------------------------\u001b[0m",
            "\u001b[0;31mTypeError\u001b[0m                                 Traceback (most recent call last)",
            "\u001b[0;32m<ipython-input-125-6af0f38d1d54>\u001b[0m in \u001b[0;36m<module>\u001b[0;34m()\u001b[0m\n\u001b[1;32m      3\u001b[0m \u001b[0;32mfor\u001b[0m \u001b[0mi\u001b[0m \u001b[0;32min\u001b[0m \u001b[0mrange\u001b[0m\u001b[0;34m(\u001b[0m\u001b[0mlen\u001b[0m\u001b[0;34m(\u001b[0m\u001b[0mitem_features_df\u001b[0m\u001b[0;34m)\u001b[0m\u001b[0;34m)\u001b[0m\u001b[0;34m:\u001b[0m\u001b[0;34m\u001b[0m\u001b[0;34m\u001b[0m\u001b[0m\n\u001b[1;32m      4\u001b[0m   \u001b[0mrating\u001b[0m\u001b[0;34m.\u001b[0m\u001b[0mappend\u001b[0m\u001b[0;34m(\u001b[0m\u001b[0muser_ratings_df\u001b[0m\u001b[0;34m[\u001b[0m\u001b[0;36m14\u001b[0m\u001b[0;34m]\u001b[0m\u001b[0;34m.\u001b[0m\u001b[0mdot\u001b[0m\u001b[0;34m(\u001b[0m\u001b[0mitem_features_df\u001b[0m\u001b[0;34m[\u001b[0m\u001b[0mi\u001b[0m\u001b[0;34m]\u001b[0m\u001b[0;34m)\u001b[0m\u001b[0;34m)\u001b[0m\u001b[0;34m\u001b[0m\u001b[0;34m\u001b[0m\u001b[0m\n\u001b[0;32m----> 5\u001b[0;31m \u001b[0mprint\u001b[0m\u001b[0;34m(\u001b[0m\u001b[0mnp\u001b[0m\u001b[0;34m.\u001b[0m\u001b[0margmax\u001b[0m\u001b[0;34m(\u001b[0m\u001b[0mrating\u001b[0m\u001b[0;34m,\u001b[0m \u001b[0mn\u001b[0m\u001b[0;34m=\u001b[0m\u001b[0;36m3\u001b[0m\u001b[0;34m)\u001b[0m\u001b[0;34m)\u001b[0m\u001b[0;34m\u001b[0m\u001b[0;34m\u001b[0m\u001b[0m\n\u001b[0m",
            "\u001b[0;32m<__array_function__ internals>\u001b[0m in \u001b[0;36margmax\u001b[0;34m(*args, **kwargs)\u001b[0m\n",
            "\u001b[0;31mTypeError\u001b[0m: _argmax_dispatcher() got an unexpected keyword argument 'n'"
          ]
        }
      ]
    },
    {
      "cell_type": "code",
      "metadata": {
        "colab": {
          "base_uri": "https://localhost:8080/",
          "height": 195
        },
        "id": "EOX4tkfQtrw0",
        "outputId": "2bf7759a-dd9f-4def-a913-66b62c4e2a10"
      },
      "source": [
        "##Q10"
      ],
      "execution_count": 126,
      "outputs": [
        {
          "output_type": "error",
          "ename": "AttributeError",
          "evalue": "ignored",
          "traceback": [
            "\u001b[0;31m---------------------------------------------------------------------------\u001b[0m",
            "\u001b[0;31mAttributeError\u001b[0m                            Traceback (most recent call last)",
            "\u001b[0;32m<ipython-input-126-65cf1e2804b9>\u001b[0m in \u001b[0;36m<module>\u001b[0;34m()\u001b[0m\n\u001b[0;32m----> 1\u001b[0;31m \u001b[0mvalues\u001b[0m \u001b[0;34m=\u001b[0m \u001b[0;34m[\u001b[0m\u001b[0mzip\u001b[0m\u001b[0;34m(\u001b[0m\u001b[0muser_ratings\u001b[0m\u001b[0;34m[\u001b[0m\u001b[0mi\u001b[0m\u001b[0;34m]\u001b[0m\u001b[0;34m,\u001b[0m \u001b[0mrating\u001b[0m\u001b[0;34m[\u001b[0m\u001b[0mi\u001b[0m\u001b[0;34m]\u001b[0m\u001b[0;34m)\u001b[0m \u001b[0;32mfor\u001b[0m \u001b[0mi\u001b[0m \u001b[0;32min\u001b[0m \u001b[0mrange\u001b[0m\u001b[0;34m(\u001b[0m\u001b[0mrating\u001b[0m\u001b[0;34m.\u001b[0m\u001b[0mshape\u001b[0m\u001b[0;34m[\u001b[0m\u001b[0;36m0\u001b[0m\u001b[0;34m]\u001b[0m\u001b[0;34m)\u001b[0m\u001b[0;34m]\u001b[0m\u001b[0;34m\u001b[0m\u001b[0;34m\u001b[0m\u001b[0m\n\u001b[0m\u001b[1;32m      2\u001b[0m \u001b[0mcomparison_data\u001b[0m \u001b[0;34m=\u001b[0m \u001b[0mpd\u001b[0m\u001b[0;34m.\u001b[0m\u001b[0mDataFrame\u001b[0m\u001b[0;34m(\u001b[0m\u001b[0mvalues\u001b[0m\u001b[0;34m)\u001b[0m\u001b[0;34m\u001b[0m\u001b[0;34m\u001b[0m\u001b[0m\n\u001b[1;32m      3\u001b[0m \u001b[0mcomparison_data\u001b[0m\u001b[0;34m.\u001b[0m\u001b[0mcolumns\u001b[0m \u001b[0;34m=\u001b[0m \u001b[0muser_ratings_df\u001b[0m\u001b[0;34m.\u001b[0m\u001b[0mcolumns\u001b[0m\u001b[0;34m\u001b[0m\u001b[0;34m\u001b[0m\u001b[0m\n",
            "\u001b[0;31mAttributeError\u001b[0m: 'list' object has no attribute 'shape'"
          ]
        }
      ]
    },
    {
      "cell_type": "code",
      "metadata": {
        "id": "zpF_hjC6n143"
      },
      "source": [
        ""
      ],
      "execution_count": 94,
      "outputs": []
    },
    {
      "cell_type": "code",
      "metadata": {
        "colab": {
          "base_uri": "https://localhost:8080/",
          "height": 763
        },
        "id": "7pH6yrmZoEss",
        "outputId": "7a67c379-b6dd-4680-d2bc-1630cf8bbc56"
      },
      "source": [
        ""
      ],
      "execution_count": 95,
      "outputs": [
        {
          "output_type": "execute_result",
          "data": {
            "text/html": [
              "<div>\n",
              "<style scoped>\n",
              "    .dataframe tbody tr th:only-of-type {\n",
              "        vertical-align: middle;\n",
              "    }\n",
              "\n",
              "    .dataframe tbody tr th {\n",
              "        vertical-align: top;\n",
              "    }\n",
              "\n",
              "    .dataframe thead th {\n",
              "        text-align: right;\n",
              "    }\n",
              "</style>\n",
              "<table border=\"1\" class=\"dataframe\">\n",
              "  <thead>\n",
              "    <tr style=\"text-align: right;\">\n",
              "      <th></th>\n",
              "      <th>Factor1</th>\n",
              "      <th>Factor2</th>\n",
              "      <th>Factor3</th>\n",
              "      <th>Factor4</th>\n",
              "      <th>Factor5</th>\n",
              "      <th>Factor6</th>\n",
              "      <th>Factor7</th>\n",
              "      <th>Factor8</th>\n",
              "      <th>Factor9</th>\n",
              "      <th>Factor10</th>\n",
              "      <th>Factor11</th>\n",
              "      <th>Factor12</th>\n",
              "      <th>Factor13</th>\n",
              "      <th>Factor14</th>\n",
              "      <th>Factor15</th>\n",
              "    </tr>\n",
              "  </thead>\n",
              "  <tbody>\n",
              "    <tr>\n",
              "      <th>0</th>\n",
              "      <td>(-1.5218476932977845, 0.980999454175521)</td>\n",
              "      <td>(-1.0385074424076217, 0.815834487695268)</td>\n",
              "      <td>(2.0272691992004397, 0.695036651667061)</td>\n",
              "      <td>(0.24793252416549907, 1.6444653012873693)</td>\n",
              "      <td>(-0.5945476708705433, 1.7031856802856138)</td>\n",
              "      <td>(2.5132599646492184, 1.5946759487343896)</td>\n",
              "      <td>(-1.8489100782588614, 0.6814757933186087)</td>\n",
              "      <td>(0.47670996550851713, 1.1463362126607486)</td>\n",
              "      <td>(-0.22414630395868232, 1.2571049684470093)</td>\n",
              "      <td>(-0.7606806322851536, 1.400516292654281)</td>\n",
              "      <td>(-0.973915043301705, 1.2231749297351835)</td>\n",
              "      <td>(0.8623788058062587, 0.560674255810976)</td>\n",
              "      <td>(0.4038611510962773, 1.5114226775936976)</td>\n",
              "      <td>(1.129616009775629, 1.4385847752764198)</td>\n",
              "      <td>(-0.24880587477821164, 1.0018550953939052)</td>\n",
              "    </tr>\n",
              "    <tr>\n",
              "      <th>1</th>\n",
              "      <td>(-0.3421850499080402, 0.7461582276240474)</td>\n",
              "      <td>(-0.2965864805915901, 1.0086779520081008)</td>\n",
              "      <td>(-0.3859624346716409, 0.8058787917566316)</td>\n",
              "      <td>(2.443297472760282, 1.8259012339394065)</td>\n",
              "      <td>(-1.0970147256559732, 1.8852786366979482)</td>\n",
              "      <td>(-0.6194650336224766, 2.1313575255030015)</td>\n",
              "      <td>(0.5728872515470455, 0.8702121605252143)</td>\n",
              "      <td>(0.32951639764434587, 1.23412909906948)</td>\n",
              "      <td>(-0.7122275724503553, 1.0589256666135909)</td>\n",
              "      <td>(0.323554166872264, 1.6929914339380652)</td>\n",
              "      <td>(-0.5619483742932716, 1.4499885391870966)</td>\n",
              "      <td>(-0.14240540452435274, 0.8051430888851128)</td>\n",
              "      <td>(-0.564414727898898, 1.5939660969306795)</td>\n",
              "      <td>(0.5068760116906501, 1.7422434452865545)</td>\n",
              "      <td>(1.2749928648278452, 1.2685946181642158)</td>\n",
              "    </tr>\n",
              "    <tr>\n",
              "      <th>2</th>\n",
              "      <td>(-2.240887934508497, 0.7662978800133377)</td>\n",
              "      <td>(-0.43881534655888726, 0.7773068771208673)</td>\n",
              "      <td>(-2.275177308251021, 0.631898263670099)</td>\n",
              "      <td>(0.6145483150345445, 1.646291841916344)</td>\n",
              "      <td>(0.9044694087071705, 1.782387660883787)</td>\n",
              "      <td>(0.7119192012943475, 1.7496368910458588)</td>\n",
              "      <td>(-0.4208759822211417, 0.6885558366277672)</td>\n",
              "      <td>(1.3020362870925513, 1.1720065004932565)</td>\n",
              "      <td>(-0.8684184400310501, 1.0598310801785915)</td>\n",
              "      <td>(-0.16012176721660587, 1.4065810542151351)</td>\n",
              "      <td>(0.6336672656965909, 1.23508076347814)</td>\n",
              "      <td>(0.13313824090184426, 0.720055399187159)</td>\n",
              "      <td>(-0.3302756915483635, 1.5806334872425791)</td>\n",
              "      <td>(-2.209004313706874, 1.432477566963572)</td>\n",
              "      <td>(-0.4190918295482105, 1.1398335840142721)</td>\n",
              "    </tr>\n",
              "    <tr>\n",
              "      <th>3</th>\n",
              "      <td>(-0.6345314311929691, 0.9362455401205368)</td>\n",
              "      <td>(2.186059153511699, 0.8629093993344911)</td>\n",
              "      <td>(-0.06668121403578782, 0.8622467820833862)</td>\n",
              "      <td>(0.08619684362940656, 1.5791690767825135)</td>\n",
              "      <td>(0.5175578623125866, 1.524197964217573)</td>\n",
              "      <td>(-0.18531850015540424, 1.6134656401494962)</td>\n",
              "      <td>(-0.41235217259040324, 0.6724273383408315)</td>\n",
              "      <td>(0.06384113478497681, 0.8915955070763117)</td>\n",
              "      <td>(0.07593652973833777, 1.2029838110184876)</td>\n",
              "      <td>(-0.5776818744121281, 1.4905848249743565)</td>\n",
              "      <td>(0.526803358487583, 1.1866847065799213)</td>\n",
              "      <td>(-1.4655569127924588, 0.3922307641883918)</td>\n",
              "      <td>(-0.8196822653536391, 1.1589243974013679)</td>\n",
              "      <td>(0.5490104187005649, 1.5409267930866877)</td>\n",
              "      <td>(-0.681191273804317, 0.9075830056839858)</td>\n",
              "    </tr>\n",
              "    <tr>\n",
              "      <th>4</th>\n",
              "      <td>(0.5173475586768793, 0.531051879378947)</td>\n",
              "      <td>(-1.4567626410028327, 0.47506453678439353)</td>\n",
              "      <td>(0.36916090223088244, 0.4700721633093034)</td>\n",
              "      <td>(0.07390276058022058, 1.1639028578315236)</td>\n",
              "      <td>(-0.09833225223695237, 1.2868759178769111)</td>\n",
              "      <td>(-0.5947220240422652, 1.2070473373209334)</td>\n",
              "      <td>(0.8288875702136411, 0.42034205850651274)</td>\n",
              "      <td>(0.03362567864625381, 0.7502685234153624)</td>\n",
              "      <td>(-0.7074141036790657, 0.7561231278797902)</td>\n",
              "      <td>(0.7178766145466209, 0.9913458361699583)</td>\n",
              "      <td>(1.3943263531484733, 0.8245039630930288)</td>\n",
              "      <td>(-0.7869860436664962, 0.47075370500654234)</td>\n",
              "      <td>(1.4291911303067852, 1.0722470233198134)</td>\n",
              "      <td>(0.8557464952619069, 0.9983163866754119)</td>\n",
              "      <td>(-2.2925659870564994, 0.82088256260412)</td>\n",
              "    </tr>\n",
              "    <tr>\n",
              "      <th>5</th>\n",
              "      <td>(-0.6450193025539236, 1.1661846984559832)</td>\n",
              "      <td>(1.9974400370790826, 1.2003808261246602)</td>\n",
              "      <td>(2.0856253626321943, 1.0498606367054677)</td>\n",
              "      <td>(-1.6865592521841126, 2.0423423553114706)</td>\n",
              "      <td>(-0.047874462608931766, 1.965107540270482)</td>\n",
              "      <td>(-1.0462743743743215, 2.163349836058536)</td>\n",
              "      <td>(1.6135745435742297, 0.9607053452837294)</td>\n",
              "      <td>(4.630243471422225, 1.2837092343956795)</td>\n",
              "      <td>(0.276288261929059, 1.4918057100949336)</td>\n",
              "      <td>(0.40899735660716463, 1.921478102721894)</td>\n",
              "      <td>(-1.1480723733757179, 1.6031663453360343)</td>\n",
              "      <td>(0.26985334474953204, 0.6153608941074094)</td>\n",
              "      <td>(0.7245431783859377, 1.602928785908114)</td>\n",
              "      <td>(-0.38568136267969827, 1.997574009532661)</td>\n",
              "      <td>(1.0366559262647952, 1.1955417010200953)</td>\n",
              "    </tr>\n",
              "    <tr>\n",
              "      <th>6</th>\n",
              "      <td>(-0.6955385943024123, 0.31116174437582067)</td>\n",
              "      <td>(1.7717985271041177, 0.5808572259068128)</td>\n",
              "      <td>(0.14364634162124165, 0.6771113823705431)</td>\n",
              "      <td>(0.2447180689715549, 1.3974842404110324)</td>\n",
              "      <td>(0.4342222108860403, 1.5484243520434897)</td>\n",
              "      <td>(-0.3679945952207164, 1.7551013501226003)</td>\n",
              "      <td>(-0.18684096566831307, 0.5202582668809148)</td>\n",
              "      <td>(-0.9614351003192021, 0.7044912157798682)</td>\n",
              "      <td>(0.24022818243462676, 0.611627201439108)</td>\n",
              "      <td>(-0.47423099283703174, 1.3478879595821314)</td>\n",
              "      <td>(0.4924462367994978, 1.0089380582701826)</td>\n",
              "      <td>(-1.04190119016131, 0.6402390372494019)</td>\n",
              "      <td>(-0.1816572137482442, 1.0743626686722205)</td>\n",
              "      <td>(0.4791419316436527, 1.350438641094687)</td>\n",
              "      <td>(0.2374580511571721, 1.1337333416767001)</td>\n",
              "    </tr>\n",
              "    <tr>\n",
              "      <th>7</th>\n",
              "      <td>(-0.6156234603330047, 0.7098930486400359)</td>\n",
              "      <td>(1.3905423239475108, 0.7502297596974062)</td>\n",
              "      <td>(0.7593207433858018, 0.5571840034397125)</td>\n",
              "      <td>(-0.40865488601392314, 1.246517902762578)</td>\n",
              "      <td>(-0.09937531125292752, 1.2241629081502758)</td>\n",
              "      <td>(-0.0735393091610754, 1.318686667245972)</td>\n",
              "      <td>(-0.26183326955838454, 0.6219772265234516)</td>\n",
              "      <td>(-0.9237007356563623, 0.9043028571248503)</td>\n",
              "      <td>(0.07384904165188123, 0.8979908457300514)</td>\n",
              "      <td>(-0.04106690495886021, 1.1255854087805492)</td>\n",
              "      <td>(0.7826042222924189, 1.0052314125740573)</td>\n",
              "      <td>(-0.5391998343751255, 0.4566613027618343)</td>\n",
              "      <td>(0.29009225177037223, 1.1087995174555274)</td>\n",
              "      <td>(-0.22946229790790382, 1.1738339524817614)</td>\n",
              "      <td>(0.4320055828595556, 0.7454224898594631)</td>\n",
              "    </tr>\n",
              "    <tr>\n",
              "      <th>8</th>\n",
              "      <td>(-1.4437300947749632, 0.30956442713165766)</td>\n",
              "      <td>(1.466671173778104, 0.5441022024254941)</td>\n",
              "      <td>(-0.12189432178743553, 0.6941294253270852)</td>\n",
              "      <td>(-0.23793678204242188, 1.1877298948175676)</td>\n",
              "      <td>(-0.301010097906228, 1.2395189231017485)</td>\n",
              "      <td>(-0.6500937205564732, 1.5008814370979848)</td>\n",
              "      <td>(-0.000577067324117128, 0.4496120073669748)</td>\n",
              "      <td>(-1.1225852452264364, 0.4806190183095112)</td>\n",
              "      <td>(-0.20165429658509837, 0.5621515691434155)</td>\n",
              "      <td>(-0.6627041325516967, 1.2223543677847704)</td>\n",
              "      <td>(0.24785896991723344, 0.8610327660420416)</td>\n",
              "      <td>(-0.42999108154573373, 0.4300564849560688)</td>\n",
              "      <td>(-0.03226720172708553, 0.74121612043801)</td>\n",
              "      <td>(0.5133814765380356, 1.2344914485896175)</td>\n",
              "      <td>(0.5052651984719501, 0.903977115012866)</td>\n",
              "    </tr>\n",
              "    <tr>\n",
              "      <th>9</th>\n",
              "      <td>(-1.2417242059129892, 0.3331772664274388)</td>\n",
              "      <td>(0.021130202241894568, 1.0935447149945259)</td>\n",
              "      <td>(0.48916052953509515, 0.40870767523211965)</td>\n",
              "      <td>(0.42458359110346444, 1.1844286896724239)</td>\n",
              "      <td>(-1.2622526188128331, 1.090057588363581)</td>\n",
              "      <td>(1.190654175168116, 1.74743396953012)</td>\n",
              "      <td>(-0.6064337492856849, 0.9734665445675139)</td>\n",
              "      <td>(0.30572132259604784, 1.1959729072169347)</td>\n",
              "      <td>(1.4388615890108358, 0.44936544605767786)</td>\n",
              "      <td>(0.402681664858992, 1.1862115601238596)</td>\n",
              "      <td>(0.43883096883250355, 1.2454627745182434)</td>\n",
              "      <td>(0.7849476769227779, 0.8402230044041259)</td>\n",
              "      <td>(-0.8743747958230503, 1.2379429680210772)</td>\n",
              "      <td>(-0.39998401613039847, 1.279682435259839)</td>\n",
              "      <td>(-0.1976860575680101, 0.8435573045810543)</td>\n",
              "    </tr>\n",
              "    <tr>\n",
              "      <th>10</th>\n",
              "      <td>(-1.3648519459394857, 0.27999216957016976)</td>\n",
              "      <td>(-1.3041363971129223, 0.4096844217701251)</td>\n",
              "      <td>(-1.9416232180785922, 0.38051473070198133)</td>\n",
              "      <td>(-0.6610072974807925, 1.195427311441033)</td>\n",
              "      <td>(0.12887699729482027, 1.4396793677611157)</td>\n",
              "      <td>(0.007048159520360292, 1.4072380651096725)</td>\n",
              "      <td>(0.3710968391540213, 0.42073069375386896)</td>\n",
              "      <td>(0.08602648906414581, 0.8135700768497864)</td>\n",
              "      <td>(-0.13383860329701608, 0.5360594676095318)</td>\n",
              "      <td>(0.5480528070109597, 1.0006967434012672)</td>\n",
              "      <td>(-0.8272155854399978, 0.8461818128156056)</td>\n",
              "      <td>(0.141475893708417, 0.6906892039343828)</td>\n",
              "      <td>(0.7359827073655564, 1.2176720118374291)</td>\n",
              "      <td>(-0.33809996003841863, 0.988094701671836)</td>\n",
              "      <td>(-0.17556519562223152, 1.0223482641289363)</td>\n",
              "    </tr>\n",
              "    <tr>\n",
              "      <th>11</th>\n",
              "      <td>(-1.107665975252439, 0.611944930440775)</td>\n",
              "      <td>(-0.03950568409879181, 1.0129785352005343)</td>\n",
              "      <td>(0.10980898127639378, 0.646261237697449)</td>\n",
              "      <td>(0.16914866990203292, 1.1294100038228134)</td>\n",
              "      <td>(-1.6254666243751932, 0.9063297544303996)</td>\n",
              "      <td>(1.6734945019842777, 1.436483961784048)</td>\n",
              "      <td>(-0.5444585541875322, 0.8081108828993674)</td>\n",
              "      <td>(0.42060260873718947, 0.8322741176863729)</td>\n",
              "      <td>(1.1844038663894811, 0.7307185380257772)</td>\n",
              "      <td>(0.39653049423628156, 1.2083477461297416)</td>\n",
              "      <td>(1.2404460529915957, 1.0902216880778515)</td>\n",
              "      <td>(0.01682451925983776, 0.4075204854381848)</td>\n",
              "      <td>(-0.5821663988851771, 0.8183578049531437)</td>\n",
              "      <td>(-0.757411821464582, 1.303119745660361)</td>\n",
              "      <td>(0.11802446106583232, 0.5971226814126515)</td>\n",
              "    </tr>\n",
              "    <tr>\n",
              "      <th>12</th>\n",
              "      <td>(-0.7154995971213342, 0.4361236522696614)</td>\n",
              "      <td>(1.5261589905158839, 1.0422510177903412)</td>\n",
              "      <td>(0.4132826939183047, 0.4612301668110249)</td>\n",
              "      <td>(-0.35732464938908975, 1.0689171961111572)</td>\n",
              "      <td>(0.15822883435211357, 0.9008456981574342)</td>\n",
              "      <td>(0.17635015363481749, 1.5069021151379949)</td>\n",
              "      <td>(0.10427914406786026, 0.8869265747789851)</td>\n",
              "      <td>(-0.6188405338351234, 1.0138465502090315)</td>\n",
              "      <td>(-0.3792680931219058, 0.528714000479829)</td>\n",
              "      <td>(0.42518171240935315, 1.1089360629070788)</td>\n",
              "      <td>(0.3514524242828317, 1.1261117834405598)</td>\n",
              "      <td>(0.2349716329991587, 0.6214765851379433)</td>\n",
              "      <td>(0.7906606823354887, 0.9975338009363056)</td>\n",
              "      <td>(-0.052538067143623135, 1.2061030204267367)</td>\n",
              "      <td>(-0.4414625731855268, 0.6581425066244215)</td>\n",
              "    </tr>\n",
              "    <tr>\n",
              "      <th>13</th>\n",
              "      <td>(1.658680671871899, 0.761185345029056)</td>\n",
              "      <td>(0.32577394931893094, 0.7853858124833577)</td>\n",
              "      <td>(-1.4362328568584166, 0.6744896542562356)</td>\n",
              "      <td>(0.7269118077858041, 1.1968069956537448)</td>\n",
              "      <td>(1.003382810748078, 1.0785136489675768)</td>\n",
              "      <td>(-0.11312696531623448, 1.2573399005237371)</td>\n",
              "      <td>(-1.0229565675532768, 0.607868723641497)</td>\n",
              "      <td>(1.2839473520792977, 0.7372640276660812)</td>\n",
              "      <td>(0.8878464734029701, 0.9355376562593407)</td>\n",
              "      <td>(0.3787860960928361, 1.1657422959951842)</td>\n",
              "      <td>(0.06186419234943234, 0.9700482956300356)</td>\n",
              "      <td>(-0.520710122983145, 0.29205773040514554)</td>\n",
              "      <td>(0.5206830660186469, 0.8663538862288622)</td>\n",
              "      <td>(0.6625348583603703, 1.2253563696161973)</td>\n",
              "      <td>(-0.1624116323431699, 0.6303038882478852)</td>\n",
              "    </tr>\n",
              "    <tr>\n",
              "      <th>14</th>\n",
              "      <td>(-2.2473949986146313, 0.7057762797364576)</td>\n",
              "      <td>(-2.5100610953017717, 1.1424942637529547)</td>\n",
              "      <td>(2.3108218244852963, 0.6675205176207843)</td>\n",
              "      <td>(0.37603965240445303, 1.6278157319206519)</td>\n",
              "      <td>(2.6774317322352514, 1.5826427252166937)</td>\n",
              "      <td>(-0.3544626451517054, 1.9970839007005508)</td>\n",
              "      <td>(1.133872550060717, 0.9859536064582276)</td>\n",
              "      <td>(-0.7517251280951858, 1.3236231701122543)</td>\n",
              "      <td>(1.444931295314397, 0.9291176991384833)</td>\n",
              "      <td>(1.3485240548665185, 1.5338259611245517)</td>\n",
              "      <td>(-0.22370997385624117, 1.446295106072236)</td>\n",
              "      <td>(-0.4954525848180284, 0.8174196692138906)</td>\n",
              "      <td>(-0.8590710091174473, 1.5305388986003232)</td>\n",
              "      <td>(-0.16796706535150877, 1.6151546637832934)</td>\n",
              "      <td>(-0.27628012281468367, 1.073386603045926)</td>\n",
              "    </tr>\n",
              "  </tbody>\n",
              "</table>\n",
              "</div>"
            ],
            "text/plain": [
              "                                       Factor1  ...                                    Factor15\n",
              "0     (-1.5218476932977845, 0.980999454175521)  ...  (-0.24880587477821164, 1.0018550953939052)\n",
              "1    (-0.3421850499080402, 0.7461582276240474)  ...    (1.2749928648278452, 1.2685946181642158)\n",
              "2     (-2.240887934508497, 0.7662978800133377)  ...   (-0.4190918295482105, 1.1398335840142721)\n",
              "3    (-0.6345314311929691, 0.9362455401205368)  ...    (-0.681191273804317, 0.9075830056839858)\n",
              "4      (0.5173475586768793, 0.531051879378947)  ...     (-2.2925659870564994, 0.82088256260412)\n",
              "5    (-0.6450193025539236, 1.1661846984559832)  ...    (1.0366559262647952, 1.1955417010200953)\n",
              "6   (-0.6955385943024123, 0.31116174437582067)  ...    (0.2374580511571721, 1.1337333416767001)\n",
              "7    (-0.6156234603330047, 0.7098930486400359)  ...    (0.4320055828595556, 0.7454224898594631)\n",
              "8   (-1.4437300947749632, 0.30956442713165766)  ...     (0.5052651984719501, 0.903977115012866)\n",
              "9    (-1.2417242059129892, 0.3331772664274388)  ...   (-0.1976860575680101, 0.8435573045810543)\n",
              "10  (-1.3648519459394857, 0.27999216957016976)  ...  (-0.17556519562223152, 1.0223482641289363)\n",
              "11     (-1.107665975252439, 0.611944930440775)  ...   (0.11802446106583232, 0.5971226814126515)\n",
              "12   (-0.7154995971213342, 0.4361236522696614)  ...   (-0.4414625731855268, 0.6581425066244215)\n",
              "13      (1.658680671871899, 0.761185345029056)  ...   (-0.1624116323431699, 0.6303038882478852)\n",
              "14   (-2.2473949986146313, 0.7057762797364576)  ...   (-0.27628012281468367, 1.073386603045926)\n",
              "\n",
              "[15 rows x 15 columns]"
            ]
          },
          "metadata": {
            "tags": []
          },
          "execution_count": 95
        }
      ]
    }
  ]
}