{
  "nbformat": 4,
  "nbformat_minor": 0,
  "metadata": {
    "colab": {
      "name": "my_recommender.ipynb",
      "provenance": [],
      "authorship_tag": "ABX9TyNZjvx4oRpKE/9zsqiS5U1Q",
      "include_colab_link": true
    },
    "kernelspec": {
      "name": "python3",
      "display_name": "Python 3"
    },
    "accelerator": "GPU"
  },
  "cells": [
    {
      "cell_type": "markdown",
      "metadata": {
        "id": "view-in-github",
        "colab_type": "text"
      },
      "source": [
        "<a href=\"https://colab.research.google.com/github/thanachai-npr/CE888/blob/main/lab4/my_recommender.ipynb\" target=\"_parent\"><img src=\"https://colab.research.google.com/assets/colab-badge.svg\" alt=\"Open In Colab\"/></a>"
      ]
    },
    {
      "cell_type": "code",
      "metadata": {
        "id": "f4utVFFrpfcL"
      },
      "source": [
        "import pandas as pd\r\n",
        "import numpy as np\r\n",
        "from sklearn.svm import SVC\r\n",
        "\r\n",
        "np.set_printoptions(precision=3)"
      ],
      "execution_count": 2,
      "outputs": []
    },
    {
      "cell_type": "code",
      "metadata": {
        "colab": {
          "base_uri": "https://localhost:8080/"
        },
        "id": "IwDi3H26pv2Y",
        "outputId": "1bf0bef9-e94a-4f5a-ead9-ab187588dc77"
      },
      "source": [
        "jokes_df = pd.read_csv(\"https://raw.githubusercontent.com/albanda/CE888/master/lab4-recommender/jester-data-1.csv\",  header = None)\r\n",
        "df = jokes_df.replace(99, np.NaN)\r\n",
        "df.drop([0], axis=1, inplace = True)\r\n",
        "print(df)\r\n"
      ],
      "execution_count": 3,
      "outputs": [
        {
          "output_type": "stream",
          "text": [
            "        1     2     3     4     5     6    ...   95    96    97    98    99    100\n",
            "0     -7.82  8.79 -9.66 -8.16 -7.52 -8.50  ...   NaN   NaN -5.63   NaN   NaN   NaN\n",
            "1      4.08 -0.29  6.36  4.37 -2.38 -9.66  ... -0.19 -2.14  3.06  0.34 -4.32  1.07\n",
            "2       NaN   NaN   NaN   NaN  9.03  9.27  ...   NaN   NaN   NaN   NaN   NaN   NaN\n",
            "3       NaN  8.35   NaN   NaN  1.80  8.16  ...   NaN   NaN   NaN   NaN   NaN   NaN\n",
            "4      8.50  4.61 -4.17 -5.39  1.36  1.60  ...  5.73  1.55  3.11  6.55  1.80  1.60\n",
            "...     ...   ...   ...   ...   ...   ...  ...   ...   ...   ...   ...   ...   ...\n",
            "24978  0.44  7.43  9.08  2.33  3.20  6.75  ...  8.45  9.03  6.55  8.69  8.79  7.43\n",
            "24979  9.13 -8.16  8.59  9.08  0.87 -8.93  ...  9.22 -8.20 -7.23 -8.59  9.13  8.45\n",
            "24980   NaN   NaN   NaN   NaN -7.77   NaN  ...   NaN   NaN   NaN   NaN   NaN   NaN\n",
            "24981   NaN   NaN   NaN   NaN -9.71   NaN  ...   NaN   NaN   NaN   NaN   NaN   NaN\n",
            "24982  2.43  2.67 -3.98  4.27 -2.28  7.33  ...   NaN   NaN   NaN   NaN   NaN   NaN\n",
            "\n",
            "[24983 rows x 100 columns]\n"
          ],
          "name": "stdout"
        }
      ]
    },
    {
      "cell_type": "code",
      "metadata": {
        "colab": {
          "base_uri": "https://localhost:8080/"
        },
        "id": "fw4AY9oCqFVS",
        "outputId": "4e554734-e48b-44b3-fa74-77c93a966f2e"
      },
      "source": [
        "arr = df.values\r\n",
        "print(arr)"
      ],
      "execution_count": 4,
      "outputs": [
        {
          "output_type": "stream",
          "text": [
            "[[-7.82  8.79 -9.66 ...   nan   nan   nan]\n",
            " [ 4.08 -0.29  6.36 ...  0.34 -4.32  1.07]\n",
            " [  nan   nan   nan ...   nan   nan   nan]\n",
            " ...\n",
            " [  nan   nan   nan ...   nan   nan   nan]\n",
            " [  nan   nan   nan ...   nan   nan   nan]\n",
            " [ 2.43  2.67 -3.98 ...   nan   nan   nan]]\n"
          ],
          "name": "stdout"
        }
      ]
    },
    {
      "cell_type": "code",
      "metadata": {
        "id": "mSnB0TVJqG42"
      },
      "source": [
        "def replace(orig, percentage=0.1):\r\n",
        "  \"\"\"\r\n",
        "  Replaces 'percentage'% of the original values in 'orig' with 99's\r\n",
        "  :param orig: original data array\r\n",
        "  :param percentage: percentage of values to replace (0<percentage<1)\r\n",
        "  \"\"\"\r\n",
        "  new_data = orig.copy()\r\n",
        "  rated = np.where(~np.isnan(orig))\r\n",
        "  n_rated = len(rated[0])\r\n",
        "  idx = np.random.choice(n_rated, size=int(percentage*n_rated), replace=False)\r\n",
        "  for i in idx:\r\n",
        "    assert new_data[rated[0][i], rated[1][i]] != np.nan\r\n",
        "  new_data[rated[0][idx], rated[1][idx]] = 99\r\n",
        "  return new_data, (rated[0][idx], rated[1][idx])"
      ],
      "execution_count": 5,
      "outputs": []
    },
    {
      "cell_type": "code",
      "metadata": {
        "id": "pINy0gAetupN"
      },
      "source": [
        "new_arr, idx = replace(arr, 0.1)"
      ],
      "execution_count": 6,
      "outputs": []
    },
    {
      "cell_type": "code",
      "metadata": {
        "colab": {
          "base_uri": "https://localhost:8080/"
        },
        "id": "LfqkfZfVuS7Y",
        "outputId": "f21221d3-1d87-4ec3-a348-16fd34331fca"
      },
      "source": [
        "print(new_arr)"
      ],
      "execution_count": 7,
      "outputs": [
        {
          "output_type": "stream",
          "text": [
            "[[99.    8.79 -9.66 ...   nan   nan   nan]\n",
            " [ 4.08 -0.29  6.36 ...  0.34 -4.32 99.  ]\n",
            " [  nan   nan   nan ...   nan   nan   nan]\n",
            " ...\n",
            " [  nan   nan   nan ...   nan   nan   nan]\n",
            " [  nan   nan   nan ...   nan   nan   nan]\n",
            " [99.    2.67 -3.98 ...   nan   nan   nan]]\n"
          ],
          "name": "stdout"
        }
      ]
    },
    {
      "cell_type": "code",
      "metadata": {
        "colab": {
          "base_uri": "https://localhost:8080/"
        },
        "id": "qDsZjy7IuTPK",
        "outputId": "0d7bf8c9-f6c2-4b4d-d1d4-370e92ea2d33"
      },
      "source": [
        "print(arr)"
      ],
      "execution_count": 8,
      "outputs": [
        {
          "output_type": "stream",
          "text": [
            "[[-7.82  8.79 -9.66 ...   nan   nan   nan]\n",
            " [ 4.08 -0.29  6.36 ...  0.34 -4.32  1.07]\n",
            " [  nan   nan   nan ...   nan   nan   nan]\n",
            " ...\n",
            " [  nan   nan   nan ...   nan   nan   nan]\n",
            " [  nan   nan   nan ...   nan   nan   nan]\n",
            " [ 2.43  2.67 -3.98 ...   nan   nan   nan]]\n"
          ],
          "name": "stdout"
        }
      ]
    },
    {
      "cell_type": "code",
      "metadata": {
        "id": "RX6baGbs4cWA"
      },
      "source": [
        ""
      ],
      "execution_count": 8,
      "outputs": []
    },
    {
      "cell_type": "code",
      "metadata": {
        "id": "Tuec1px84dh8"
      },
      "source": [
        "n_latent_factors = 2\r\n",
        "\r\n",
        "user_ratings = new_arr\r\n",
        "# Initialise as random values\r\n",
        "latent_user_preferences = np.random.random((user_ratings.shape[0], n_latent_factors))\r\n",
        "latent_item_features = np.random.random((user_ratings.shape[1], n_latent_factors))"
      ],
      "execution_count": 9,
      "outputs": []
    },
    {
      "cell_type": "code",
      "metadata": {
        "colab": {
          "base_uri": "https://localhost:8080/"
        },
        "id": "s4MPl3Pk4jzy",
        "outputId": "6d9a6f05-1db6-4b1d-8a34-c0bdfaea8555"
      },
      "source": [
        "latent_item_features"
      ],
      "execution_count": 10,
      "outputs": [
        {
          "output_type": "execute_result",
          "data": {
            "text/plain": [
              "array([[2.084e-01, 7.275e-01],\n",
              "       [2.308e-01, 2.317e-01],\n",
              "       [1.644e-01, 4.462e-01],\n",
              "       [9.254e-01, 1.828e-01],\n",
              "       [5.647e-01, 8.834e-01],\n",
              "       [5.248e-01, 6.909e-01],\n",
              "       [9.214e-02, 9.018e-01],\n",
              "       [4.314e-01, 9.354e-01],\n",
              "       [9.336e-01, 9.772e-01],\n",
              "       [7.053e-01, 2.671e-01],\n",
              "       [7.234e-01, 2.848e-01],\n",
              "       [4.931e-01, 2.554e-01],\n",
              "       [7.525e-02, 3.144e-01],\n",
              "       [4.870e-01, 3.324e-01],\n",
              "       [3.286e-01, 7.627e-01],\n",
              "       [5.861e-01, 5.916e-01],\n",
              "       [7.337e-01, 7.681e-01],\n",
              "       [9.473e-01, 4.866e-01],\n",
              "       [1.560e-01, 8.368e-01],\n",
              "       [8.204e-03, 1.746e-01],\n",
              "       [2.823e-01, 9.882e-01],\n",
              "       [8.802e-01, 2.479e-01],\n",
              "       [9.705e-01, 6.087e-01],\n",
              "       [3.514e-01, 8.568e-01],\n",
              "       [6.501e-01, 5.883e-01],\n",
              "       [4.825e-01, 7.328e-01],\n",
              "       [4.950e-01, 6.266e-01],\n",
              "       [3.143e-01, 6.964e-01],\n",
              "       [8.783e-01, 3.226e-01],\n",
              "       [6.369e-01, 8.073e-02],\n",
              "       [8.275e-01, 5.830e-01],\n",
              "       [2.678e-01, 7.758e-01],\n",
              "       [2.368e-01, 3.389e-01],\n",
              "       [2.454e-01, 9.698e-01],\n",
              "       [2.928e-01, 7.302e-01],\n",
              "       [7.244e-01, 2.461e-01],\n",
              "       [5.111e-01, 1.655e-01],\n",
              "       [9.504e-01, 9.742e-01],\n",
              "       [9.482e-01, 3.708e-02],\n",
              "       [4.027e-01, 5.389e-01],\n",
              "       [2.065e-01, 8.539e-01],\n",
              "       [8.447e-01, 6.037e-01],\n",
              "       [8.672e-02, 2.521e-01],\n",
              "       [4.077e-01, 8.421e-01],\n",
              "       [2.045e-01, 2.502e-01],\n",
              "       [8.093e-01, 7.809e-01],\n",
              "       [2.175e-01, 5.028e-01],\n",
              "       [4.554e-01, 3.084e-01],\n",
              "       [7.664e-01, 1.688e-01],\n",
              "       [5.550e-01, 3.925e-01],\n",
              "       [1.809e-01, 3.482e-02],\n",
              "       [2.649e-01, 6.029e-01],\n",
              "       [3.605e-01, 8.145e-01],\n",
              "       [1.942e-01, 1.116e-01],\n",
              "       [9.583e-01, 7.455e-01],\n",
              "       [3.314e-01, 4.600e-01],\n",
              "       [8.210e-01, 5.600e-01],\n",
              "       [9.208e-01, 5.761e-01],\n",
              "       [8.837e-01, 7.180e-01],\n",
              "       [8.717e-02, 8.037e-01],\n",
              "       [9.555e-01, 3.033e-01],\n",
              "       [3.299e-01, 5.159e-01],\n",
              "       [2.245e-01, 3.803e-01],\n",
              "       [2.591e-01, 7.112e-01],\n",
              "       [3.274e-01, 5.827e-01],\n",
              "       [1.699e-01, 5.975e-02],\n",
              "       [6.103e-01, 5.689e-01],\n",
              "       [8.196e-01, 8.217e-01],\n",
              "       [9.224e-01, 5.696e-01],\n",
              "       [5.682e-01, 2.435e-02],\n",
              "       [2.530e-02, 4.803e-01],\n",
              "       [4.959e-01, 8.630e-02],\n",
              "       [9.734e-01, 8.393e-02],\n",
              "       [4.251e-01, 9.762e-01],\n",
              "       [1.592e-01, 9.863e-01],\n",
              "       [7.836e-01, 2.450e-01],\n",
              "       [7.999e-01, 6.914e-01],\n",
              "       [1.055e-01, 8.495e-01],\n",
              "       [3.839e-01, 9.847e-01],\n",
              "       [2.046e-01, 1.747e-01],\n",
              "       [8.732e-04, 9.258e-01],\n",
              "       [8.698e-01, 5.532e-01],\n",
              "       [9.737e-01, 1.073e-01],\n",
              "       [9.767e-03, 7.888e-02],\n",
              "       [5.755e-01, 8.675e-01],\n",
              "       [1.596e-01, 2.854e-01],\n",
              "       [2.163e-01, 5.144e-01],\n",
              "       [1.660e-01, 9.226e-01],\n",
              "       [5.148e-01, 5.348e-01],\n",
              "       [6.287e-02, 9.635e-01],\n",
              "       [8.067e-01, 6.406e-01],\n",
              "       [4.432e-01, 3.150e-01],\n",
              "       [2.248e-01, 7.403e-01],\n",
              "       [4.417e-01, 9.967e-01],\n",
              "       [3.772e-01, 4.090e-01],\n",
              "       [5.516e-01, 8.622e-01],\n",
              "       [6.238e-01, 3.763e-01],\n",
              "       [9.553e-01, 3.782e-01],\n",
              "       [1.309e-01, 3.468e-01],\n",
              "       [5.600e-01, 4.063e-01]])"
            ]
          },
          "metadata": {
            "tags": []
          },
          "execution_count": 10
        }
      ]
    },
    {
      "cell_type": "code",
      "metadata": {
        "colab": {
          "base_uri": "https://localhost:8080/"
        },
        "id": "I-res9Ic4lXs",
        "outputId": "cfe2b259-0c61-433b-867e-24bd7effd2bc"
      },
      "source": [
        "latent_user_preferences"
      ],
      "execution_count": 11,
      "outputs": [
        {
          "output_type": "execute_result",
          "data": {
            "text/plain": [
              "array([[0.85 , 0.357],\n",
              "       [0.202, 0.852],\n",
              "       [0.442, 0.774],\n",
              "       ...,\n",
              "       [0.551, 0.312],\n",
              "       [0.529, 0.086],\n",
              "       [0.418, 0.28 ]])"
            ]
          },
          "metadata": {
            "tags": []
          },
          "execution_count": 11
        }
      ]
    },
    {
      "cell_type": "code",
      "metadata": {
        "id": "CTFH7G5b4m1E"
      },
      "source": [
        "def predict_rating(user_id, item_id):\r\n",
        "    \"\"\" Predict a rating given a user_id and an item_id.\r\n",
        "    \"\"\"\r\n",
        "    user_preference = latent_user_preferences[user_id]\r\n",
        "    item_preference = latent_item_features[item_id]\r\n",
        "    return user_preference.dot(item_preference)\r\n",
        "\r\n",
        "\r\n",
        "def train(user_id, item_id, rating, alpha=0.0001):\r\n",
        "    #print(item_id)\r\n",
        "    predicted_rating = predict_rating(user_id, item_id)\r\n",
        "    err =  predicted_rating - rating\r\n",
        "    #print(err)\r\n",
        "    user_pref_values = latent_user_preferences[user_id]\r\n",
        "    latent_user_preferences[user_id] -= alpha * err * latent_item_features[item_id]\r\n",
        "    latent_item_features[item_id] -= alpha * err * user_pref_values\r\n",
        "    return err\r\n",
        "\r\n",
        "def sgd(iterations):\r\n",
        "    \"\"\" \r\n",
        "    Iterate over all users and all items and train for \r\n",
        "    a certain number of iterations\r\n",
        "    \"\"\"\r\n",
        "    \r\n",
        "    for iteration in range(iterations):\r\n",
        "        error = []\r\n",
        "        for user_id in range(latent_user_preferences.shape[0]):\r\n",
        "            for item_id in range(latent_item_features.shape[0]):\r\n",
        "              rating = user_ratings[user_id, item_id]\r\n",
        "              if not np.isnan(rating) and rating != 99:\r\n",
        "                err = train(user_id, item_id, rating)\r\n",
        "                error.append(err)\r\n",
        "    mse = (np.array(error) ** 2).mean()          \r\n",
        "    print(mse)"
      ],
      "execution_count": 12,
      "outputs": []
    },
    {
      "cell_type": "code",
      "metadata": {
        "colab": {
          "base_uri": "https://localhost:8080/"
        },
        "id": "Q5sqrs4lzKDG",
        "outputId": "20008e9a-3dab-47db-bd4d-04911645574f"
      },
      "source": [
        "sgd(5)"
      ],
      "execution_count": 13,
      "outputs": [
        {
          "output_type": "stream",
          "text": [
            "24.519446003293705\n"
          ],
          "name": "stdout"
        }
      ]
    },
    {
      "cell_type": "code",
      "metadata": {
        "colab": {
          "base_uri": "https://localhost:8080/"
        },
        "id": "qJXf2wSLQCIv",
        "outputId": "40e4813c-0dcd-424c-965b-7cb5f46cdcf8"
      },
      "source": [
        "df.iloc[18473, 0]"
      ],
      "execution_count": 14,
      "outputs": [
        {
          "output_type": "execute_result",
          "data": {
            "text/plain": [
              "nan"
            ]
          },
          "metadata": {
            "tags": []
          },
          "execution_count": 14
        }
      ]
    },
    {
      "cell_type": "code",
      "metadata": {
        "id": "OxSnIF5P4b1-"
      },
      "source": [
        "item_features_df = pd.read_excel('movies_latent_factors.xlsx', sheet_name='Items',index_col='Movie ID')\r\n",
        "user_ratings_df = pd.read_excel('movies_latent_factors.xlsx', sheet_name='Users',index_col='User')\r\n",
        "item_features_df = item_features_df.drop('Title', axis=1)"
      ],
      "execution_count": 15,
      "outputs": []
    },
    {
      "cell_type": "code",
      "metadata": {
        "colab": {
          "base_uri": "https://localhost:8080/"
        },
        "id": "ONQiYxvT3-b9",
        "outputId": "796818a7-1654-4e5e-eefc-9839c029b2c0"
      },
      "source": [
        "item_features_df = item_features_df.values\r\n",
        "print(item_features_df)\r\n"
      ],
      "execution_count": 16,
      "outputs": [
        {
          "output_type": "stream",
          "text": [
            "[[-1.522 -1.039  2.027 ...  0.404  1.13  -0.249]\n",
            " [-0.342 -0.297 -0.386 ... -0.564  0.507  1.275]\n",
            " [-2.241 -0.439 -2.275 ... -0.33  -2.209 -0.419]\n",
            " ...\n",
            " [ 0.812 -0.893  0.669 ...  0.642 -1.356  0.068]\n",
            " [ 1.161 -0.716  0.713 ...  0.291 -1.217 -0.288]\n",
            " [ 1.734  0.265 -0.003 ...  0.334 -0.223 -0.023]]\n"
          ],
          "name": "stdout"
        }
      ]
    },
    {
      "cell_type": "code",
      "metadata": {
        "colab": {
          "base_uri": "https://localhost:8080/"
        },
        "id": "w7j3gnXjFYnO",
        "outputId": "456afc84-7e1c-4b57-8eb1-aa5bb2fd2bd7"
      },
      "source": [
        "user_ratings_df = user_ratings_df.values\r\n",
        "print(user_ratings_df)"
      ],
      "execution_count": 17,
      "outputs": [
        {
          "output_type": "stream",
          "text": [
            "[[-2.040e-01  1.611e-01 -9.045e-02  1.385e-01 -1.629e-01  1.639e-01\n",
            "   5.150e-02 -8.858e-02  1.268e-01  6.597e-02  8.501e-02  3.554e-01\n",
            "   7.108e-03 -1.187e-01 -3.913e-02]\n",
            " [-1.897e-01 -1.790e-01 -9.149e-02 -8.228e-04 -3.265e-02  1.772e-01\n",
            "  -9.812e-02 -6.828e-02 -1.157e-02  1.209e-01 -9.931e-03 -4.861e-02\n",
            "   4.592e-02  1.137e-01  1.799e-01]\n",
            " [-1.153e-01 -9.089e-02 -5.313e-02  1.847e-02 -6.808e-02 -4.828e-03\n",
            "   1.130e-01  1.021e-01  3.476e-02  6.926e-04 -7.371e-02 -1.946e-02\n",
            "   1.084e-01  5.447e-02 -1.096e-01]\n",
            " [-2.275e-01 -2.725e-01 -1.723e-02  5.432e-02  2.148e-01 -7.264e-02\n",
            "  -3.312e-02 -8.651e-02 -1.315e-01  1.804e-01  9.589e-02 -8.240e-02\n",
            "   3.677e-02 -1.654e-01  5.069e-02]\n",
            " [-1.462e-02 -1.022e-01 -1.079e-01  1.558e-01 -1.234e-01 -1.182e-01\n",
            "  -1.355e-02 -5.062e-02  5.870e-02 -1.596e-01 -1.424e-01 -1.328e-01\n",
            "  -3.990e-02  1.291e-01  1.027e-01]\n",
            " [-2.030e-02 -3.192e-02 -3.696e-02  3.369e-02  1.745e-04 -3.178e-03\n",
            "   5.447e-02  4.542e-02 -5.331e-02  3.437e-03 -4.175e-02  5.973e-02\n",
            "  -2.165e-02  3.987e-02 -6.186e-02]\n",
            " [-9.146e-02  2.159e-01 -1.805e-01  8.541e-02 -3.211e-01  2.279e-01\n",
            "   5.377e-02  3.802e-02  9.714e-02 -1.399e-01  2.925e-02  2.145e-01\n",
            "   1.893e-01  6.599e-02  1.028e-01]\n",
            " [ 8.191e-04 -9.229e-03 -1.923e-02  2.703e-03  1.287e-02  6.655e-03\n",
            "   7.687e-03  1.875e-02  1.471e-02 -9.256e-03 -1.012e-02 -1.005e-02\n",
            "  -2.108e-03  4.322e-02 -6.670e-03]\n",
            " [-3.053e-02 -1.154e-02 -4.282e-02 -1.438e-02  3.134e-02  1.230e-02\n",
            "  -3.847e-05 -1.026e-02 -6.781e-03 -1.995e-02 -1.444e-02  1.093e-02\n",
            "   2.440e-02  5.318e-03 -7.983e-03]\n",
            " [-8.309e-02 -2.916e-02  1.375e-02  2.272e-02 -6.273e-02 -8.067e-02\n",
            "  -1.972e-02  1.325e-02 -9.130e-02 -9.069e-02  3.064e-02 -1.134e-01\n",
            "  -2.132e-02  1.815e-01  2.236e-02]\n",
            " [-1.854e-01 -2.765e-01 -7.813e-01 -2.405e-01  2.961e-02 -2.718e-01\n",
            "  -5.627e-02 -1.118e-01 -2.909e-01 -2.551e-01 -9.808e-02  1.031e-01\n",
            "  -1.006e-01  1.002e-01  4.320e-02]\n",
            " [-8.324e-02  1.812e-01 -3.443e-01 -1.971e-02 -2.432e-01  3.922e-02\n",
            "  -9.209e-02  1.148e-01 -3.647e-02  4.239e-02 -1.868e-01 -1.270e-01\n",
            "   1.767e-01 -5.581e-02 -4.164e-05]\n",
            " [-4.234e-02 -4.076e-02 -5.572e-02 -7.373e-02  1.820e-02  9.194e-02\n",
            "   1.240e-01 -1.574e-01 -2.039e-02  8.249e-02  2.231e-01 -4.092e-02\n",
            "  -1.303e-01 -2.182e-02  3.455e-02]\n",
            " [-1.133e-01 -9.894e-02 -4.039e-02  4.218e-02 -4.107e-02 -3.957e-02\n",
            "   1.829e-02 -1.913e-01  2.189e-01  1.726e-02 -8.747e-02  3.689e-02\n",
            "   6.710e-02 -1.678e-02 -2.950e-02]\n",
            " [-2.988e-01 -2.902e-01 -1.601e-01  1.563e-01 -5.536e-02 -4.342e-01\n",
            "  -8.926e-02  2.522e-01 -1.074e-01 -8.859e-02  1.212e-01  7.137e-02\n",
            "  -4.156e-01 -2.214e-02 -1.830e-01]\n",
            " [-6.845e-02  2.009e-02  3.934e-02  2.958e-03 -1.814e-02  6.501e-03\n",
            "  -1.085e-01  2.504e-02  5.633e-02 -3.129e-02 -3.553e-02  5.171e-03\n",
            "   5.546e-03  2.078e-02 -2.362e-02]\n",
            " [-6.126e-02  1.466e-02  1.141e-02  1.727e-03  6.500e-02 -7.845e-02\n",
            "   5.951e-02  1.740e-02 -4.023e-02 -7.341e-02 -1.632e-02  3.177e-02\n",
            "  -6.241e-02  1.077e-01  6.508e-02]\n",
            " [-2.234e-02 -1.153e-01 -1.370e-01  3.859e-02 -3.029e-03  7.177e-02\n",
            "  -1.467e-01 -2.857e-01 -4.447e-02 -5.403e-02  6.402e-02 -4.533e-02\n",
            "  -1.119e-01  6.631e-02  2.395e-03]\n",
            " [-1.365e-01 -8.941e-02 -2.354e-01  1.206e-01 -1.682e-01  1.300e-01\n",
            "  -3.508e-02 -3.240e-01  8.753e-02  4.529e-02  2.078e-01 -2.897e-02\n",
            "  -1.752e-01 -5.828e-02  1.478e-01]\n",
            " [-1.218e-01  1.107e-02 -3.712e-02  3.257e-02  1.757e-02  9.580e-02\n",
            "   1.202e-01 -4.841e-02  8.829e-03  1.218e-01  9.378e-02  4.475e-02\n",
            "  -3.087e-03  1.645e-01 -7.523e-02]\n",
            " [-4.029e-02  1.438e-02 -9.897e-02 -1.896e-02  1.239e-02  3.555e-02\n",
            "   9.030e-04  1.284e-02 -2.108e-02  1.874e-02 -5.048e-02 -2.539e-02\n",
            "   3.408e-02  3.833e-02 -1.341e-03]\n",
            " [ 8.227e-03  7.390e-02 -3.240e-01  1.312e-01 -3.209e-01  5.500e-02\n",
            "   6.075e-02  1.623e-01  4.461e-02 -2.322e-01  9.499e-02 -1.066e-01\n",
            "  -5.169e-02 -9.349e-02  2.953e-02]\n",
            " [-3.203e-01  7.829e-02 -8.318e-02 -2.216e-01 -7.818e-02 -1.453e-01\n",
            "  -2.017e-02  1.244e-01 -6.343e-02  4.726e-03  9.683e-03  2.802e-02\n",
            "  -1.810e-02 -1.285e-01  6.997e-02]\n",
            " [-7.617e-02 -6.064e-03 -1.902e-03 -5.364e-02  2.175e-02  4.821e-02\n",
            "  -8.398e-02  1.469e-01 -5.742e-02  6.085e-03  6.324e-02  8.656e-02\n",
            "  -1.323e-01  1.462e-01  2.920e-02]\n",
            " [-1.131e-01  4.764e-02 -5.302e-02  2.483e-02  1.064e-02 -1.205e-02\n",
            "  -4.915e-02  6.252e-03  2.043e-02  4.349e-03  2.837e-02  1.023e-02\n",
            "  -8.233e-03 -2.930e-02  9.051e-02]]\n"
          ],
          "name": "stdout"
        }
      ]
    },
    {
      "cell_type": "code",
      "metadata": {
        "colab": {
          "base_uri": "https://localhost:8080/"
        },
        "id": "tYaJbBBtTb_p",
        "outputId": "a82fd8b9-fd9f-4a57-b7d0-b0ec0b4d499d"
      },
      "source": [
        "##Q7\r\n",
        "rating = user_ratings_df[15].dot(item_features_df[46])\r\n",
        "print(rating)"
      ],
      "execution_count": 18,
      "outputs": [
        {
          "output_type": "stream",
          "text": [
            "-0.09541436887627988\n"
          ],
          "name": "stdout"
        }
      ]
    },
    {
      "cell_type": "code",
      "metadata": {
        "colab": {
          "base_uri": "https://localhost:8080/"
        },
        "id": "DioqnqvwogYz",
        "outputId": "4f748b21-00b4-42bf-f7cb-cff8475502c1"
      },
      "source": [
        "##Q8\r\n",
        "rating = user_ratings_df[22].dot(item_features_df[54])\r\n",
        "print(rating)"
      ],
      "execution_count": 19,
      "outputs": [
        {
          "output_type": "stream",
          "text": [
            "0.3682088030139018\n"
          ],
          "name": "stdout"
        }
      ]
    },
    {
      "cell_type": "code",
      "metadata": {
        "id": "aFt8AtplYChw"
      },
      "source": [
        "##Q9\r\n",
        "rating = []\r\n",
        "for i in range(len(item_features_df)):\r\n",
        "  rating.append(user_ratings_df[14].dot(item_features_df[i]))"
      ],
      "execution_count": 20,
      "outputs": []
    },
    {
      "cell_type": "code",
      "metadata": {
        "id": "EOX4tkfQtrw0"
      },
      "source": [
        "##Q10"
      ],
      "execution_count": 21,
      "outputs": []
    },
    {
      "cell_type": "markdown",
      "metadata": {
        "id": "LCBGnyBUX5wf"
      },
      "source": [
        "2nd TRY\r\n"
      ]
    },
    {
      "cell_type": "code",
      "metadata": {
        "id": "IvPzb8QRX95_",
        "outputId": "30c3b739-84e5-4465-d69a-b72e893ed2c6",
        "colab": {
          "base_uri": "https://localhost:8080/"
        }
      },
      "source": [
        "##Q4\r\n",
        "df.iloc[12435, 16]"
      ],
      "execution_count": 22,
      "outputs": [
        {
          "output_type": "execute_result",
          "data": {
            "text/plain": [
              "-6.41"
            ]
          },
          "metadata": {
            "tags": []
          },
          "execution_count": 22
        }
      ]
    },
    {
      "cell_type": "code",
      "metadata": {
        "id": "pS4TepscZC7n",
        "outputId": "2d2c2417-f7d1-4482-bf58-3457d58a2d43",
        "colab": {
          "base_uri": "https://localhost:8080/"
        }
      },
      "source": [
        "##Q5\r\n",
        "item_features_df[46][0]"
      ],
      "execution_count": 32,
      "outputs": [
        {
          "output_type": "execute_result",
          "data": {
            "text/plain": [
              "-0.34266902985219055"
            ]
          },
          "metadata": {
            "tags": []
          },
          "execution_count": 32
        }
      ]
    },
    {
      "cell_type": "code",
      "metadata": {
        "id": "M0KT25VYafQv",
        "outputId": "3f0f6e10-ac5d-441b-c247-574a7e90aea0",
        "colab": {
          "base_uri": "https://localhost:8080/"
        }
      },
      "source": [
        "##Q6\r\n",
        "np.argsort(item_features_df[:,2])"
      ],
      "execution_count": 39,
      "outputs": [
        {
          "output_type": "execute_result",
          "data": {
            "text/plain": [
              "array([47,  2, 39, 10, 33, 13, 26, 69, 89, 54, 38, 60, 84, 83, 91, 27, 81,\n",
              "       63, 40, 49, 76, 73, 71, 22, 45, 75, 87, 31, 72, 35, 94, 44,  1, 48,\n",
              "       21, 68, 96, 53, 92, 56,  8, 93, 64, 23, 90,  3, 74, 50, 70, 99, 51,\n",
              "       41, 85, 65, 80, 11, 67,  6, 46, 66, 62, 55, 25, 95, 61, 32,  4, 20,\n",
              "       52, 30, 12, 34, 28, 42, 82,  9, 37, 88, 43, 18, 17, 97, 59, 98,  7,\n",
              "       19, 29, 24, 79, 86, 58, 57, 36,  0,  5, 78, 16, 77, 15, 14])"
            ]
          },
          "metadata": {
            "tags": []
          },
          "execution_count": 39
        }
      ]
    },
    {
      "cell_type": "code",
      "metadata": {
        "id": "3h3nx9HUbI09",
        "outputId": "f606b17b-5797-41ef-b6a3-bc7629d58603",
        "colab": {
          "base_uri": "https://localhost:8080/"
        }
      },
      "source": [
        "##Q7\r\n",
        "rating = user_ratings_df[20].dot(item_features_df[2])\r\n",
        "print(rating)"
      ],
      "execution_count": 40,
      "outputs": [
        {
          "output_type": "stream",
          "text": [
            "0.23490491668438457\n"
          ],
          "name": "stdout"
        }
      ]
    },
    {
      "cell_type": "code",
      "metadata": {
        "id": "uv2pR5nObm7S",
        "outputId": "e3609a0c-4c91-4d7b-b646-f14e4df86094",
        "colab": {
          "base_uri": "https://localhost:8080/"
        }
      },
      "source": [
        "##Q8\r\n",
        "rating = user_ratings_df[14].dot(item_features_df[8])\r\n",
        "print(rating)"
      ],
      "execution_count": 41,
      "outputs": [
        {
          "output_type": "stream",
          "text": [
            "-0.00686305800686321\n"
          ],
          "name": "stdout"
        }
      ]
    },
    {
      "cell_type": "code",
      "metadata": {
        "id": "vTxsXyyFb54X",
        "outputId": "afda4f2b-4ae8-4971-cd17-cec68db3557a",
        "colab": {
          "base_uri": "https://localhost:8080/"
        }
      },
      "source": [
        "##Q9\r\n",
        "rating = []\r\n",
        "for i in range(len(item_features_df)):\r\n",
        "  rating.append(user_ratings_df[9].dot(item_features_df[i]))\r\n",
        "print(np.argsort(rating)[::-1])\r\n"
      ],
      "execution_count": 42,
      "outputs": [
        {
          "output_type": "stream",
          "text": [
            "[51 50 47 21 41  8  1 30  3 25 27 70 91 20 22 77  6  4 46 95 19  0 78 59\n",
            " 39 83 84 71 61 72 53 23 57 67 58 55 96 79 35 73  7 49 32 31 65 66 54 18\n",
            " 52 33 38 64 34 24 17 48 10 80 60 12  5 16 36 14 88 69 98 97 28 13 15 42\n",
            " 11 62 29 93 43  9 86 44 89  2 40 37 82 45 87 76 56 92 74 81 68 85 75 99\n",
            " 26 63 94 90]\n"
          ],
          "name": "stdout"
        }
      ]
    },
    {
      "cell_type": "code",
      "metadata": {
        "id": "_R-tzPd_cZvX",
        "outputId": "ede54fbf-dcab-465a-a6ff-c6d76f55bf5b",
        "colab": {
          "base_uri": "https://localhost:8080/"
        }
      },
      "source": [
        "##Q10\r\n",
        "rating = []\r\n",
        "for i in range(len(item_features_df)):\r\n",
        "  rating.append(user_ratings_df[0].dot(item_features_df[i]))\r\n",
        "print(np.argsort(rating)[::-1])"
      ],
      "execution_count": 43,
      "outputs": [
        {
          "output_type": "stream",
          "text": [
            "[ 9 11 33  2 65 59 53 27 38 87 83 64 31 90 70 12 32 69 77 34 44 41  0 73\n",
            " 60 84 48 75 46 78 54 26  8 17 21 95 35 74 28 94 10  1  7 63 85 92 99 45\n",
            " 39 89 18 80 25 66 62 55 57 58  6 30 88 40 68 91 82 22 67 76 93 20 24 52\n",
            "  3 50 96 81 29 23 71 14  5 97 61 16 19 36 56 15 13 98  4 49 42 72 43 37\n",
            " 86 79 47 51]\n"
          ],
          "name": "stdout"
        }
      ]
    }
  ]
}