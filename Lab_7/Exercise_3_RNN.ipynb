{
  "nbformat": 4,
  "nbformat_minor": 0,
  "metadata": {
    "kernelspec": {
      "display_name": "Python 3",
      "language": "python",
      "name": "python3"
    },
    "language_info": {
      "codemirror_mode": {
        "name": "ipython",
        "version": 3
      },
      "file_extension": ".py",
      "mimetype": "text/x-python",
      "name": "python",
      "nbconvert_exporter": "python",
      "pygments_lexer": "ipython3",
      "version": "3.6.5"
    },
    "colab": {
      "name": "Exercise_3_RNN.ipynb",
      "provenance": [],
      "include_colab_link": true
    },
    "accelerator": "GPU"
  },
  "cells": [
    {
      "cell_type": "markdown",
      "metadata": {
        "id": "view-in-github",
        "colab_type": "text"
      },
      "source": [
        "<a href=\"https://colab.research.google.com/github/thanachai-npr/CE888/blob/main/Lab_7/Exercise_3_RNN.ipynb\" target=\"_parent\"><img src=\"https://colab.research.google.com/assets/colab-badge.svg\" alt=\"Open In Colab\"/></a>"
      ]
    },
    {
      "cell_type": "code",
      "metadata": {
        "id": "2OEAdhW0qjg9",
        "colab": {
          "base_uri": "https://localhost:8080/",
          "height": 36
        },
        "outputId": "b3ad6b9c-1d4f-471e-8664-1fa760b94cf8"
      },
      "source": [
        "import keras\n",
        "keras.__version__"
      ],
      "execution_count": 1,
      "outputs": [
        {
          "output_type": "execute_result",
          "data": {
            "application/vnd.google.colaboratory.intrinsic+json": {
              "type": "string"
            },
            "text/plain": [
              "'2.4.3'"
            ]
          },
          "metadata": {
            "tags": []
          },
          "execution_count": 1
        }
      ]
    },
    {
      "cell_type": "code",
      "metadata": {
        "id": "TYsNtFxgqjhC",
        "colab": {
          "base_uri": "https://localhost:8080/"
        },
        "outputId": "11f161a2-2906-4470-998c-c8d1dff9d357"
      },
      "source": [
        "from keras.preprocessing.text import Tokenizer\n",
        "samples = ['The cat sat on the mat.', 'The dog ate my homework.']\n",
        "\n",
        "# We create a tokenizer, configured to only take into account the top-1000 most common words\n",
        "tokenizer = Tokenizer(num_words=1000)\n",
        "\n",
        "# This builds the word index\n",
        "tokenizer.fit_on_texts(samples)\n",
        "\n",
        "# This turns strings into lists of integer indices.\n",
        "sequences = tokenizer.texts_to_sequences(samples)\n",
        "\n",
        "# You could also directly get the one-hot binary representations.\n",
        "# Note that other vectorization modes than one-hot encoding are supported!\n",
        "one_hot_results = tokenizer.texts_to_matrix(samples, mode='binary')\n",
        "\n",
        "# This is how you can recover the word index that was computed\n",
        "word_index = tokenizer.word_index\n",
        "print('Found %s unique tokens.' % len(word_index))"
      ],
      "execution_count": 2,
      "outputs": [
        {
          "output_type": "stream",
          "text": [
            "Found 9 unique tokens.\n"
          ],
          "name": "stdout"
        }
      ]
    },
    {
      "cell_type": "code",
      "metadata": {
        "id": "_1bFuvqKqjhF",
        "colab": {
          "base_uri": "https://localhost:8080/"
        },
        "outputId": "5fb8278a-f5c7-4a61-f7a9-a34fdc5b71e5"
      },
      "source": [
        "one_hot_results"
      ],
      "execution_count": 3,
      "outputs": [
        {
          "output_type": "execute_result",
          "data": {
            "text/plain": [
              "array([[0., 1., 1., ..., 0., 0., 0.],\n",
              "       [0., 1., 0., ..., 0., 0., 0.]])"
            ]
          },
          "metadata": {
            "tags": []
          },
          "execution_count": 3
        }
      ]
    },
    {
      "cell_type": "markdown",
      "metadata": {
        "id": "95o1mdJkqjhI"
      },
      "source": [
        "Using word-embeddings "
      ]
    },
    {
      "cell_type": "code",
      "metadata": {
        "id": "DSAIqfdoqjhJ",
        "colab": {
          "base_uri": "https://localhost:8080/"
        },
        "outputId": "44c92b98-676e-4b44-8855-c33556835e35"
      },
      "source": [
        "from keras.datasets import imdb\n",
        "from keras.preprocessing import sequence\n",
        "\n",
        "max_features = 10000\n",
        "maxlen = 500\n",
        "batch_size = 32\n",
        "print('Loading data...')\n",
        "(input_train, y_train), (input_test, y_test) = imdb.load_data(num_words=max_features)\n",
        "print(len(input_train), 'train sequences')\n",
        "print(len(input_test), 'test sequences')\n",
        "print('Pad sequences (samples x time)')\n",
        "input_train = sequence.pad_sequences(input_train, maxlen=maxlen)\n",
        "input_test = sequence.pad_sequences(input_test, maxlen=maxlen)\n",
        "print('input_train shape:', input_train.shape)\n",
        "print('input_test shape:', input_test.shape)"
      ],
      "execution_count": 4,
      "outputs": [
        {
          "output_type": "stream",
          "text": [
            "Loading data...\n",
            "Downloading data from https://storage.googleapis.com/tensorflow/tf-keras-datasets/imdb.npz\n",
            "17465344/17464789 [==============================] - 0s 0us/step\n"
          ],
          "name": "stdout"
        },
        {
          "output_type": "stream",
          "text": [
            "<string>:6: VisibleDeprecationWarning: Creating an ndarray from ragged nested sequences (which is a list-or-tuple of lists-or-tuples-or ndarrays with different lengths or shapes) is deprecated. If you meant to do this, you must specify 'dtype=object' when creating the ndarray\n",
            "/usr/local/lib/python3.7/dist-packages/tensorflow/python/keras/datasets/imdb.py:159: VisibleDeprecationWarning: Creating an ndarray from ragged nested sequences (which is a list-or-tuple of lists-or-tuples-or ndarrays with different lengths or shapes) is deprecated. If you meant to do this, you must specify 'dtype=object' when creating the ndarray\n",
            "  x_train, y_train = np.array(xs[:idx]), np.array(labels[:idx])\n",
            "/usr/local/lib/python3.7/dist-packages/tensorflow/python/keras/datasets/imdb.py:160: VisibleDeprecationWarning: Creating an ndarray from ragged nested sequences (which is a list-or-tuple of lists-or-tuples-or ndarrays with different lengths or shapes) is deprecated. If you meant to do this, you must specify 'dtype=object' when creating the ndarray\n",
            "  x_test, y_test = np.array(xs[idx:]), np.array(labels[idx:])\n"
          ],
          "name": "stderr"
        },
        {
          "output_type": "stream",
          "text": [
            "25000 train sequences\n",
            "25000 test sequences\n",
            "Pad sequences (samples x time)\n",
            "input_train shape: (25000, 500)\n",
            "input_test shape: (25000, 500)\n"
          ],
          "name": "stdout"
        }
      ]
    },
    {
      "cell_type": "markdown",
      "metadata": {
        "id": "5ssh97qDqjhM"
      },
      "source": [
        "### Training the model with Embedding and SimpleRNN layers"
      ]
    },
    {
      "cell_type": "code",
      "metadata": {
        "id": "t_lIlBilqjhN",
        "colab": {
          "base_uri": "https://localhost:8080/"
        },
        "outputId": "b9f2d021-a36c-4bc0-d6ce-527742edc6ad"
      },
      "source": [
        "from keras.layers import Dense\n",
        "from keras.layers import Embedding, SimpleRNN\n",
        "from keras import models\n",
        "\n",
        "model = models.Sequential()\n",
        "model.add(Embedding(max_features, 32))\n",
        "model.add(SimpleRNN(32))\n",
        "model.add(Dense(1, activation='sigmoid'))\n",
        "model.summary()\n",
        "model.compile(optimizer='rmsprop', loss='binary_crossentropy', metrics=['acc'])\n",
        "history = model.fit(input_train, y_train, \n",
        "                    epochs=10,\n",
        "                    batch_size=128,\n",
        "                    validation_split=0.2)\n"
      ],
      "execution_count": 5,
      "outputs": [
        {
          "output_type": "stream",
          "text": [
            "Model: \"sequential\"\n",
            "_________________________________________________________________\n",
            "Layer (type)                 Output Shape              Param #   \n",
            "=================================================================\n",
            "embedding (Embedding)        (None, None, 32)          320000    \n",
            "_________________________________________________________________\n",
            "simple_rnn (SimpleRNN)       (None, 32)                2080      \n",
            "_________________________________________________________________\n",
            "dense (Dense)                (None, 1)                 33        \n",
            "=================================================================\n",
            "Total params: 322,113\n",
            "Trainable params: 322,113\n",
            "Non-trainable params: 0\n",
            "_________________________________________________________________\n",
            "Epoch 1/10\n",
            "157/157 [==============================] - 56s 332ms/step - loss: 0.6534 - acc: 0.5843 - val_loss: 0.4171 - val_acc: 0.8234\n",
            "Epoch 2/10\n",
            "157/157 [==============================] - 51s 326ms/step - loss: 0.3736 - acc: 0.8454 - val_loss: 0.4194 - val_acc: 0.8090\n",
            "Epoch 3/10\n",
            "157/157 [==============================] - 51s 323ms/step - loss: 0.2751 - acc: 0.8946 - val_loss: 0.3395 - val_acc: 0.8554\n",
            "Epoch 4/10\n",
            "157/157 [==============================] - 51s 325ms/step - loss: 0.2097 - acc: 0.9230 - val_loss: 0.8443 - val_acc: 0.7274\n",
            "Epoch 5/10\n",
            "157/157 [==============================] - 50s 322ms/step - loss: 0.1822 - acc: 0.9348 - val_loss: 0.3589 - val_acc: 0.8610\n",
            "Epoch 6/10\n",
            "157/157 [==============================] - 50s 320ms/step - loss: 0.1314 - acc: 0.9536 - val_loss: 0.4713 - val_acc: 0.8434\n",
            "Epoch 7/10\n",
            "157/157 [==============================] - 50s 318ms/step - loss: 0.0890 - acc: 0.9699 - val_loss: 0.4507 - val_acc: 0.8310\n",
            "Epoch 8/10\n",
            "157/157 [==============================] - 51s 324ms/step - loss: 0.0562 - acc: 0.9830 - val_loss: 0.5637 - val_acc: 0.8344\n",
            "Epoch 9/10\n",
            "157/157 [==============================] - 50s 321ms/step - loss: 0.0412 - acc: 0.9879 - val_loss: 0.5016 - val_acc: 0.8508\n",
            "Epoch 10/10\n",
            "157/157 [==============================] - 50s 321ms/step - loss: 0.0342 - acc: 0.9886 - val_loss: 0.8350 - val_acc: 0.7300\n"
          ],
          "name": "stdout"
        }
      ]
    },
    {
      "cell_type": "code",
      "metadata": {
        "id": "w03gEZ2RqjhQ",
        "colab": {
          "base_uri": "https://localhost:8080/",
          "height": 545
        },
        "outputId": "012cad1b-637c-49ef-f8ac-33892b1ea9dd"
      },
      "source": [
        "import matplotlib.pyplot as plt\n",
        "\n",
        "acc = history.history['acc']\n",
        "val_acc = history.history['val_acc']\n",
        "loss = history.history['loss']\n",
        "val_loss = history.history['val_loss']\n",
        "\n",
        "epochs = range(1, len(acc) + 1)\n",
        "\n",
        "plt.plot(epochs, acc, 'bo', label='Training acc')\n",
        "plt.plot(epochs, val_acc, 'b', label='Validation acc')\n",
        "plt.title('Training and validation accuracy')\n",
        "plt.legend()\n",
        "\n",
        "plt.figure()\n",
        "\n",
        "plt.plot(epochs, loss, 'bo', label='Training loss')\n",
        "plt.plot(epochs, val_loss, 'b', label='Validation loss')\n",
        "plt.title('Training and validation loss')\n",
        "plt.legend()\n",
        "\n",
        "plt.show()"
      ],
      "execution_count": 6,
      "outputs": [
        {
          "output_type": "display_data",
          "data": {
            "image/png": "[encoded data removed]",
            "text/plain": [
              "<Figure size 432x288 with 1 Axes>"
            ]
          },
          "metadata": {
            "tags": [],
            "needs_background": "light"
          }
        },
        {
          "output_type": "display_data",
          "data": {
            "image/png": "[encoded data removed]",
            "text/plain": [
              "<Figure size 432x288 with 1 Axes>"
            ]
          },
          "metadata": {
            "tags": [],
            "needs_background": "light"
          }
        }
      ]
    },
    {
      "cell_type": "markdown",
      "metadata": {
        "id": "mz8CfgKcqjhT"
      },
      "source": [
        "### Training the model with Embedding and SimpleRNN layers"
      ]
    },
    {
      "cell_type": "code",
      "metadata": {
        "id": "U_wjH-KGqjhU",
        "colab": {
          "base_uri": "https://localhost:8080/"
        },
        "outputId": "161f8437-d13f-4272-a512-0137d40dbce0"
      },
      "source": [
        "from keras.layers import LSTM\n",
        "\n",
        "model = models.Sequential()\n",
        "model.add(Embedding(max_features, 32))\n",
        "model.add(LSTM(32))\n",
        "model.add(Dense(1, activation='sigmoid'))\n",
        "model.compile(optimizer='rmsprop',\n",
        "loss='binary_crossentropy',\n",
        "metrics=['acc'])\n",
        "history = model.fit(input_train, y_train,\n",
        "                    epochs=10,\n",
        "                    batch_size=128,\n",
        "                    validation_split=0.2)"
      ],
      "execution_count": 7,
      "outputs": [
        {
          "output_type": "stream",
          "text": [
            "Epoch 1/10\n",
            "157/157 [==============================] - 34s 28ms/step - loss: 0.5981 - acc: 0.6848 - val_loss: 0.4077 - val_acc: 0.8382\n",
            "Epoch 2/10\n",
            "157/157 [==============================] - 4s 25ms/step - loss: 0.3079 - acc: 0.8814 - val_loss: 0.2846 - val_acc: 0.8858\n",
            "Epoch 3/10\n",
            "157/157 [==============================] - 4s 25ms/step - loss: 0.2393 - acc: 0.9080 - val_loss: 0.2894 - val_acc: 0.8792\n",
            "Epoch 4/10\n",
            "157/157 [==============================] - 4s 25ms/step - loss: 0.1907 - acc: 0.9309 - val_loss: 0.2923 - val_acc: 0.8758\n",
            "Epoch 5/10\n",
            "157/157 [==============================] - 4s 25ms/step - loss: 0.1642 - acc: 0.9419 - val_loss: 0.2923 - val_acc: 0.8846\n",
            "Epoch 6/10\n",
            "157/157 [==============================] - 4s 25ms/step - loss: 0.1490 - acc: 0.9473 - val_loss: 0.2955 - val_acc: 0.8820\n",
            "Epoch 7/10\n",
            "157/157 [==============================] - 4s 24ms/step - loss: 0.1393 - acc: 0.9504 - val_loss: 0.3161 - val_acc: 0.8708\n",
            "Epoch 8/10\n",
            "157/157 [==============================] - 4s 25ms/step - loss: 0.1291 - acc: 0.9567 - val_loss: 0.3133 - val_acc: 0.8816\n",
            "Epoch 9/10\n",
            "157/157 [==============================] - 4s 25ms/step - loss: 0.1202 - acc: 0.9595 - val_loss: 0.3232 - val_acc: 0.8812\n",
            "Epoch 10/10\n",
            "157/157 [==============================] - 4s 25ms/step - loss: 0.1095 - acc: 0.9634 - val_loss: 0.3566 - val_acc: 0.8822\n"
          ],
          "name": "stdout"
        }
      ]
    },
    {
      "cell_type": "code",
      "metadata": {
        "id": "HU4eGq-DqjhX",
        "colab": {
          "base_uri": "https://localhost:8080/",
          "height": 545
        },
        "outputId": "3ed98dfc-b2c1-42d6-9c7b-9a5cd51b9a3a"
      },
      "source": [
        "import matplotlib.pyplot as plt\n",
        "\n",
        "acc = history.history['acc']\n",
        "val_acc = history.history['val_acc']\n",
        "loss = history.history['loss']\n",
        "val_loss = history.history['val_loss']\n",
        "\n",
        "epochs = range(1, len(acc) + 1)\n",
        "\n",
        "plt.plot(epochs, acc, 'bo', label='Training acc')\n",
        "plt.plot(epochs, val_acc, 'b', label='Validation acc')\n",
        "plt.title('Training and validation accuracy')\n",
        "plt.legend()\n",
        "\n",
        "plt.figure()\n",
        "\n",
        "plt.plot(epochs, loss, 'bo', label='Training loss')\n",
        "plt.plot(epochs, val_loss, 'b', label='Validation loss')\n",
        "plt.title('Training and validation loss')\n",
        "plt.legend()\n",
        "\n",
        "plt.show()"
      ],
      "execution_count": 8,
      "outputs": [
        {
          "output_type": "display_data",
          "data": {
            "image/png": "[encoded data removed]",
            "text/plain": [
              "<Figure size 432x288 with 1 Axes>"
            ]
          },
          "metadata": {
            "tags": [],
            "needs_background": "light"
          }
        },
        {
          "output_type": "display_data",
          "data": {
            "image/png": "[encoded data removed]",
            "text/plain": [
              "<Figure size 432x288 with 1 Axes>"
            ]
          },
          "metadata": {
            "tags": [],
            "needs_background": "light"
          }
        }
      ]
    },
    {
      "cell_type": "markdown",
      "metadata": {
        "id": "r69U5tFUZ82R"
      },
      "source": [
        "### Task 3: \n",
        "\n",
        "Please consider this Time Series Prediction with LSTM Recurrent Neural Networks. We can see that the LSTM model in the code below has an average error of about 23 passengers (in thousands) on the training dataset, and about 53 passengers (in thousands) on the test dataset. Not that bad. Can you please improve the performance?\n",
        "\n",
        "#### Dataset Discription\n",
        "The problem we are going to look at in this post is the International Airline Passengers prediction problem.\n",
        "This is a problem where, given a year and a month, the task is to predict the number of international airline passengers in units of 1,000. The data ranges from January 1949 to December 1960, or 12 years, with 144 observations.\n",
        "\n"
      ]
    },
    {
      "cell_type": "code",
      "metadata": {
        "colab": {
          "base_uri": "https://localhost:8080/",
          "height": 1000
        },
        "id": "w1vSusoyatCW",
        "outputId": "cdf9fc5c-8bd6-4676-a06d-57472a458429"
      },
      "source": [
        "import numpy\n",
        "import math\n",
        "import matplotlib.pyplot as plt\n",
        "from pandas import read_csv\n",
        "from keras.models import Sequential\n",
        "from keras.layers import Dense\n",
        "from keras.layers import LSTM\n",
        "from sklearn.preprocessing import MinMaxScaler\n",
        "from sklearn.metrics import mean_squared_error\n",
        "# convert an array of values into a dataset matrix\n",
        "def create_dataset(dataset, look_back=1):\n",
        "\tdataX, dataY = [], []\n",
        "\tfor i in range(len(dataset)-look_back-1):\n",
        "\t\ta = dataset[i:(i+look_back), 0]\n",
        "\t\tdataX.append(a)\n",
        "\t\tdataY.append(dataset[i + look_back, 0])\n",
        "\treturn numpy.array(dataX), numpy.array(dataY)\n",
        "# fix random seed for reproducibility\n",
        "numpy.random.seed(7)\n",
        "# load the dataset\n",
        "dataframe = read_csv('https://raw.githubusercontent.com/jbrownlee/Datasets/master/airline-passengers.csv', usecols=[1], engine='python')\n",
        "dataset = dataframe.values\n",
        "dataset = dataset.astype('float32')\n",
        "# normalize the dataset\n",
        "scaler = MinMaxScaler(feature_range=(0, 1))\n",
        "dataset = scaler.fit_transform(dataset)\n",
        "# split into train and test sets\n",
        "train_size = int(len(dataset) * 0.67)\n",
        "test_size = len(dataset) - train_size\n",
        "train, test = dataset[0:train_size,:], dataset[train_size:len(dataset),:]\n",
        "# reshape into X=t and Y=t+1\n",
        "look_back = 1\n",
        "trainX, trainY = create_dataset(train, look_back)\n",
        "testX, testY = create_dataset(test, look_back)\n",
        "# reshape input to be [samples, time steps, features]\n",
        "trainX = numpy.reshape(trainX, (trainX.shape[0], 1, trainX.shape[1]))\n",
        "testX = numpy.reshape(testX, (testX.shape[0], 1, testX.shape[1]))\n",
        "# create and fit the LSTM network\n",
        "model = Sequential()\n",
        "model.add(LSTM(4, input_shape=(1, look_back)))\n",
        "model.add(Dense(1))\n",
        "model.compile(loss='mean_squared_error', optimizer='adam')\n",
        "model.fit(trainX, trainY, epochs=100, batch_size=1, verbose=2)\n",
        "# make predictions\n",
        "trainPredict = model.predict(trainX)\n",
        "testPredict = model.predict(testX)\n",
        "# invert predictions\n",
        "trainPredict = scaler.inverse_transform(trainPredict)\n",
        "trainY = scaler.inverse_transform([trainY])\n",
        "testPredict = scaler.inverse_transform(testPredict)\n",
        "testY = scaler.inverse_transform([testY])\n",
        "# calculate root mean squared error\n",
        "trainScore = math.sqrt(mean_squared_error(trainY[0], trainPredict[:,0]))\n",
        "print('Train Score: %.2f RMSE' % (trainScore))\n",
        "testScore = math.sqrt(mean_squared_error(testY[0], testPredict[:,0]))\n",
        "print('Test Score: %.2f RMSE' % (testScore))\n",
        "# shift train predictions for plotting\n",
        "trainPredictPlot = numpy.empty_like(dataset)\n",
        "trainPredictPlot[:, :] = numpy.nan\n",
        "trainPredictPlot[look_back:len(trainPredict)+look_back, :] = trainPredict\n",
        "# shift test predictions for plotting\n",
        "testPredictPlot = numpy.empty_like(dataset)\n",
        "testPredictPlot[:, :] = numpy.nan\n",
        "testPredictPlot[len(trainPredict)+(look_back*2)+1:len(dataset)-1, :] = testPredict\n",
        "# plot baseline and predictions\n",
        "plt.plot(scaler.inverse_transform(dataset))\n",
        "plt.plot(trainPredictPlot)\n",
        "plt.plot(testPredictPlot)\n",
        "plt.show()"
      ],
      "execution_count": 18,
      "outputs": [
        {
          "output_type": "stream",
          "text": [
            "Epoch 1/100\n",
            "94/94 - 1s - loss: 0.0450\n",
            "Epoch 2/100\n",
            "94/94 - 0s - loss: 0.0226\n",
            "Epoch 3/100\n",
            "94/94 - 0s - loss: 0.0177\n",
            "Epoch 4/100\n",
            "94/94 - 0s - loss: 0.0160\n",
            "Epoch 5/100\n",
            "94/94 - 0s - loss: 0.0151\n",
            "Epoch 6/100\n",
            "94/94 - 0s - loss: 0.0140\n",
            "Epoch 7/100\n",
            "94/94 - 0s - loss: 0.0130\n",
            "Epoch 8/100\n",
            "94/94 - 0s - loss: 0.0120\n",
            "Epoch 9/100\n",
            "94/94 - 0s - loss: 0.0111\n",
            "Epoch 10/100\n",
            "94/94 - 0s - loss: 0.0100\n",
            "Epoch 11/100\n",
            "94/94 - 0s - loss: 0.0090\n",
            "Epoch 12/100\n",
            "94/94 - 0s - loss: 0.0081\n",
            "Epoch 13/100\n",
            "94/94 - 0s - loss: 0.0071\n",
            "Epoch 14/100\n",
            "94/94 - 0s - loss: 0.0062\n",
            "Epoch 15/100\n",
            "94/94 - 0s - loss: 0.0054\n",
            "Epoch 16/100\n",
            "94/94 - 0s - loss: 0.0047\n",
            "Epoch 17/100\n",
            "94/94 - 0s - loss: 0.0040\n",
            "Epoch 18/100\n",
            "94/94 - 0s - loss: 0.0035\n",
            "Epoch 19/100\n",
            "94/94 - 0s - loss: 0.0030\n",
            "Epoch 20/100\n",
            "94/94 - 0s - loss: 0.0026\n",
            "Epoch 21/100\n",
            "94/94 - 0s - loss: 0.0024\n",
            "Epoch 22/100\n",
            "94/94 - 0s - loss: 0.0022\n",
            "Epoch 23/100\n",
            "94/94 - 0s - loss: 0.0021\n",
            "Epoch 24/100\n",
            "94/94 - 0s - loss: 0.0020\n",
            "Epoch 25/100\n",
            "94/94 - 0s - loss: 0.0020\n",
            "Epoch 26/100\n",
            "94/94 - 0s - loss: 0.0020\n",
            "Epoch 27/100\n",
            "94/94 - 0s - loss: 0.0020\n",
            "Epoch 28/100\n",
            "94/94 - 0s - loss: 0.0020\n",
            "Epoch 29/100\n",
            "94/94 - 0s - loss: 0.0020\n",
            "Epoch 30/100\n",
            "94/94 - 0s - loss: 0.0019\n",
            "Epoch 31/100\n",
            "94/94 - 0s - loss: 0.0020\n",
            "Epoch 32/100\n",
            "94/94 - 0s - loss: 0.0019\n",
            "Epoch 33/100\n",
            "94/94 - 0s - loss: 0.0020\n",
            "Epoch 34/100\n",
            "94/94 - 0s - loss: 0.0020\n",
            "Epoch 35/100\n",
            "94/94 - 0s - loss: 0.0019\n",
            "Epoch 36/100\n",
            "94/94 - 0s - loss: 0.0020\n",
            "Epoch 37/100\n",
            "94/94 - 0s - loss: 0.0020\n",
            "Epoch 38/100\n",
            "94/94 - 0s - loss: 0.0020\n",
            "Epoch 39/100\n",
            "94/94 - 0s - loss: 0.0020\n",
            "Epoch 40/100\n",
            "94/94 - 0s - loss: 0.0020\n",
            "Epoch 41/100\n",
            "94/94 - 0s - loss: 0.0020\n",
            "Epoch 42/100\n",
            "94/94 - 0s - loss: 0.0019\n",
            "Epoch 43/100\n",
            "94/94 - 0s - loss: 0.0020\n",
            "Epoch 44/100\n",
            "94/94 - 0s - loss: 0.0020\n",
            "Epoch 45/100\n",
            "94/94 - 0s - loss: 0.0019\n",
            "Epoch 46/100\n",
            "94/94 - 0s - loss: 0.0020\n",
            "Epoch 47/100\n",
            "94/94 - 0s - loss: 0.0020\n",
            "Epoch 48/100\n",
            "94/94 - 0s - loss: 0.0019\n",
            "Epoch 49/100\n",
            "94/94 - 0s - loss: 0.0020\n",
            "Epoch 50/100\n",
            "94/94 - 0s - loss: 0.0020\n",
            "Epoch 51/100\n",
            "94/94 - 0s - loss: 0.0020\n",
            "Epoch 52/100\n",
            "94/94 - 0s - loss: 0.0020\n",
            "Epoch 53/100\n",
            "94/94 - 0s - loss: 0.0020\n",
            "Epoch 54/100\n",
            "94/94 - 0s - loss: 0.0020\n",
            "Epoch 55/100\n",
            "94/94 - 0s - loss: 0.0020\n",
            "Epoch 56/100\n",
            "94/94 - 0s - loss: 0.0020\n",
            "Epoch 57/100\n",
            "94/94 - 0s - loss: 0.0020\n",
            "Epoch 58/100\n",
            "94/94 - 0s - loss: 0.0020\n",
            "Epoch 59/100\n",
            "94/94 - 0s - loss: 0.0021\n",
            "Epoch 60/100\n",
            "94/94 - 0s - loss: 0.0020\n",
            "Epoch 61/100\n",
            "94/94 - 0s - loss: 0.0020\n",
            "Epoch 62/100\n",
            "94/94 - 0s - loss: 0.0019\n",
            "Epoch 63/100\n",
            "94/94 - 0s - loss: 0.0020\n",
            "Epoch 64/100\n",
            "94/94 - 0s - loss: 0.0019\n",
            "Epoch 65/100\n",
            "94/94 - 0s - loss: 0.0020\n",
            "Epoch 66/100\n",
            "94/94 - 0s - loss: 0.0020\n",
            "Epoch 67/100\n",
            "94/94 - 0s - loss: 0.0019\n",
            "Epoch 68/100\n",
            "94/94 - 0s - loss: 0.0020\n",
            "Epoch 69/100\n",
            "94/94 - 0s - loss: 0.0020\n",
            "Epoch 70/100\n",
            "94/94 - 0s - loss: 0.0020\n",
            "Epoch 71/100\n",
            "94/94 - 0s - loss: 0.0020\n",
            "Epoch 72/100\n",
            "94/94 - 0s - loss: 0.0020\n",
            "Epoch 73/100\n",
            "94/94 - 0s - loss: 0.0020\n",
            "Epoch 74/100\n",
            "94/94 - 0s - loss: 0.0020\n",
            "Epoch 75/100\n",
            "94/94 - 0s - loss: 0.0020\n",
            "Epoch 76/100\n",
            "94/94 - 0s - loss: 0.0020\n",
            "Epoch 77/100\n",
            "94/94 - 0s - loss: 0.0019\n",
            "Epoch 78/100\n",
            "94/94 - 0s - loss: 0.0020\n",
            "Epoch 79/100\n",
            "94/94 - 0s - loss: 0.0019\n",
            "Epoch 80/100\n",
            "94/94 - 0s - loss: 0.0019\n",
            "Epoch 81/100\n",
            "94/94 - 0s - loss: 0.0021\n",
            "Epoch 82/100\n",
            "94/94 - 0s - loss: 0.0020\n",
            "Epoch 83/100\n",
            "94/94 - 0s - loss: 0.0020\n",
            "Epoch 84/100\n",
            "94/94 - 0s - loss: 0.0019\n",
            "Epoch 85/100\n",
            "94/94 - 0s - loss: 0.0020\n",
            "Epoch 86/100\n",
            "94/94 - 0s - loss: 0.0020\n",
            "Epoch 87/100\n",
            "94/94 - 0s - loss: 0.0020\n",
            "Epoch 88/100\n",
            "94/94 - 0s - loss: 0.0020\n",
            "Epoch 89/100\n",
            "94/94 - 0s - loss: 0.0019\n",
            "Epoch 90/100\n",
            "94/94 - 0s - loss: 0.0020\n",
            "Epoch 91/100\n",
            "94/94 - 0s - loss: 0.0020\n",
            "Epoch 92/100\n",
            "94/94 - 0s - loss: 0.0020\n",
            "Epoch 93/100\n",
            "94/94 - 0s - loss: 0.0020\n",
            "Epoch 94/100\n",
            "94/94 - 0s - loss: 0.0020\n",
            "Epoch 95/100\n",
            "94/94 - 0s - loss: 0.0020\n",
            "Epoch 96/100\n",
            "94/94 - 0s - loss: 0.0020\n",
            "Epoch 97/100\n",
            "94/94 - 0s - loss: 0.0020\n",
            "Epoch 98/100\n",
            "94/94 - 0s - loss: 0.0020\n",
            "Epoch 99/100\n",
            "94/94 - 0s - loss: 0.0020\n",
            "Epoch 100/100\n",
            "94/94 - 0s - loss: 0.0019\n",
            "Train Score: 22.82 RMSE\n",
            "Test Score: 51.29 RMSE\n"
          ],
          "name": "stdout"
        },
        {
          "output_type": "display_data",
          "data": {
            "image/png": "[encoded data removed]",
            "text/plain": [
              "<Figure size 432x288 with 1 Axes>"
            ]
          },
          "metadata": {
            "tags": [],
            "needs_background": "light"
          }
        }
      ]
    },
    {
      "cell_type": "code",
      "metadata": {
        "colab": {
          "base_uri": "https://localhost:8080/",
          "height": 1000
        },
        "id": "ZpJyVd_H84ta",
        "outputId": "20041c4e-86cb-4848-edc4-abf9b4e519de"
      },
      "source": [
        "import numpy\r\n",
        "import math\r\n",
        "import matplotlib.pyplot as plt\r\n",
        "from pandas import read_csv\r\n",
        "from keras.models import Sequential\r\n",
        "from keras.layers import Dense, Dropout\r\n",
        "from keras.layers import LSTM\r\n",
        "from sklearn.preprocessing import MinMaxScaler\r\n",
        "from sklearn.metrics import mean_squared_error\r\n",
        "# convert an array of values into a dataset matrix\r\n",
        "def create_dataset(dataset, look_back=1):\r\n",
        "\tdataX, dataY = [], []\r\n",
        "\tfor i in range(len(dataset)-look_back-1):\r\n",
        "\t\ta = dataset[i:(i+look_back), 0]\r\n",
        "\t\tdataX.append(a)\r\n",
        "\t\tdataY.append(dataset[i + look_back, 0])\r\n",
        "\treturn numpy.array(dataX), numpy.array(dataY)\r\n",
        "# fix random seed for reproducibility\r\n",
        "numpy.random.seed(7)\r\n",
        "# load the dataset\r\n",
        "dataframe = read_csv('https://raw.githubusercontent.com/jbrownlee/Datasets/master/airline-passengers.csv', usecols=[1], engine='python')\r\n",
        "dataset = dataframe.values\r\n",
        "dataset = dataset.astype('float32')\r\n",
        "# normalize the dataset\r\n",
        "scaler = MinMaxScaler(feature_range=(0, 1))\r\n",
        "dataset = scaler.fit_transform(dataset)\r\n",
        "# split into train and test sets\r\n",
        "train_size = int(len(dataset) * 0.50)\r\n",
        "test_size = len(dataset) - train_size\r\n",
        "train, test = dataset[0:train_size,:], dataset[train_size:len(dataset),:]\r\n",
        "# reshape into X=t and Y=t+1\r\n",
        "look_back = 1\r\n",
        "trainX, trainY = create_dataset(train, look_back)\r\n",
        "testX, testY = create_dataset(test, look_back)\r\n",
        "# reshape input to be [samples, time steps, features]\r\n",
        "trainX = numpy.reshape(trainX, (trainX.shape[0], 1, trainX.shape[1]))\r\n",
        "testX = numpy.reshape(testX, (testX.shape[0], 1, testX.shape[1]))\r\n",
        "# create and fit the LSTM network\r\n",
        "model = Sequential()\r\n",
        "model.add(LSTM(100,return_sequences=True,activation='relu',input_shape=(1, look_back)))\r\n",
        "model.add(LSTM(100,activation='relu'))\r\n",
        "model.add(Dense(1))\r\n",
        "model.compile(loss='mean_squared_error', optimizer='adam')\r\n",
        "model.fit(trainX, trainY, epochs=50, batch_size=1, verbose=2)\r\n",
        "# make predictions\r\n",
        "trainPredict = model.predict(trainX)\r\n",
        "testPredict = model.predict(testX)\r\n",
        "# invert predictions\r\n",
        "trainPredict = scaler.inverse_transform(trainPredict)\r\n",
        "trainY = scaler.inverse_transform([trainY])\r\n",
        "testPredict = scaler.inverse_transform(testPredict)\r\n",
        "testY = scaler.inverse_transform([testY])\r\n",
        "# calculate root mean squared error\r\n",
        "trainScore = math.sqrt(mean_squared_error(trainY[0], trainPredict[:,0]))\r\n",
        "print('Train Score: %.2f RMSE' % (trainScore))\r\n",
        "testScore = math.sqrt(mean_squared_error(testY[0], testPredict[:,0]))\r\n",
        "print('Test Score: %.2f RMSE' % (testScore))\r\n",
        "# shift train predictions for plotting\r\n",
        "trainPredictPlot = numpy.empty_like(dataset)\r\n",
        "trainPredictPlot[:, :] = numpy.nan\r\n",
        "trainPredictPlot[look_back:len(trainPredict)+look_back, :] = trainPredict\r\n",
        "# shift test predictions for plotting\r\n",
        "testPredictPlot = numpy.empty_like(dataset)\r\n",
        "testPredictPlot[:, :] = numpy.nan\r\n",
        "testPredictPlot[len(trainPredict)+(look_back*2)+1:len(dataset)-1, :] = testPredict\r\n",
        "# plot baseline and predictions\r\n",
        "plt.plot(scaler.inverse_transform(dataset))\r\n",
        "plt.plot(trainPredictPlot)\r\n",
        "plt.plot(testPredictPlot)\r\n",
        "plt.show()"
      ],
      "execution_count": 24,
      "outputs": [
        {
          "output_type": "stream",
          "text": [
            "WARNING:tensorflow:Layer lstm_30 will not use cuDNN kernel since it doesn't meet the cuDNN kernel criteria. It will use generic GPU kernel as fallback when running on GPU\n",
            "WARNING:tensorflow:Layer lstm_31 will not use cuDNN kernel since it doesn't meet the cuDNN kernel criteria. It will use generic GPU kernel as fallback when running on GPU\n",
            "Epoch 1/50\n",
            "70/70 - 2s - loss: 0.0175\n",
            "Epoch 2/50\n",
            "70/70 - 0s - loss: 0.0066\n",
            "Epoch 3/50\n",
            "70/70 - 0s - loss: 0.0056\n",
            "Epoch 4/50\n",
            "70/70 - 0s - loss: 0.0044\n",
            "Epoch 5/50\n",
            "70/70 - 0s - loss: 0.0037\n",
            "Epoch 6/50\n",
            "70/70 - 0s - loss: 0.0024\n",
            "Epoch 7/50\n",
            "70/70 - 0s - loss: 0.0019\n",
            "Epoch 8/50\n",
            "70/70 - 0s - loss: 0.0016\n",
            "Epoch 9/50\n",
            "70/70 - 0s - loss: 0.0015\n",
            "Epoch 10/50\n",
            "70/70 - 0s - loss: 0.0016\n",
            "Epoch 11/50\n",
            "70/70 - 0s - loss: 0.0014\n",
            "Epoch 12/50\n",
            "70/70 - 0s - loss: 0.0014\n",
            "Epoch 13/50\n",
            "70/70 - 0s - loss: 0.0015\n",
            "Epoch 14/50\n",
            "70/70 - 0s - loss: 0.0016\n",
            "Epoch 15/50\n",
            "70/70 - 0s - loss: 0.0016\n",
            "Epoch 16/50\n",
            "70/70 - 0s - loss: 0.0014\n",
            "Epoch 17/50\n",
            "70/70 - 0s - loss: 0.0015\n",
            "Epoch 18/50\n",
            "70/70 - 0s - loss: 0.0015\n",
            "Epoch 19/50\n",
            "70/70 - 0s - loss: 0.0016\n",
            "Epoch 20/50\n",
            "70/70 - 0s - loss: 0.0014\n",
            "Epoch 21/50\n",
            "70/70 - 0s - loss: 0.0015\n",
            "Epoch 22/50\n",
            "70/70 - 0s - loss: 0.0015\n",
            "Epoch 23/50\n",
            "70/70 - 0s - loss: 0.0015\n",
            "Epoch 24/50\n",
            "70/70 - 0s - loss: 0.0014\n",
            "Epoch 25/50\n",
            "70/70 - 0s - loss: 0.0015\n",
            "Epoch 26/50\n",
            "70/70 - 0s - loss: 0.0018\n",
            "Epoch 27/50\n",
            "70/70 - 0s - loss: 0.0014\n",
            "Epoch 28/50\n",
            "70/70 - 0s - loss: 0.0015\n",
            "Epoch 29/50\n",
            "70/70 - 0s - loss: 0.0014\n",
            "Epoch 30/50\n",
            "70/70 - 0s - loss: 0.0015\n",
            "Epoch 31/50\n",
            "70/70 - 0s - loss: 0.0015\n",
            "Epoch 32/50\n",
            "70/70 - 0s - loss: 0.0014\n",
            "Epoch 33/50\n",
            "70/70 - 0s - loss: 0.0014\n",
            "Epoch 34/50\n",
            "70/70 - 0s - loss: 0.0017\n",
            "Epoch 35/50\n",
            "70/70 - 0s - loss: 0.0014\n",
            "Epoch 36/50\n",
            "70/70 - 0s - loss: 0.0017\n",
            "Epoch 37/50\n",
            "70/70 - 0s - loss: 0.0015\n",
            "Epoch 38/50\n",
            "70/70 - 0s - loss: 0.0013\n",
            "Epoch 39/50\n",
            "70/70 - 0s - loss: 0.0015\n",
            "Epoch 40/50\n",
            "70/70 - 0s - loss: 0.0014\n",
            "Epoch 41/50\n",
            "70/70 - 0s - loss: 0.0016\n",
            "Epoch 42/50\n",
            "70/70 - 0s - loss: 0.0015\n",
            "Epoch 43/50\n",
            "70/70 - 0s - loss: 0.0014\n",
            "Epoch 44/50\n",
            "70/70 - 0s - loss: 0.0014\n",
            "Epoch 45/50\n",
            "70/70 - 0s - loss: 0.0014\n",
            "Epoch 46/50\n",
            "70/70 - 0s - loss: 0.0014\n",
            "Epoch 47/50\n",
            "70/70 - 0s - loss: 0.0014\n",
            "Epoch 48/50\n",
            "70/70 - 0s - loss: 0.0015\n",
            "Epoch 49/50\n",
            "70/70 - 0s - loss: 0.0016\n",
            "Epoch 50/50\n",
            "70/70 - 0s - loss: 0.0015\n",
            "Train Score: 19.28 RMSE\n",
            "Test Score: 47.45 RMSE\n"
          ],
          "name": "stdout"
        },
        {
          "output_type": "display_data",
          "data": {
            "image/png": "[encoded data removed]",
            "text/plain": [
              "<Figure size 432x288 with 1 Axes>"
            ]
          },
          "metadata": {
            "tags": [],
            "needs_background": "light"
          }
        }
      ]
    },
    {
      "cell_type": "code",
      "metadata": {
        "id": "Ashuu0eBAkZ6"
      },
      "source": [
        ""
      ],
      "execution_count": 10,
      "outputs": []
    }
  ]
}