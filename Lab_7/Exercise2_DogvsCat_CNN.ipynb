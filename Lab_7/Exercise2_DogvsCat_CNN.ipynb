{
  "nbformat": 4,
  "nbformat_minor": 0,
  "metadata": {
    "colab": {
      "name": "Exercise2_DogvsCat_CNN.ipynb",
      "provenance": [],
      "toc_visible": true,
      "include_colab_link": true
    },
    "kernelspec": {
      "name": "python3",
      "display_name": "Python 3"
    },
    "accelerator": "GPU"
  },
  "cells": [
    {
      "cell_type": "markdown",
      "metadata": {
        "id": "view-in-github",
        "colab_type": "text"
      },
      "source": [
        "<a href=\"https://colab.research.google.com/github/thanachai-npr/CE888/blob/main/Lab_7/Exercise2_DogvsCat_CNN.ipynb\" target=\"_parent\"><img src=\"https://colab.research.google.com/assets/colab-badge.svg\" alt=\"Open In Colab\"/></a>"
      ]
    },
    {
      "cell_type": "markdown",
      "metadata": {
        "id": "qTh9DiKVslsJ"
      },
      "source": [
        "## Dogs vs. Cats \n",
        "\n",
        "In this competition, you'll write an algorithm to classify whether images contain either a dog or a cat.  This is easy for humans, dogs, and cats. Your computer will find it a bit more difficult.\n",
        "\n",
        "![alt text](https://miro.medium.com/max/3000/1*bhFifratH9DjKqMBTeQG5A.gif)\n",
        "\n",
        "Ref: https://medium.com/@thegrigorian/rolling-in-the-deep-cnn-c8d3f7108c8c"
      ]
    },
    {
      "cell_type": "markdown",
      "metadata": {
        "id": "RSBI-_mSSY1g"
      },
      "source": [
        "Get your API Key from Kaggle using following steps:\n",
        "1. Login to [Kaggle](https://www.kaggle.com/) or Register if you don't have account\n",
        "2. Open Dataset (https://www.kaggle.com/c/dogs-vs-cats/rules) and accept terms and condition. \n",
        "3. On the top right corner click on your Icon and go to accounts and press a button \"Create New API Token\". It will download a JSON file containing your username and key. \n",
        "4. Now, paste both below. \n"
      ]
    },
    {
      "cell_type": "code",
      "metadata": {
        "id": "YmXSOc0tZIGA",
        "colab": {
          "base_uri": "https://localhost:8080/"
        },
        "outputId": "5e0fbbcb-9831-45b0-f080-b7db76c1c440"
      },
      "source": [
        "import os\n",
        "os.environ['KAGGLE_USERNAME'] = \"thanachainamphairoj\" # username from the json file\n",
        "os.environ['KAGGLE_KEY'] = \"d3b3b943368edfd11140297352414147\" # key from the json file\n",
        "!kaggle competitions download -c dogs-vs-cats # api copied from kaggle (https://www.kaggle.com/c/dogs-vs-cats/data)"
      ],
      "execution_count": 5,
      "outputs": [
        {
          "output_type": "stream",
          "text": [
            "Downloading dogs-vs-cats.zip to /content\n",
            " 98% 799M/812M [00:10<00:00, 97.3MB/s]\n",
            "100% 812M/812M [00:10<00:00, 80.9MB/s]\n"
          ],
          "name": "stdout"
        }
      ]
    },
    {
      "cell_type": "code",
      "metadata": {
        "colab": {
          "base_uri": "https://localhost:8080/"
        },
        "id": "PE3U75vALf_E",
        "outputId": "a1341f21-a5c9-4cb1-9dd8-9af76c58f3cb"
      },
      "source": [
        "!pip install --upgrade --force-reinstall --no-deps kaggle"
      ],
      "execution_count": 4,
      "outputs": [
        {
          "output_type": "stream",
          "text": [
            "Collecting kaggle\n",
            "\u001b[?25l  Downloading https://files.pythonhosted.org/packages/99/33/365c0d13f07a2a54744d027fe20b60dacdfdfb33bc04746db6ad0b79340b/kaggle-1.5.10.tar.gz (59kB)\n",
            "\r\u001b[K     |█████▌                          | 10kB 23.0MB/s eta 0:00:01\r\u001b[K     |███████████                     | 20kB 30.0MB/s eta 0:00:01\r\u001b[K     |████████████████▋               | 30kB 21.1MB/s eta 0:00:01\r\u001b[K     |██████████████████████▏         | 40kB 17.8MB/s eta 0:00:01\r\u001b[K     |███████████████████████████▊    | 51kB 10.3MB/s eta 0:00:01\r\u001b[K     |████████████████████████████████| 61kB 5.9MB/s \n",
            "\u001b[?25hBuilding wheels for collected packages: kaggle\n",
            "  Building wheel for kaggle (setup.py) ... \u001b[?25l\u001b[?25hdone\n",
            "  Created wheel for kaggle: filename=kaggle-1.5.10-cp37-none-any.whl size=73269 sha256=75d045d6fce21303d14a5f93a5428f3182467aa6864292ad374bc016b20178cf\n",
            "  Stored in directory: /root/.cache/pip/wheels/3a/d1/7e/6ce09b72b770149802c653a02783821629146983ee5a360f10\n",
            "Successfully built kaggle\n",
            "Installing collected packages: kaggle\n",
            "  Found existing installation: kaggle 1.5.10\n",
            "    Uninstalling kaggle-1.5.10:\n",
            "      Successfully uninstalled kaggle-1.5.10\n",
            "Successfully installed kaggle-1.5.10\n"
          ],
          "name": "stdout"
        }
      ]
    },
    {
      "cell_type": "code",
      "metadata": {
        "id": "PiwIL8d1n7eS",
        "colab": {
          "base_uri": "https://localhost:8080/"
        },
        "outputId": "8ca990f8-9dc5-434b-f968-8b0eb57c1355"
      },
      "source": [
        "# Unzip training data\n",
        "from zipfile import ZipFile\n",
        "file_name = \"/content/dogs-vs-cats.zip\"\n",
        "with ZipFile(file_name, 'r') as zip:\n",
        "  zip.extractall()\n",
        "  print('done')"
      ],
      "execution_count": 6,
      "outputs": [
        {
          "output_type": "stream",
          "text": [
            "done\n"
          ],
          "name": "stdout"
        }
      ]
    },
    {
      "cell_type": "code",
      "metadata": {
        "colab": {
          "base_uri": "https://localhost:8080/"
        },
        "id": "mDxtwibsMSxh",
        "outputId": "e20e65d8-8c44-4590-a283-45528d9f4049"
      },
      "source": [
        "from zipfile import ZipFile\r\n",
        "file_name = \"/content/train.zip\"\r\n",
        "with ZipFile(file_name, 'r') as zip:\r\n",
        "  zip.extractall()\r\n",
        "  print('done')"
      ],
      "execution_count": 7,
      "outputs": [
        {
          "output_type": "stream",
          "text": [
            "done\n"
          ],
          "name": "stdout"
        }
      ]
    },
    {
      "cell_type": "code",
      "metadata": {
        "colab": {
          "base_uri": "https://localhost:8080/"
        },
        "id": "FpmuM9PsMTI-",
        "outputId": "d44b950d-b173-480a-b8e6-8d62d8801ec4"
      },
      "source": [
        "from zipfile import ZipFile\r\n",
        "file_name = \"/content/test1.zip\"\r\n",
        "with ZipFile(file_name, 'r') as zip:\r\n",
        "  zip.extractall()\r\n",
        "  print('done')"
      ],
      "execution_count": 8,
      "outputs": [
        {
          "output_type": "stream",
          "text": [
            "done\n"
          ],
          "name": "stdout"
        }
      ]
    },
    {
      "cell_type": "code",
      "metadata": {
        "id": "sa2Bj5i7pPKV",
        "colab": {
          "base_uri": "https://localhost:8080/"
        },
        "outputId": "73e0cf48-4f4c-4dd5-9f65-7a2478b15107"
      },
      "source": [
        "# Get all the paths\n",
        "data_dir_list = os.listdir('/content/train')\n",
        "#print(data_dir_list)\n",
        "path, dirs, files = next(os.walk(\"/content/train\"))\n",
        "file_count = len(files)\n",
        "print(file_count)"
      ],
      "execution_count": 9,
      "outputs": [
        {
          "output_type": "stream",
          "text": [
            "25000\n"
          ],
          "name": "stdout"
        }
      ]
    },
    {
      "cell_type": "code",
      "metadata": {
        "id": "0ERlHkfHqpK8"
      },
      "source": [
        "# Make new base directory\n",
        "original_dataset_dir = '/content/train'\n",
        "base_dir = '/content/cats_and_dogs_small'\n",
        "os.mkdir(base_dir)"
      ],
      "execution_count": 10,
      "outputs": []
    },
    {
      "cell_type": "code",
      "metadata": {
        "id": "AANB1UJ6rQhM"
      },
      "source": [
        "train_dir = os.path.join(base_dir, 'train')\n",
        "os.mkdir(train_dir)\n",
        "\n",
        "validation_dir = os.path.join(base_dir, 'validation')\n",
        "os.mkdir(validation_dir)\n",
        "\n",
        "test_dir = os.path.join(base_dir, 'test')\n",
        "os.mkdir(test_dir)\n",
        "\n",
        "train_cats_dir = os.path.join(train_dir, 'cats')\n",
        "os.mkdir(train_cats_dir)\n",
        "\n",
        "train_dogs_dir = os.path.join(train_dir, 'dogs')\n",
        "os.mkdir(train_dogs_dir)\n",
        "\n",
        "validation_cats_dir = os.path.join(validation_dir, 'cats')\n",
        "os.mkdir(validation_cats_dir)\n",
        "\n",
        "validation_dogs_dir = os.path.join(validation_dir, 'dogs')\n",
        "os.mkdir(validation_dogs_dir)\n",
        "\n",
        "test_cats_dir = os.path.join(test_dir, 'cats')\n",
        "os.mkdir(test_cats_dir)\n",
        "\n",
        "test_dogs_dir = os.path.join(test_dir, 'dogs')\n",
        "os.mkdir(test_dogs_dir)"
      ],
      "execution_count": 11,
      "outputs": []
    },
    {
      "cell_type": "code",
      "metadata": {
        "id": "ULRgL9s9rV8T"
      },
      "source": [
        "import shutil\n",
        "fnames = ['cat.{}.jpg'.format(i) for i in range(1000)]\n",
        "for fname in fnames:\n",
        "    src = os.path.join(original_dataset_dir, fname)\n",
        "    dst = os.path.join(train_cats_dir, fname)\n",
        "    #print(src,dst)\n",
        "    shutil.copyfile(src, dst)\n",
        "    \n",
        "fnames = ['cat.{}.jpg'.format(i) for i in range(1000, 1500)]\n",
        "for fname in fnames:\n",
        "    src = os.path.join(original_dataset_dir, fname)\n",
        "    dst = os.path.join(validation_cats_dir, fname)\n",
        "    shutil.copyfile(src, dst)\n",
        "\n",
        "fnames = ['cat.{}.jpg'.format(i) for i in range(1500, 2000)]\n",
        "for fname in fnames:\n",
        "    src = os.path.join(original_dataset_dir, fname)\n",
        "    dst = os.path.join(test_cats_dir, fname)\n",
        "    shutil.copyfile(src, dst)\n",
        "    \n",
        "fnames = ['dog.{}.jpg'.format(i) for i in range(1000)]\n",
        "for fname in fnames:\n",
        "    src = os.path.join(original_dataset_dir, fname)\n",
        "    dst = os.path.join(train_dogs_dir, fname)\n",
        "    shutil.copyfile(src, dst)\n",
        "\n",
        "fnames = ['dog.{}.jpg'.format(i) for i in range(1000, 1500)]\n",
        "for fname in fnames:\n",
        "    src = os.path.join(original_dataset_dir, fname)\n",
        "    dst = os.path.join(validation_dogs_dir, fname)\n",
        "    shutil.copyfile(src, dst)\n",
        "\n",
        "fnames = ['dog.{}.jpg'.format(i) for i in range(1500, 2000)]\n",
        "for fname in fnames:\n",
        "    src = os.path.join(original_dataset_dir, fname)\n",
        "    dst = os.path.join(test_dogs_dir, fname)\n",
        "    shutil.copyfile(src, dst)"
      ],
      "execution_count": 12,
      "outputs": []
    },
    {
      "cell_type": "code",
      "metadata": {
        "id": "ul3XAbIyr7vC",
        "colab": {
          "base_uri": "https://localhost:8080/"
        },
        "outputId": "de0d230a-e56d-4258-ae53-73acd40736cc"
      },
      "source": [
        "print('total training cat images:', len(os.listdir(train_cats_dir)))\n",
        "print('total training dog images:', len(os.listdir(train_dogs_dir)))\n",
        "print('total validation cat images:', len(os.listdir(validation_cats_dir)))\n",
        "\n",
        "print('total validation dog images:', len(os.listdir(validation_dogs_dir)))\n",
        "print('total test cat images:', len(os.listdir(test_cats_dir)))\n",
        "print('total test dog images:', len(os.listdir(test_dogs_dir)))"
      ],
      "execution_count": 13,
      "outputs": [
        {
          "output_type": "stream",
          "text": [
            "total training cat images: 1000\n",
            "total training dog images: 1000\n",
            "total validation cat images: 500\n",
            "total validation dog images: 500\n",
            "total test cat images: 500\n",
            "total test dog images: 500\n"
          ],
          "name": "stdout"
        }
      ]
    },
    {
      "cell_type": "code",
      "metadata": {
        "id": "o9yTA21_r-ma",
        "colab": {
          "base_uri": "https://localhost:8080/"
        },
        "outputId": "699fdf6f-ca42-4e82-c3c3-379aa8cf2012"
      },
      "source": [
        "from keras import layers\n",
        "from keras import models\n",
        "\n",
        "model = models.Sequential()\n",
        "model.add(layers.Conv2D(32, (3, 3), activation='relu', input_shape=(150, 150, 3)))\n",
        "model.add(layers.MaxPooling2D((2, 2)))\n",
        "model.add(layers.Conv2D(64, (3, 3), activation='relu'))\n",
        "model.add(layers.MaxPooling2D((2, 2)))\n",
        "model.add(layers.Conv2D(128, (3, 3), activation='relu'))\n",
        "model.add(layers.MaxPooling2D((2, 2)))\n",
        "model.add(layers.Conv2D(128, (3, 3), activation='relu'))\n",
        "model.add(layers.MaxPooling2D((2, 2)))\n",
        "model.add(layers.Flatten())\n",
        "model.add(layers.Dense(512, activation='relu'))\n",
        "model.add(layers.Dense(1, activation='sigmoid'))\n",
        "model.summary()"
      ],
      "execution_count": 15,
      "outputs": [
        {
          "output_type": "stream",
          "text": [
            "Model: \"sequential\"\n",
            "_________________________________________________________________\n",
            "Layer (type)                 Output Shape              Param #   \n",
            "=================================================================\n",
            "conv2d (Conv2D)              (None, 148, 148, 32)      896       \n",
            "_________________________________________________________________\n",
            "max_pooling2d (MaxPooling2D) (None, 74, 74, 32)        0         \n",
            "_________________________________________________________________\n",
            "conv2d_1 (Conv2D)            (None, 72, 72, 64)        18496     \n",
            "_________________________________________________________________\n",
            "max_pooling2d_1 (MaxPooling2 (None, 36, 36, 64)        0         \n",
            "_________________________________________________________________\n",
            "conv2d_2 (Conv2D)            (None, 34, 34, 128)       73856     \n",
            "_________________________________________________________________\n",
            "max_pooling2d_2 (MaxPooling2 (None, 17, 17, 128)       0         \n",
            "_________________________________________________________________\n",
            "conv2d_3 (Conv2D)            (None, 15, 15, 128)       147584    \n",
            "_________________________________________________________________\n",
            "max_pooling2d_3 (MaxPooling2 (None, 7, 7, 128)         0         \n",
            "_________________________________________________________________\n",
            "flatten (Flatten)            (None, 6272)              0         \n",
            "_________________________________________________________________\n",
            "dense (Dense)                (None, 512)               3211776   \n",
            "_________________________________________________________________\n",
            "dense_1 (Dense)              (None, 1)                 513       \n",
            "=================================================================\n",
            "Total params: 3,453,121\n",
            "Trainable params: 3,453,121\n",
            "Non-trainable params: 0\n",
            "_________________________________________________________________\n"
          ],
          "name": "stdout"
        }
      ]
    },
    {
      "cell_type": "code",
      "metadata": {
        "id": "2mG8wekxsBVS"
      },
      "source": [
        "from keras import optimizers\n",
        "model.compile(loss='binary_crossentropy', \n",
        "              optimizer=optimizers.RMSprop(lr=1e-4),\n",
        "              metrics=['acc'])"
      ],
      "execution_count": 16,
      "outputs": []
    },
    {
      "cell_type": "markdown",
      "metadata": {
        "id": "7zS4Klm8qWp6"
      },
      "source": [
        "## Using ImageDataGenerator to read images from directories\n",
        "As you know by now, data should be formatted into appropriately preprocessed floatingpoint tensors before being fed into the network. Currently, the data sits on a drive as JPEG files, so the steps for getting it into the network are roughly as follows:\n",
        "\n",
        "* Read the picture files.\n",
        "* Decode the JPEG content to RGB grids of pixels.\n",
        "* Convert these into floating-point tensors.\n",
        "* Rescale the pixel values (between 0 and 255) to the [0, 1] interval (as you know, neural networks prefer to deal with small input values).\n",
        "\n",
        "It may seem a bit daunting, but fortunately Keras has utilities to take care of these steps automatically. Keras has a module with image-processing helper tools, located at keras.preprocessing.image. In particular, it contains the class ImageDataGenerator,which lets you quickly set up Python generators that can automatically turn image files on disk into batches of preprocessed tensors."
      ]
    },
    {
      "cell_type": "code",
      "metadata": {
        "id": "XJ7XU7t9sEh6",
        "colab": {
          "base_uri": "https://localhost:8080/"
        },
        "outputId": "d38b9e86-63cd-4642-c27f-32a453148aca"
      },
      "source": [
        "from keras.preprocessing.image import ImageDataGenerator\n",
        "\n",
        "train_datagen = ImageDataGenerator(rescale=1./255)\n",
        "test_datagen = ImageDataGenerator(rescale=1./255)\n",
        "\n",
        "train_generator = train_datagen.flow_from_directory(train_dir,\n",
        "                                                    target_size=(150, 150), \n",
        "                                                    batch_size=20,\n",
        "                                                    class_mode='binary')\n",
        "\n",
        "validation_generator = test_datagen.flow_from_directory(validation_dir,\n",
        "                                                        target_size=(150, 150),\n",
        "                                                        batch_size=20,\n",
        "                                                        class_mode='binary')"
      ],
      "execution_count": 17,
      "outputs": [
        {
          "output_type": "stream",
          "text": [
            "Found 2000 images belonging to 2 classes.\n",
            "Found 1000 images belonging to 2 classes.\n"
          ],
          "name": "stdout"
        }
      ]
    },
    {
      "cell_type": "markdown",
      "metadata": {
        "id": "SEgLywySqm4u"
      },
      "source": [
        "Let’s fit the model to the data using the generator. You do so using the fit_generator method, the equivalent of fit for data generators like this one. It expects as its first argument a Python generator that will yield batches of inputs and targets indefinitely,like this one does. Because the data is being generated endlessly, the Keras model needs to know how many samples to draw from the generator before declaring anepoch over. This is the role of the `steps_per_epoch` argument: after having drawn `steps_per_epoch` batches from the generator—that is, after having run for `steps_per_epoch` gradient descent steps—the fitting process will go to the next epoch. In this case, batches are 20 samples, so it will take 100 batches until you see your target of 2,000 samples.\n",
        "\n",
        "When using fit_generator, you can pass a validation_data argument, much as with the fit method. It’s important to note that this argument is allowed to be a data generator, but it could also be a tuple of Numpy arrays. If you pass a generator as validation_data, then this generator is expected to yield batches of validation data endlessly; thus you should also specify the validation_steps argument, which tells the process how many batches to draw from the validation generator for evaluation."
      ]
    },
    {
      "cell_type": "code",
      "metadata": {
        "id": "yMyfPphJsJG6",
        "colab": {
          "base_uri": "https://localhost:8080/"
        },
        "outputId": "b43e00b7-9540-4f7b-bcb1-164315a7df77"
      },
      "source": [
        "history = model.fit_generator(train_generator,\n",
        "                              steps_per_epoch=100,\n",
        "                              epochs=30,\n",
        "                              validation_data=validation_generator,\n",
        "                              validation_steps=10)"
      ],
      "execution_count": 18,
      "outputs": [
        {
          "output_type": "stream",
          "text": [
            "/usr/local/lib/python3.7/dist-packages/tensorflow/python/keras/engine/training.py:1844: UserWarning: `Model.fit_generator` is deprecated and will be removed in a future version. Please use `Model.fit`, which supports generators.\n",
            "  warnings.warn('`Model.fit_generator` is deprecated and '\n"
          ],
          "name": "stderr"
        },
        {
          "output_type": "stream",
          "text": [
            "Epoch 1/30\n",
            "100/100 [==============================] - 40s 69ms/step - loss: 0.6941 - acc: 0.5306 - val_loss: 0.6665 - val_acc: 0.6200\n",
            "Epoch 2/30\n",
            "100/100 [==============================] - 7s 69ms/step - loss: 0.6635 - acc: 0.5972 - val_loss: 0.6770 - val_acc: 0.5750\n",
            "Epoch 3/30\n",
            "100/100 [==============================] - 7s 67ms/step - loss: 0.6134 - acc: 0.6777 - val_loss: 0.6975 - val_acc: 0.5500\n",
            "Epoch 4/30\n",
            "100/100 [==============================] - 7s 68ms/step - loss: 0.5760 - acc: 0.6917 - val_loss: 0.6277 - val_acc: 0.6600\n",
            "Epoch 5/30\n",
            "100/100 [==============================] - 7s 67ms/step - loss: 0.5461 - acc: 0.7118 - val_loss: 0.6166 - val_acc: 0.6400\n",
            "Epoch 6/30\n",
            "100/100 [==============================] - 7s 67ms/step - loss: 0.5050 - acc: 0.7546 - val_loss: 0.5659 - val_acc: 0.6900\n",
            "Epoch 7/30\n",
            "100/100 [==============================] - 7s 66ms/step - loss: 0.4626 - acc: 0.7766 - val_loss: 0.5798 - val_acc: 0.7100\n",
            "Epoch 8/30\n",
            "100/100 [==============================] - 7s 68ms/step - loss: 0.4377 - acc: 0.7947 - val_loss: 0.5333 - val_acc: 0.7450\n",
            "Epoch 9/30\n",
            "100/100 [==============================] - 7s 67ms/step - loss: 0.4254 - acc: 0.7986 - val_loss: 0.5538 - val_acc: 0.7400\n",
            "Epoch 10/30\n",
            "100/100 [==============================] - 7s 67ms/step - loss: 0.3958 - acc: 0.8154 - val_loss: 0.5436 - val_acc: 0.7350\n",
            "Epoch 11/30\n",
            "100/100 [==============================] - 7s 67ms/step - loss: 0.3811 - acc: 0.8334 - val_loss: 0.5268 - val_acc: 0.7600\n",
            "Epoch 12/30\n",
            "100/100 [==============================] - 7s 67ms/step - loss: 0.3461 - acc: 0.8528 - val_loss: 0.5614 - val_acc: 0.6950\n",
            "Epoch 13/30\n",
            "100/100 [==============================] - 7s 68ms/step - loss: 0.3187 - acc: 0.8800 - val_loss: 0.6921 - val_acc: 0.7200\n",
            "Epoch 14/30\n",
            "100/100 [==============================] - 7s 67ms/step - loss: 0.2977 - acc: 0.8810 - val_loss: 0.5924 - val_acc: 0.7100\n",
            "Epoch 15/30\n",
            "100/100 [==============================] - 7s 68ms/step - loss: 0.2821 - acc: 0.8718 - val_loss: 0.5800 - val_acc: 0.7550\n",
            "Epoch 16/30\n",
            "100/100 [==============================] - 7s 68ms/step - loss: 0.2502 - acc: 0.8968 - val_loss: 0.5977 - val_acc: 0.7750\n",
            "Epoch 17/30\n",
            "100/100 [==============================] - 7s 70ms/step - loss: 0.2382 - acc: 0.9089 - val_loss: 0.5297 - val_acc: 0.7400\n",
            "Epoch 18/30\n",
            "100/100 [==============================] - 7s 67ms/step - loss: 0.2101 - acc: 0.9255 - val_loss: 0.5687 - val_acc: 0.7550\n",
            "Epoch 19/30\n",
            "100/100 [==============================] - 7s 67ms/step - loss: 0.2145 - acc: 0.9247 - val_loss: 0.5891 - val_acc: 0.7400\n",
            "Epoch 20/30\n",
            "100/100 [==============================] - 7s 68ms/step - loss: 0.1827 - acc: 0.9417 - val_loss: 0.6160 - val_acc: 0.7400\n",
            "Epoch 21/30\n",
            "100/100 [==============================] - 7s 67ms/step - loss: 0.1437 - acc: 0.9541 - val_loss: 0.5989 - val_acc: 0.7300\n",
            "Epoch 22/30\n",
            "100/100 [==============================] - 7s 68ms/step - loss: 0.1266 - acc: 0.9628 - val_loss: 0.7067 - val_acc: 0.7500\n",
            "Epoch 23/30\n",
            "100/100 [==============================] - 7s 67ms/step - loss: 0.1077 - acc: 0.9717 - val_loss: 0.7005 - val_acc: 0.7300\n",
            "Epoch 24/30\n",
            "100/100 [==============================] - 7s 68ms/step - loss: 0.1006 - acc: 0.9690 - val_loss: 0.8221 - val_acc: 0.7300\n",
            "Epoch 25/30\n",
            "100/100 [==============================] - 7s 68ms/step - loss: 0.0898 - acc: 0.9752 - val_loss: 0.8795 - val_acc: 0.6950\n",
            "Epoch 26/30\n",
            "100/100 [==============================] - 7s 69ms/step - loss: 0.0770 - acc: 0.9759 - val_loss: 0.9877 - val_acc: 0.7450\n",
            "Epoch 27/30\n",
            "100/100 [==============================] - 7s 69ms/step - loss: 0.0648 - acc: 0.9862 - val_loss: 1.0287 - val_acc: 0.7100\n",
            "Epoch 28/30\n",
            "100/100 [==============================] - 7s 69ms/step - loss: 0.0487 - acc: 0.9883 - val_loss: 1.0221 - val_acc: 0.7300\n",
            "Epoch 29/30\n",
            "100/100 [==============================] - 7s 68ms/step - loss: 0.0504 - acc: 0.9851 - val_loss: 1.0044 - val_acc: 0.7150\n",
            "Epoch 30/30\n",
            "100/100 [==============================] - 7s 68ms/step - loss: 0.0363 - acc: 0.9890 - val_loss: 0.9958 - val_acc: 0.7450\n"
          ],
          "name": "stdout"
        }
      ]
    },
    {
      "cell_type": "code",
      "metadata": {
        "id": "MZaZ2HWZsNUi",
        "colab": {
          "base_uri": "https://localhost:8080/",
          "height": 545
        },
        "outputId": "b6910835-5428-4588-c370-fa8f20827c81"
      },
      "source": [
        "model.save('cats_and_dogs_small_1.h5')\n",
        "\n",
        "import matplotlib.pyplot as plt\n",
        "\n",
        "acc = history.history['acc']\n",
        "val_acc = history.history['val_acc']\n",
        "loss = history.history['loss']\n",
        "val_loss = history.history['val_loss']\n",
        "\n",
        "epochs = range(1, len(acc) + 1)\n",
        "\n",
        "plt.plot(epochs, acc, 'bo', label='Training acc')\n",
        "plt.plot(epochs, val_acc, 'b', label='Validation acc')\n",
        "plt.title('Training and validation accuracy')\n",
        "plt.legend()\n",
        "\n",
        "plt.figure()\n",
        "\n",
        "plt.plot(epochs, loss, 'bo', label='Training loss')\n",
        "plt.plot(epochs, val_loss, 'b', label='Validation loss')\n",
        "plt.title('Training and validation loss')\n",
        "plt.legend()\n",
        "\n",
        "plt.show()"
      ],
      "execution_count": 19,
      "outputs": [
        {
          "output_type": "display_data",
          "data": {
            "image/png": "[encoded data removed]",
            "text/plain": [
              "<Figure size 432x288 with 1 Axes>"
            ]
          },
          "metadata": {
            "tags": [],
            "needs_background": "light"
          }
        },
        {
          "output_type": "display_data",
          "data": {
            "image/png": "[encoded data removed]",
            "text/plain": [
              "<Figure size 432x288 with 1 Axes>"
            ]
          },
          "metadata": {
            "tags": [],
            "needs_background": "light"
          }
        }
      ]
    },
    {
      "cell_type": "markdown",
      "metadata": {
        "id": "XKZmXmBcq_8-"
      },
      "source": [
        "## Convolutional Networks with Dropout\n",
        "\n",
        "![alt text](https://camo.githubusercontent.com/ee6fa1073247cd2c3d241300caf110d7a7541bc5/68747470733a2f2f63646e2d696d616765732d312e6d656469756d2e636f6d2f6d61782f3830302f312a4972644a355067684439596f4f7956415137334d4a772e676966)\n",
        "\n",
        "Ref: https://github.com/mneha4/Training-Neural-Nets---Guidelines"
      ]
    },
    {
      "cell_type": "code",
      "metadata": {
        "id": "wu3cqeYQrDeN"
      },
      "source": [
        "model = models.Sequential()\n",
        "model.add(layers.Conv2D(32, (3, 3), activation='relu',\n",
        "input_shape=(150, 150, 3)))\n",
        "model.add(layers.MaxPooling2D((2, 2)))\n",
        "model.add(layers.Conv2D(64, (3, 3), activation='relu'))\n",
        "model.add(layers.MaxPooling2D((2, 2)))\n",
        "model.add(layers.Conv2D(128, (3, 3), activation='relu'))\n",
        "model.add(layers.MaxPooling2D((2, 2)))\n",
        "model.add(layers.Conv2D(128, (3, 3), activation='relu'))\n",
        "model.add(layers.MaxPooling2D((2, 2)))\n",
        "model.add(layers.Flatten())\n",
        "model.add(layers.Dropout(0.5))\n",
        "model.add(layers.Dense(512, activation='relu'))\n",
        "model.add(layers.Dense(1, activation='sigmoid'))\n",
        "\n",
        "model.compile(loss='binary_crossentropy',\n",
        "              optimizer=optimizers.RMSprop(lr=1e-4),\n",
        "              metrics=['acc'])"
      ],
      "execution_count": 20,
      "outputs": []
    },
    {
      "cell_type": "code",
      "metadata": {
        "id": "QSeLpvY0rH7F",
        "colab": {
          "base_uri": "https://localhost:8080/"
        },
        "outputId": "13fbeb03-81bd-4eff-843f-402387449dca"
      },
      "source": [
        "\n",
        "train_datagen = ImageDataGenerator(rescale=1./255,\n",
        "                                   rotation_range=40,\n",
        "                                   width_shift_range=0.2,\n",
        "                                   height_shift_range=0.2,\n",
        "                                   shear_range=0.2,\n",
        "                                   zoom_range=0.2,\n",
        "                                   horizontal_flip=True,)\n",
        "\n",
        "test_datagen = ImageDataGenerator(rescale=1./255)\n",
        "\n",
        "train_generator = train_datagen.flow_from_directory(train_dir,\n",
        "                                                    target_size=(150, 150),\n",
        "                                                    batch_size=20,\n",
        "                                                    class_mode='binary')\n",
        "\n",
        "validation_generator = test_datagen.flow_from_directory(validation_dir,\n",
        "                                                        target_size=(150, 150),\n",
        "                                                        batch_size=20,\n",
        "                                                        class_mode='binary')\n",
        "\n",
        "history = model.fit_generator(train_generator,\n",
        "                              steps_per_epoch=100,\n",
        "                              epochs=20,\n",
        "                              validation_data=validation_generator,\n",
        "                              validation_steps=50)"
      ],
      "execution_count": 21,
      "outputs": [
        {
          "output_type": "stream",
          "text": [
            "Found 2000 images belonging to 2 classes.\n",
            "Found 1000 images belonging to 2 classes.\n"
          ],
          "name": "stdout"
        },
        {
          "output_type": "stream",
          "text": [
            "/usr/local/lib/python3.7/dist-packages/tensorflow/python/keras/engine/training.py:1844: UserWarning: `Model.fit_generator` is deprecated and will be removed in a future version. Please use `Model.fit`, which supports generators.\n",
            "  warnings.warn('`Model.fit_generator` is deprecated and '\n"
          ],
          "name": "stderr"
        },
        {
          "output_type": "stream",
          "text": [
            "Epoch 1/20\n",
            "100/100 [==============================] - 18s 174ms/step - loss: 0.6974 - acc: 0.5007 - val_loss: 0.6873 - val_acc: 0.5270\n",
            "Epoch 2/20\n",
            "100/100 [==============================] - 17s 172ms/step - loss: 0.6876 - acc: 0.5361 - val_loss: 0.6750 - val_acc: 0.6080\n",
            "Epoch 3/20\n",
            "100/100 [==============================] - 17s 171ms/step - loss: 0.6822 - acc: 0.5627 - val_loss: 0.6597 - val_acc: 0.5840\n",
            "Epoch 4/20\n",
            "100/100 [==============================] - 17s 172ms/step - loss: 0.6789 - acc: 0.5575 - val_loss: 0.6436 - val_acc: 0.6100\n",
            "Epoch 5/20\n",
            "100/100 [==============================] - 17s 173ms/step - loss: 0.6630 - acc: 0.5808 - val_loss: 0.6236 - val_acc: 0.6320\n",
            "Epoch 6/20\n",
            "100/100 [==============================] - 17s 173ms/step - loss: 0.6420 - acc: 0.6406 - val_loss: 0.6335 - val_acc: 0.6330\n",
            "Epoch 7/20\n",
            "100/100 [==============================] - 17s 173ms/step - loss: 0.6219 - acc: 0.6618 - val_loss: 0.6856 - val_acc: 0.5680\n",
            "Epoch 8/20\n",
            "100/100 [==============================] - 17s 171ms/step - loss: 0.6217 - acc: 0.6575 - val_loss: 0.5967 - val_acc: 0.6620\n",
            "Epoch 9/20\n",
            "100/100 [==============================] - 17s 172ms/step - loss: 0.6090 - acc: 0.6634 - val_loss: 0.5792 - val_acc: 0.6940\n",
            "Epoch 10/20\n",
            "100/100 [==============================] - 17s 173ms/step - loss: 0.6036 - acc: 0.6660 - val_loss: 0.5659 - val_acc: 0.6940\n",
            "Epoch 11/20\n",
            "100/100 [==============================] - 17s 172ms/step - loss: 0.6010 - acc: 0.6602 - val_loss: 0.7187 - val_acc: 0.5910\n",
            "Epoch 12/20\n",
            "100/100 [==============================] - 17s 172ms/step - loss: 0.6008 - acc: 0.6803 - val_loss: 0.5643 - val_acc: 0.6950\n",
            "Epoch 13/20\n",
            "100/100 [==============================] - 17s 172ms/step - loss: 0.5852 - acc: 0.6928 - val_loss: 0.5890 - val_acc: 0.6700\n",
            "Epoch 14/20\n",
            "100/100 [==============================] - 17s 173ms/step - loss: 0.5604 - acc: 0.7134 - val_loss: 0.5515 - val_acc: 0.7120\n",
            "Epoch 15/20\n",
            "100/100 [==============================] - 17s 174ms/step - loss: 0.5604 - acc: 0.6953 - val_loss: 0.5409 - val_acc: 0.7120\n",
            "Epoch 16/20\n",
            "100/100 [==============================] - 17s 173ms/step - loss: 0.5894 - acc: 0.6777 - val_loss: 0.5628 - val_acc: 0.7070\n",
            "Epoch 17/20\n",
            "100/100 [==============================] - 17s 172ms/step - loss: 0.5531 - acc: 0.7189 - val_loss: 0.6509 - val_acc: 0.6420\n",
            "Epoch 18/20\n",
            "100/100 [==============================] - 17s 174ms/step - loss: 0.5652 - acc: 0.7045 - val_loss: 0.5244 - val_acc: 0.7210\n",
            "Epoch 19/20\n",
            "100/100 [==============================] - 17s 174ms/step - loss: 0.5604 - acc: 0.7024 - val_loss: 0.5366 - val_acc: 0.7210\n",
            "Epoch 20/20\n",
            "100/100 [==============================] - 17s 173ms/step - loss: 0.5552 - acc: 0.7058 - val_loss: 0.6086 - val_acc: 0.6880\n"
          ],
          "name": "stdout"
        }
      ]
    },
    {
      "cell_type": "markdown",
      "metadata": {
        "id": "BRdU5yrkUF_b"
      },
      "source": [
        "# Task 2:\n",
        "\n",
        "We have used Dropout to enhance the performance of the CNN model. Can you please use whatever you like to further enhance the performance from `val_acc: 0.7506`? "
      ]
    },
    {
      "cell_type": "code",
      "metadata": {
        "id": "ZflLmq46P3_V"
      },
      "source": [
        "model_improve = models.Sequential()\r\n",
        "model_improve.add(layers.Conv2D(32, (3, 3), activation='relu',\r\n",
        "input_shape=(150, 150, 3)))\r\n",
        "model_improve.add(layers.MaxPooling2D((2, 2)))\r\n",
        "model_improve.add(layers.Conv2D(64, (3, 3), activation='relu'))\r\n",
        "model_improve.add(layers.MaxPooling2D((2, 2)))\r\n",
        "model_improve.add(layers.Conv2D(128, (3, 3), activation='relu'))\r\n",
        "model_improve.add(layers.MaxPooling2D((2, 2)))\r\n",
        "model_improve.add(layers.Conv2D(128, (3, 3), activation='relu'))\r\n",
        "model_improve.add(layers.MaxPooling2D((2, 2)))\r\n",
        "model_improve.add(layers.Flatten())\r\n",
        "model_improve.add(layers.BatchNormalization())\r\n",
        "model_improve.add(layers.Dense(512, activation='relu'))\r\n",
        "model_improve.add(layers.Dropout(0.3))\r\n",
        "model_improve.add(layers.Dense(1, activation='sigmoid'))\r\n",
        "\r\n",
        "model_improve.compile(loss='binary_crossentropy',\r\n",
        "              optimizer=optimizers.RMSprop(lr=1e-4),\r\n",
        "              metrics=['acc'])"
      ],
      "execution_count": 44,
      "outputs": []
    },
    {
      "cell_type": "code",
      "metadata": {
        "colab": {
          "base_uri": "https://localhost:8080/"
        },
        "id": "lEuQPB9qPyji",
        "outputId": "dd37316f-94a9-4383-e48a-cd002136a1d0"
      },
      "source": [
        "train_datagen = ImageDataGenerator(rescale=1./255,\r\n",
        "                                   rotation_range=40,\r\n",
        "                                   width_shift_range=0.2,\r\n",
        "                                   height_shift_range=0.2,\r\n",
        "                                   shear_range=0.2,\r\n",
        "                                   zoom_range=0.2,\r\n",
        "                                   horizontal_flip=True,)\r\n",
        "\r\n",
        "test_datagen = ImageDataGenerator(rescale=1./255)\r\n",
        "\r\n",
        "train_generator = train_datagen.flow_from_directory(train_dir,\r\n",
        "                                                    target_size=(150, 150),\r\n",
        "                                                    batch_size=20,\r\n",
        "                                                    class_mode='binary')\r\n",
        "\r\n",
        "validation_generator = test_datagen.flow_from_directory(validation_dir,\r\n",
        "                                                        target_size=(150, 150),\r\n",
        "                                                        batch_size=20,\r\n",
        "                                                        class_mode='binary')\r\n",
        "\r\n",
        "history = model_improve.fit_generator(train_generator,\r\n",
        "                              steps_per_epoch=100,\r\n",
        "                              epochs=20,\r\n",
        "                              validation_data=validation_generator,\r\n",
        "                              validation_steps=50)"
      ],
      "execution_count": 45,
      "outputs": [
        {
          "output_type": "stream",
          "text": [
            "Found 2000 images belonging to 2 classes.\n",
            "Found 1000 images belonging to 2 classes.\n"
          ],
          "name": "stdout"
        },
        {
          "output_type": "stream",
          "text": [
            "/usr/local/lib/python3.7/dist-packages/tensorflow/python/keras/engine/training.py:1844: UserWarning: `Model.fit_generator` is deprecated and will be removed in a future version. Please use `Model.fit`, which supports generators.\n",
            "  warnings.warn('`Model.fit_generator` is deprecated and '\n"
          ],
          "name": "stderr"
        },
        {
          "output_type": "stream",
          "text": [
            "Epoch 1/20\n",
            "100/100 [==============================] - 19s 178ms/step - loss: 0.7017 - acc: 0.5797 - val_loss: 0.6876 - val_acc: 0.5200\n",
            "Epoch 2/20\n",
            "100/100 [==============================] - 18s 176ms/step - loss: 0.6600 - acc: 0.6030 - val_loss: 0.6714 - val_acc: 0.6050\n",
            "Epoch 3/20\n",
            "100/100 [==============================] - 17s 171ms/step - loss: 0.6357 - acc: 0.6317 - val_loss: 0.6558 - val_acc: 0.6150\n",
            "Epoch 4/20\n",
            "100/100 [==============================] - 17s 173ms/step - loss: 0.5770 - acc: 0.6923 - val_loss: 0.6370 - val_acc: 0.6520\n",
            "Epoch 5/20\n",
            "100/100 [==============================] - 17s 172ms/step - loss: 0.6111 - acc: 0.6786 - val_loss: 0.6083 - val_acc: 0.6820\n",
            "Epoch 6/20\n",
            "100/100 [==============================] - 17s 171ms/step - loss: 0.5694 - acc: 0.6859 - val_loss: 0.6249 - val_acc: 0.6310\n",
            "Epoch 7/20\n",
            "100/100 [==============================] - 17s 170ms/step - loss: 0.5817 - acc: 0.6814 - val_loss: 0.5647 - val_acc: 0.7060\n",
            "Epoch 8/20\n",
            "100/100 [==============================] - 17s 170ms/step - loss: 0.5718 - acc: 0.6945 - val_loss: 0.5271 - val_acc: 0.7230\n",
            "Epoch 9/20\n",
            "100/100 [==============================] - 17s 170ms/step - loss: 0.5484 - acc: 0.7105 - val_loss: 0.5438 - val_acc: 0.7110\n",
            "Epoch 10/20\n",
            "100/100 [==============================] - 17s 171ms/step - loss: 0.5472 - acc: 0.7229 - val_loss: 0.5171 - val_acc: 0.7500\n",
            "Epoch 11/20\n",
            "100/100 [==============================] - 17s 169ms/step - loss: 0.5582 - acc: 0.7038 - val_loss: 0.7162 - val_acc: 0.6590\n",
            "Epoch 12/20\n",
            "100/100 [==============================] - 17s 170ms/step - loss: 0.5309 - acc: 0.7329 - val_loss: 0.7451 - val_acc: 0.6080\n",
            "Epoch 13/20\n",
            "100/100 [==============================] - 17s 169ms/step - loss: 0.5441 - acc: 0.7156 - val_loss: 0.5538 - val_acc: 0.7190\n",
            "Epoch 14/20\n",
            "100/100 [==============================] - 17s 169ms/step - loss: 0.5402 - acc: 0.7409 - val_loss: 0.5793 - val_acc: 0.7010\n",
            "Epoch 15/20\n",
            "100/100 [==============================] - 17s 172ms/step - loss: 0.5326 - acc: 0.7278 - val_loss: 0.8502 - val_acc: 0.6380\n",
            "Epoch 16/20\n",
            "100/100 [==============================] - 17s 170ms/step - loss: 0.5131 - acc: 0.7531 - val_loss: 0.6593 - val_acc: 0.6940\n",
            "Epoch 17/20\n",
            "100/100 [==============================] - 17s 173ms/step - loss: 0.5305 - acc: 0.7415 - val_loss: 0.6237 - val_acc: 0.7000\n",
            "Epoch 18/20\n",
            "100/100 [==============================] - 17s 173ms/step - loss: 0.4971 - acc: 0.7562 - val_loss: 0.5111 - val_acc: 0.7380\n",
            "Epoch 19/20\n",
            "100/100 [==============================] - 17s 174ms/step - loss: 0.5073 - acc: 0.7456 - val_loss: 0.5326 - val_acc: 0.7250\n",
            "Epoch 20/20\n",
            "100/100 [==============================] - 18s 176ms/step - loss: 0.5221 - acc: 0.7436 - val_loss: 0.4872 - val_acc: 0.7540\n"
          ],
          "name": "stdout"
        }
      ]
    },
    {
      "cell_type": "code",
      "metadata": {
        "id": "3xmQSZEuiIfq"
      },
      "source": [
        ""
      ],
      "execution_count": null,
      "outputs": []
    }
  ]
}